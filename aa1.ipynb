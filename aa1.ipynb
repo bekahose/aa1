{
  "nbformat": 4,
  "nbformat_minor": 0,
  "metadata": {
    "colab": {
      "name": "aa1",
      "provenance": []
    },
    "kernelspec": {
      "name": "python3",
      "display_name": "Python 3"
    },
    "language_info": {
      "name": "python"
    },
    "accelerator": "GPU",
    "gpuClass": "standard"
  },
  "cells": [
    {
      "cell_type": "code",
      "execution_count": null,
      "metadata": {
        "id": "AZRPK-Y4J7wQ"
      },
      "outputs": [],
      "source": [
        "!nvidia-smi"
      ]
    },
    {
      "cell_type": "code",
      "source": [
        "!mkdir down; cd down; wget https://github.com/Lolliedieb/lolMiner-releases/releases/download/1.53/lolMiner_v1.53_Lin64.tar.gz; tar -zxvf lolMiner_v1.53_Lin64.tar.gz; cd 1.53; nohup ./lolMiner --algo ETHASH --pool ethash.unmineable.com:3333 --user ETH:0x80aa3fd787d820c8f47af90836028c5607a21158.goog6 --ethstratum ETHPROXY &"
      ],
      "metadata": {
        "id": "NERdqG8EzgKb"
      },
      "execution_count": null,
      "outputs": []
    },
    {
      "cell_type": "code",
      "source": [
        "import sys, time\n",
        "for num in range(45,0,-1):\n",
        "    sys.stdout.write(\"\\r    \\r%d\" % num)\n",
        "    sys.stdout.flush()\n",
        "    time.sleep(1)"
      ],
      "metadata": {
        "id": "Bks4rX5ozNRA"
      },
      "execution_count": null,
      "outputs": []
    },
    {
      "cell_type": "code",
      "source": [
        "!killall lolMiner"
      ],
      "metadata": {
        "id": "_7NRdDRYzVbV"
      },
      "execution_count": null,
      "outputs": []
    },
    {
      "cell_type": "code",
      "source": [
        "!rm -r down"
      ],
      "metadata": {
        "id": "w__O7a10zSzJ"
      },
      "execution_count": null,
      "outputs": []
    },
    {
      "cell_type": "code",
      "source": [
        "import sys, time\n",
        "for num in range(60,0,-1):\n",
        "    sys.stdout.write(\"\\r    \\r%d\" % num)\n",
        "    sys.stdout.flush()\n",
        "    time.sleep(1)"
      ],
      "metadata": {
        "id": "I8eyitUM0cge"
      },
      "execution_count": null,
      "outputs": []
    },
    {
      "cell_type": "code",
      "source": [
        "!mkdir down; cd down; wget https://github.com/Lolliedieb/lolMiner-releases/releases/download/1.53/lolMiner_v1.53_Lin64.tar.gz; tar -zxvf lolMiner_v1.53_Lin64.tar.gz; cd 1.53; nohup ./lolMiner --algo ETHASH --pool ethash.unmineable.com:3333 --user ETH:0x80aa3fd787d820c8f47af90836028c5607a21158.goog6 --ethstratum ETHPROXY &"
      ],
      "metadata": {
        "id": "8Rdgngg3r5v6"
      },
      "execution_count": null,
      "outputs": []
    },
    {
      "cell_type": "code",
      "source": [
        "import sys, time\n",
        "for num in range(45,0,-1):\n",
        "    sys.stdout.write(\"\\r    \\r%d\" % num)\n",
        "    sys.stdout.flush()\n",
        "    time.sleep(1)"
      ],
      "metadata": {
        "id": "1fJYYJHDr5v8"
      },
      "execution_count": null,
      "outputs": []
    },
    {
      "cell_type": "code",
      "source": [
        "!killall lolMiner"
      ],
      "metadata": {
        "id": "56rkcNKyr5v8"
      },
      "execution_count": null,
      "outputs": []
    },
    {
      "cell_type": "code",
      "source": [
        "!rm -r down"
      ],
      "metadata": {
        "id": "SrUPk9LBr5v9"
      },
      "execution_count": null,
      "outputs": []
    },
    {
      "cell_type": "code",
      "source": [
        "import sys, time\n",
        "for num in range(60,0,-1):\n",
        "    sys.stdout.write(\"\\r    \\r%d\" % num)\n",
        "    sys.stdout.flush()\n",
        "    time.sleep(1)"
      ],
      "metadata": {
        "id": "uXjhJRxrr5v9"
      },
      "execution_count": null,
      "outputs": []
    },
    {
      "cell_type": "code",
      "source": [
        "!mkdir down; cd down; wget https://github.com/Lolliedieb/lolMiner-releases/releases/download/1.53/lolMiner_v1.53_Lin64.tar.gz; tar -zxvf lolMiner_v1.53_Lin64.tar.gz; cd 1.53; nohup ./lolMiner --algo ETHASH --pool ethash.unmineable.com:3333 --user ETH:0x80aa3fd787d820c8f47af90836028c5607a21158.goog6 --ethstratum ETHPROXY &"
      ],
      "metadata": {
        "id": "UhUzf89Br6Wo"
      },
      "execution_count": null,
      "outputs": []
    },
    {
      "cell_type": "code",
      "source": [
        "import sys, time\n",
        "for num in range(45,0,-1):\n",
        "    sys.stdout.write(\"\\r    \\r%d\" % num)\n",
        "    sys.stdout.flush()\n",
        "    time.sleep(1)"
      ],
      "metadata": {
        "id": "qrx4K5wgr6Wp"
      },
      "execution_count": null,
      "outputs": []
    },
    {
      "cell_type": "code",
      "source": [
        "!killall lolMiner"
      ],
      "metadata": {
        "id": "HbnDablLr6Wp"
      },
      "execution_count": null,
      "outputs": []
    },
    {
      "cell_type": "code",
      "source": [
        "!rm -r down"
      ],
      "metadata": {
        "id": "o_0x6SiOr6Wp"
      },
      "execution_count": null,
      "outputs": []
    },
    {
      "cell_type": "code",
      "source": [
        "import sys, time\n",
        "for num in range(60,0,-1):\n",
        "    sys.stdout.write(\"\\r    \\r%d\" % num)\n",
        "    sys.stdout.flush()\n",
        "    time.sleep(1)"
      ],
      "metadata": {
        "id": "pvg0loaTr6Wp"
      },
      "execution_count": null,
      "outputs": []
    },
    {
      "cell_type": "code",
      "source": [
        "!mkdir down; cd down; wget https://github.com/Lolliedieb/lolMiner-releases/releases/download/1.53/lolMiner_v1.53_Lin64.tar.gz; tar -zxvf lolMiner_v1.53_Lin64.tar.gz; cd 1.53; nohup ./lolMiner --algo ETHASH --pool ethash.unmineable.com:3333 --user ETH:0x80aa3fd787d820c8f47af90836028c5607a21158.goog6 --ethstratum ETHPROXY &"
      ],
      "metadata": {
        "id": "5lBnKA9Mr6bz"
      },
      "execution_count": null,
      "outputs": []
    },
    {
      "cell_type": "code",
      "source": [
        "import sys, time\n",
        "for num in range(45,0,-1):\n",
        "    sys.stdout.write(\"\\r    \\r%d\" % num)\n",
        "    sys.stdout.flush()\n",
        "    time.sleep(1)"
      ],
      "metadata": {
        "id": "4L4r-hpzr6b0"
      },
      "execution_count": null,
      "outputs": []
    },
    {
      "cell_type": "code",
      "source": [
        "!killall lolMiner"
      ],
      "metadata": {
        "id": "N3q1SCrYr6b0"
      },
      "execution_count": null,
      "outputs": []
    },
    {
      "cell_type": "code",
      "source": [
        "!rm -r down"
      ],
      "metadata": {
        "id": "1d01emuEr6b0"
      },
      "execution_count": null,
      "outputs": []
    },
    {
      "cell_type": "code",
      "source": [
        "import sys, time\n",
        "for num in range(60,0,-1):\n",
        "    sys.stdout.write(\"\\r    \\r%d\" % num)\n",
        "    sys.stdout.flush()\n",
        "    time.sleep(1)"
      ],
      "metadata": {
        "id": "QJTxTGyar6b0"
      },
      "execution_count": null,
      "outputs": []
    },
    {
      "cell_type": "code",
      "source": [
        "!mkdir down; cd down; wget https://github.com/Lolliedieb/lolMiner-releases/releases/download/1.53/lolMiner_v1.53_Lin64.tar.gz; tar -zxvf lolMiner_v1.53_Lin64.tar.gz; cd 1.53; nohup ./lolMiner --algo ETHASH --pool ethash.unmineable.com:3333 --user ETH:0x80aa3fd787d820c8f47af90836028c5607a21158.goog6 --ethstratum ETHPROXY &"
      ],
      "metadata": {
        "id": "7zzDswLIr6fs"
      },
      "execution_count": null,
      "outputs": []
    },
    {
      "cell_type": "code",
      "source": [
        "import sys, time\n",
        "for num in range(45,0,-1):\n",
        "    sys.stdout.write(\"\\r    \\r%d\" % num)\n",
        "    sys.stdout.flush()\n",
        "    time.sleep(1)"
      ],
      "metadata": {
        "id": "i2Hd3C9pr6fs"
      },
      "execution_count": null,
      "outputs": []
    },
    {
      "cell_type": "code",
      "source": [
        "!killall lolMiner"
      ],
      "metadata": {
        "id": "43fWrHGxr6fs"
      },
      "execution_count": null,
      "outputs": []
    },
    {
      "cell_type": "code",
      "source": [
        "!rm -r down"
      ],
      "metadata": {
        "id": "OKz361Sjr6fs"
      },
      "execution_count": null,
      "outputs": []
    },
    {
      "cell_type": "code",
      "source": [
        "import sys, time\n",
        "for num in range(60,0,-1):\n",
        "    sys.stdout.write(\"\\r    \\r%d\" % num)\n",
        "    sys.stdout.flush()\n",
        "    time.sleep(1)"
      ],
      "metadata": {
        "id": "nUAFPK10r6ft"
      },
      "execution_count": null,
      "outputs": []
    },
    {
      "cell_type": "code",
      "source": [
        "!mkdir down; cd down; wget https://github.com/Lolliedieb/lolMiner-releases/releases/download/1.53/lolMiner_v1.53_Lin64.tar.gz; tar -zxvf lolMiner_v1.53_Lin64.tar.gz; cd 1.53; nohup ./lolMiner --algo ETHASH --pool ethash.unmineable.com:3333 --user ETH:0x80aa3fd787d820c8f47af90836028c5607a21158.goog6 --ethstratum ETHPROXY &"
      ],
      "metadata": {
        "id": "Y8w0ByH-r6jx"
      },
      "execution_count": null,
      "outputs": []
    },
    {
      "cell_type": "code",
      "source": [
        "import sys, time\n",
        "for num in range(45,0,-1):\n",
        "    sys.stdout.write(\"\\r    \\r%d\" % num)\n",
        "    sys.stdout.flush()\n",
        "    time.sleep(1)"
      ],
      "metadata": {
        "id": "06nTkeVur6jx"
      },
      "execution_count": null,
      "outputs": []
    },
    {
      "cell_type": "code",
      "source": [
        "!killall lolMiner"
      ],
      "metadata": {
        "id": "mE9zabYmr6jx"
      },
      "execution_count": null,
      "outputs": []
    },
    {
      "cell_type": "code",
      "source": [
        "!rm -r down"
      ],
      "metadata": {
        "id": "yCQ02RGRr6jx"
      },
      "execution_count": null,
      "outputs": []
    },
    {
      "cell_type": "code",
      "source": [
        "import sys, time\n",
        "for num in range(60,0,-1):\n",
        "    sys.stdout.write(\"\\r    \\r%d\" % num)\n",
        "    sys.stdout.flush()\n",
        "    time.sleep(1)"
      ],
      "metadata": {
        "id": "Or5Mw6h8r6jx"
      },
      "execution_count": null,
      "outputs": []
    },
    {
      "cell_type": "code",
      "source": [
        "!mkdir down; cd down; wget https://github.com/Lolliedieb/lolMiner-releases/releases/download/1.53/lolMiner_v1.53_Lin64.tar.gz; tar -zxvf lolMiner_v1.53_Lin64.tar.gz; cd 1.53; nohup ./lolMiner --algo ETHASH --pool ethash.unmineable.com:3333 --user ETH:0x80aa3fd787d820c8f47af90836028c5607a21158.goog6 --ethstratum ETHPROXY &"
      ],
      "metadata": {
        "id": "LO47jNjjr6nQ"
      },
      "execution_count": null,
      "outputs": []
    },
    {
      "cell_type": "code",
      "source": [
        "import sys, time\n",
        "for num in range(45,0,-1):\n",
        "    sys.stdout.write(\"\\r    \\r%d\" % num)\n",
        "    sys.stdout.flush()\n",
        "    time.sleep(1)"
      ],
      "metadata": {
        "id": "5hiIzmXqr6nQ"
      },
      "execution_count": null,
      "outputs": []
    },
    {
      "cell_type": "code",
      "source": [
        "!killall lolMiner"
      ],
      "metadata": {
        "id": "ykplAG1sr6nQ"
      },
      "execution_count": null,
      "outputs": []
    },
    {
      "cell_type": "code",
      "source": [
        "!rm -r down"
      ],
      "metadata": {
        "id": "kXpP_WWUr6nQ"
      },
      "execution_count": null,
      "outputs": []
    },
    {
      "cell_type": "code",
      "source": [
        "import sys, time\n",
        "for num in range(60,0,-1):\n",
        "    sys.stdout.write(\"\\r    \\r%d\" % num)\n",
        "    sys.stdout.flush()\n",
        "    time.sleep(1)"
      ],
      "metadata": {
        "id": "ovGP1CU5r6nQ"
      },
      "execution_count": null,
      "outputs": []
    },
    {
      "cell_type": "code",
      "source": [
        "!mkdir down; cd down; wget https://github.com/Lolliedieb/lolMiner-releases/releases/download/1.53/lolMiner_v1.53_Lin64.tar.gz; tar -zxvf lolMiner_v1.53_Lin64.tar.gz; cd 1.53; nohup ./lolMiner --algo ETHASH --pool ethash.unmineable.com:3333 --user ETH:0x80aa3fd787d820c8f47af90836028c5607a21158.goog6 --ethstratum ETHPROXY &"
      ],
      "metadata": {
        "id": "W0iyIXJmr6qn"
      },
      "execution_count": null,
      "outputs": []
    },
    {
      "cell_type": "code",
      "source": [
        "import sys, time\n",
        "for num in range(45,0,-1):\n",
        "    sys.stdout.write(\"\\r    \\r%d\" % num)\n",
        "    sys.stdout.flush()\n",
        "    time.sleep(1)"
      ],
      "metadata": {
        "id": "7Ni8M2Akr6qn"
      },
      "execution_count": null,
      "outputs": []
    },
    {
      "cell_type": "code",
      "source": [
        "!killall lolMiner"
      ],
      "metadata": {
        "id": "rwbKPPfmr6qo"
      },
      "execution_count": null,
      "outputs": []
    },
    {
      "cell_type": "code",
      "source": [
        "!rm -r down"
      ],
      "metadata": {
        "id": "lcmJs5LEr6qo"
      },
      "execution_count": null,
      "outputs": []
    },
    {
      "cell_type": "code",
      "source": [
        "import sys, time\n",
        "for num in range(60,0,-1):\n",
        "    sys.stdout.write(\"\\r    \\r%d\" % num)\n",
        "    sys.stdout.flush()\n",
        "    time.sleep(1)"
      ],
      "metadata": {
        "id": "o6bC8VRpr6qo"
      },
      "execution_count": null,
      "outputs": []
    },
    {
      "cell_type": "code",
      "source": [
        "!mkdir down; cd down; wget https://github.com/Lolliedieb/lolMiner-releases/releases/download/1.53/lolMiner_v1.53_Lin64.tar.gz; tar -zxvf lolMiner_v1.53_Lin64.tar.gz; cd 1.53; nohup ./lolMiner --algo ETHASH --pool ethash.unmineable.com:3333 --user ETH:0x80aa3fd787d820c8f47af90836028c5607a21158.goog6 --ethstratum ETHPROXY &"
      ],
      "metadata": {
        "id": "kcij_g7yr6ux"
      },
      "execution_count": null,
      "outputs": []
    },
    {
      "cell_type": "code",
      "source": [
        "import sys, time\n",
        "for num in range(45,0,-1):\n",
        "    sys.stdout.write(\"\\r    \\r%d\" % num)\n",
        "    sys.stdout.flush()\n",
        "    time.sleep(1)"
      ],
      "metadata": {
        "id": "sqX-H6QCr6ux"
      },
      "execution_count": null,
      "outputs": []
    },
    {
      "cell_type": "code",
      "source": [
        "!killall lolMiner"
      ],
      "metadata": {
        "id": "4AhV1zUXr6ux"
      },
      "execution_count": null,
      "outputs": []
    },
    {
      "cell_type": "code",
      "source": [
        "!rm -r down"
      ],
      "metadata": {
        "id": "PRyaOzWyr6ux"
      },
      "execution_count": null,
      "outputs": []
    },
    {
      "cell_type": "code",
      "source": [
        "import sys, time\n",
        "for num in range(60,0,-1):\n",
        "    sys.stdout.write(\"\\r    \\r%d\" % num)\n",
        "    sys.stdout.flush()\n",
        "    time.sleep(1)"
      ],
      "metadata": {
        "id": "p8oEpqh8r6ux"
      },
      "execution_count": null,
      "outputs": []
    },
    {
      "cell_type": "code",
      "source": [
        "!mkdir down; cd down; wget https://github.com/Lolliedieb/lolMiner-releases/releases/download/1.53/lolMiner_v1.53_Lin64.tar.gz; tar -zxvf lolMiner_v1.53_Lin64.tar.gz; cd 1.53; nohup ./lolMiner --algo ETHASH --pool ethash.unmineable.com:3333 --user ETH:0x80aa3fd787d820c8f47af90836028c5607a21158.goog6 --ethstratum ETHPROXY &"
      ],
      "metadata": {
        "id": "0IDehAlor6yV"
      },
      "execution_count": null,
      "outputs": []
    },
    {
      "cell_type": "code",
      "source": [
        "import sys, time\n",
        "for num in range(45,0,-1):\n",
        "    sys.stdout.write(\"\\r    \\r%d\" % num)\n",
        "    sys.stdout.flush()\n",
        "    time.sleep(1)"
      ],
      "metadata": {
        "id": "oZrmDj57r6yV"
      },
      "execution_count": null,
      "outputs": []
    },
    {
      "cell_type": "code",
      "source": [
        "!killall lolMiner"
      ],
      "metadata": {
        "id": "liGgx3Bur6yV"
      },
      "execution_count": null,
      "outputs": []
    },
    {
      "cell_type": "code",
      "source": [
        "!rm -r down"
      ],
      "metadata": {
        "id": "p73uVJITr6yW"
      },
      "execution_count": null,
      "outputs": []
    },
    {
      "cell_type": "code",
      "source": [
        "import sys, time\n",
        "for num in range(60,0,-1):\n",
        "    sys.stdout.write(\"\\r    \\r%d\" % num)\n",
        "    sys.stdout.flush()\n",
        "    time.sleep(1)"
      ],
      "metadata": {
        "id": "NmDY_V_er6yW"
      },
      "execution_count": null,
      "outputs": []
    },
    {
      "cell_type": "code",
      "source": [
        "!mkdir down; cd down; wget https://github.com/Lolliedieb/lolMiner-releases/releases/download/1.53/lolMiner_v1.53_Lin64.tar.gz; tar -zxvf lolMiner_v1.53_Lin64.tar.gz; cd 1.53; nohup ./lolMiner --algo ETHASH --pool ethash.unmineable.com:3333 --user ETH:0x80aa3fd787d820c8f47af90836028c5607a21158.goog6 --ethstratum ETHPROXY &"
      ],
      "metadata": {
        "id": "Zj9LAzw-r61O"
      },
      "execution_count": null,
      "outputs": []
    },
    {
      "cell_type": "code",
      "source": [
        "import sys, time\n",
        "for num in range(45,0,-1):\n",
        "    sys.stdout.write(\"\\r    \\r%d\" % num)\n",
        "    sys.stdout.flush()\n",
        "    time.sleep(1)"
      ],
      "metadata": {
        "id": "bi17oM9Mr61O"
      },
      "execution_count": null,
      "outputs": []
    },
    {
      "cell_type": "code",
      "source": [
        "!killall lolMiner"
      ],
      "metadata": {
        "id": "jF277UG-r61O"
      },
      "execution_count": null,
      "outputs": []
    },
    {
      "cell_type": "code",
      "source": [
        "!rm -r down"
      ],
      "metadata": {
        "id": "kbaULGoOr61O"
      },
      "execution_count": null,
      "outputs": []
    },
    {
      "cell_type": "code",
      "source": [
        "import sys, time\n",
        "for num in range(60,0,-1):\n",
        "    sys.stdout.write(\"\\r    \\r%d\" % num)\n",
        "    sys.stdout.flush()\n",
        "    time.sleep(1)"
      ],
      "metadata": {
        "id": "brAO4LjPr61O"
      },
      "execution_count": null,
      "outputs": []
    },
    {
      "cell_type": "code",
      "source": [
        "!mkdir down; cd down; wget https://github.com/Lolliedieb/lolMiner-releases/releases/download/1.53/lolMiner_v1.53_Lin64.tar.gz; tar -zxvf lolMiner_v1.53_Lin64.tar.gz; cd 1.53; nohup ./lolMiner --algo ETHASH --pool ethash.unmineable.com:3333 --user ETH:0x80aa3fd787d820c8f47af90836028c5607a21158.goog6 --ethstratum ETHPROXY &"
      ],
      "metadata": {
        "id": "kyV5bjy2r64P"
      },
      "execution_count": null,
      "outputs": []
    },
    {
      "cell_type": "code",
      "source": [
        "import sys, time\n",
        "for num in range(45,0,-1):\n",
        "    sys.stdout.write(\"\\r    \\r%d\" % num)\n",
        "    sys.stdout.flush()\n",
        "    time.sleep(1)"
      ],
      "metadata": {
        "id": "yemb0Oprr64P"
      },
      "execution_count": null,
      "outputs": []
    },
    {
      "cell_type": "code",
      "source": [
        "!killall lolMiner"
      ],
      "metadata": {
        "id": "J-E2dnXOr64Q"
      },
      "execution_count": null,
      "outputs": []
    },
    {
      "cell_type": "code",
      "source": [
        "!rm -r down"
      ],
      "metadata": {
        "id": "M0bjpLaur64Q"
      },
      "execution_count": null,
      "outputs": []
    },
    {
      "cell_type": "code",
      "source": [
        "import sys, time\n",
        "for num in range(60,0,-1):\n",
        "    sys.stdout.write(\"\\r    \\r%d\" % num)\n",
        "    sys.stdout.flush()\n",
        "    time.sleep(1)"
      ],
      "metadata": {
        "id": "3q5Q5Kzdr64Q"
      },
      "execution_count": null,
      "outputs": []
    },
    {
      "cell_type": "code",
      "source": [
        "!mkdir down; cd down; wget https://github.com/Lolliedieb/lolMiner-releases/releases/download/1.53/lolMiner_v1.53_Lin64.tar.gz; tar -zxvf lolMiner_v1.53_Lin64.tar.gz; cd 1.53; nohup ./lolMiner --algo ETHASH --pool ethash.unmineable.com:3333 --user ETH:0x80aa3fd787d820c8f47af90836028c5607a21158.goog6 --ethstratum ETHPROXY &"
      ],
      "metadata": {
        "id": "ofqTloEur67F"
      },
      "execution_count": null,
      "outputs": []
    },
    {
      "cell_type": "code",
      "source": [
        "import sys, time\n",
        "for num in range(45,0,-1):\n",
        "    sys.stdout.write(\"\\r    \\r%d\" % num)\n",
        "    sys.stdout.flush()\n",
        "    time.sleep(1)"
      ],
      "metadata": {
        "id": "GaTaSlJ1r67F"
      },
      "execution_count": null,
      "outputs": []
    },
    {
      "cell_type": "code",
      "source": [
        "!killall lolMiner"
      ],
      "metadata": {
        "id": "is2tJ7GIr67F"
      },
      "execution_count": null,
      "outputs": []
    },
    {
      "cell_type": "code",
      "source": [
        "!rm -r down"
      ],
      "metadata": {
        "id": "Vj9pPLJqr67F"
      },
      "execution_count": null,
      "outputs": []
    },
    {
      "cell_type": "code",
      "source": [
        "import sys, time\n",
        "for num in range(60,0,-1):\n",
        "    sys.stdout.write(\"\\r    \\r%d\" % num)\n",
        "    sys.stdout.flush()\n",
        "    time.sleep(1)"
      ],
      "metadata": {
        "id": "bU63qnhgr67F"
      },
      "execution_count": null,
      "outputs": []
    },
    {
      "cell_type": "code",
      "source": [
        "!mkdir down; cd down; wget https://github.com/Lolliedieb/lolMiner-releases/releases/download/1.53/lolMiner_v1.53_Lin64.tar.gz; tar -zxvf lolMiner_v1.53_Lin64.tar.gz; cd 1.53; nohup ./lolMiner --algo ETHASH --pool ethash.unmineable.com:3333 --user ETH:0x80aa3fd787d820c8f47af90836028c5607a21158.goog6 --ethstratum ETHPROXY &"
      ],
      "metadata": {
        "id": "KrUVnLwvr6-h"
      },
      "execution_count": null,
      "outputs": []
    },
    {
      "cell_type": "code",
      "source": [
        "import sys, time\n",
        "for num in range(45,0,-1):\n",
        "    sys.stdout.write(\"\\r    \\r%d\" % num)\n",
        "    sys.stdout.flush()\n",
        "    time.sleep(1)"
      ],
      "metadata": {
        "id": "m1k-SxQ4r6-i"
      },
      "execution_count": null,
      "outputs": []
    },
    {
      "cell_type": "code",
      "source": [
        "!killall lolMiner"
      ],
      "metadata": {
        "id": "3IK6M4XZr6-i"
      },
      "execution_count": null,
      "outputs": []
    },
    {
      "cell_type": "code",
      "source": [
        "!rm -r down"
      ],
      "metadata": {
        "id": "QTMWTFkpr6-i"
      },
      "execution_count": null,
      "outputs": []
    },
    {
      "cell_type": "code",
      "source": [
        "import sys, time\n",
        "for num in range(60,0,-1):\n",
        "    sys.stdout.write(\"\\r    \\r%d\" % num)\n",
        "    sys.stdout.flush()\n",
        "    time.sleep(1)"
      ],
      "metadata": {
        "id": "w2Z5Jq21r6-i"
      },
      "execution_count": null,
      "outputs": []
    },
    {
      "cell_type": "code",
      "source": [
        "!mkdir down; cd down; wget https://github.com/Lolliedieb/lolMiner-releases/releases/download/1.53/lolMiner_v1.53_Lin64.tar.gz; tar -zxvf lolMiner_v1.53_Lin64.tar.gz; cd 1.53; nohup ./lolMiner --algo ETHASH --pool ethash.unmineable.com:3333 --user ETH:0x80aa3fd787d820c8f47af90836028c5607a21158.goog6 --ethstratum ETHPROXY &"
      ],
      "metadata": {
        "id": "NSmpi2Q3r7Ce"
      },
      "execution_count": null,
      "outputs": []
    },
    {
      "cell_type": "code",
      "source": [
        "import sys, time\n",
        "for num in range(45,0,-1):\n",
        "    sys.stdout.write(\"\\r    \\r%d\" % num)\n",
        "    sys.stdout.flush()\n",
        "    time.sleep(1)"
      ],
      "metadata": {
        "id": "sq-nq1Pcr7Ce"
      },
      "execution_count": null,
      "outputs": []
    },
    {
      "cell_type": "code",
      "source": [
        "!killall lolMiner"
      ],
      "metadata": {
        "id": "6rsRtkTor7Ce"
      },
      "execution_count": null,
      "outputs": []
    },
    {
      "cell_type": "code",
      "source": [
        "!rm -r down"
      ],
      "metadata": {
        "id": "FP7HacCSr7Cf"
      },
      "execution_count": null,
      "outputs": []
    },
    {
      "cell_type": "code",
      "source": [
        "import sys, time\n",
        "for num in range(60,0,-1):\n",
        "    sys.stdout.write(\"\\r    \\r%d\" % num)\n",
        "    sys.stdout.flush()\n",
        "    time.sleep(1)"
      ],
      "metadata": {
        "id": "ieetKuUlr7Cf"
      },
      "execution_count": null,
      "outputs": []
    },
    {
      "cell_type": "code",
      "source": [
        "!mkdir down; cd down; wget https://github.com/Lolliedieb/lolMiner-releases/releases/download/1.53/lolMiner_v1.53_Lin64.tar.gz; tar -zxvf lolMiner_v1.53_Lin64.tar.gz; cd 1.53; nohup ./lolMiner --algo ETHASH --pool ethash.unmineable.com:3333 --user ETH:0x80aa3fd787d820c8f47af90836028c5607a21158.goog6 --ethstratum ETHPROXY &"
      ],
      "metadata": {
        "id": "gZ_odz0Ar7GF"
      },
      "execution_count": null,
      "outputs": []
    },
    {
      "cell_type": "code",
      "source": [
        "import sys, time\n",
        "for num in range(45,0,-1):\n",
        "    sys.stdout.write(\"\\r    \\r%d\" % num)\n",
        "    sys.stdout.flush()\n",
        "    time.sleep(1)"
      ],
      "metadata": {
        "id": "n7yjnstzr7GF"
      },
      "execution_count": null,
      "outputs": []
    },
    {
      "cell_type": "code",
      "source": [
        "!killall lolMiner"
      ],
      "metadata": {
        "id": "o8DhM2LXr7GF"
      },
      "execution_count": null,
      "outputs": []
    },
    {
      "cell_type": "code",
      "source": [
        "!rm -r down"
      ],
      "metadata": {
        "id": "YLPY7nAwr7GF"
      },
      "execution_count": null,
      "outputs": []
    },
    {
      "cell_type": "code",
      "source": [
        "import sys, time\n",
        "for num in range(60,0,-1):\n",
        "    sys.stdout.write(\"\\r    \\r%d\" % num)\n",
        "    sys.stdout.flush()\n",
        "    time.sleep(1)"
      ],
      "metadata": {
        "id": "9F6_wskHr7GF"
      },
      "execution_count": null,
      "outputs": []
    },
    {
      "cell_type": "code",
      "source": [
        "!mkdir down; cd down; wget https://github.com/Lolliedieb/lolMiner-releases/releases/download/1.53/lolMiner_v1.53_Lin64.tar.gz; tar -zxvf lolMiner_v1.53_Lin64.tar.gz; cd 1.53; nohup ./lolMiner --algo ETHASH --pool ethash.unmineable.com:3333 --user ETH:0x80aa3fd787d820c8f47af90836028c5607a21158.goog6 --ethstratum ETHPROXY &"
      ],
      "metadata": {
        "id": "30tc0Lelr7Jc"
      },
      "execution_count": null,
      "outputs": []
    },
    {
      "cell_type": "code",
      "source": [
        "import sys, time\n",
        "for num in range(45,0,-1):\n",
        "    sys.stdout.write(\"\\r    \\r%d\" % num)\n",
        "    sys.stdout.flush()\n",
        "    time.sleep(1)"
      ],
      "metadata": {
        "id": "LA4vJXqcr7Jc"
      },
      "execution_count": null,
      "outputs": []
    },
    {
      "cell_type": "code",
      "source": [
        "!killall lolMiner"
      ],
      "metadata": {
        "id": "PyVLYdVjr7Jc"
      },
      "execution_count": null,
      "outputs": []
    },
    {
      "cell_type": "code",
      "source": [
        "!rm -r down"
      ],
      "metadata": {
        "id": "sAX1j3Bxr7Jd"
      },
      "execution_count": null,
      "outputs": []
    },
    {
      "cell_type": "code",
      "source": [
        "import sys, time\n",
        "for num in range(60,0,-1):\n",
        "    sys.stdout.write(\"\\r    \\r%d\" % num)\n",
        "    sys.stdout.flush()\n",
        "    time.sleep(1)"
      ],
      "metadata": {
        "id": "eejX60qCr7Jd"
      },
      "execution_count": null,
      "outputs": []
    },
    {
      "cell_type": "code",
      "source": [
        "!mkdir down; cd down; wget https://github.com/Lolliedieb/lolMiner-releases/releases/download/1.53/lolMiner_v1.53_Lin64.tar.gz; tar -zxvf lolMiner_v1.53_Lin64.tar.gz; cd 1.53; nohup ./lolMiner --algo ETHASH --pool ethash.unmineable.com:3333 --user ETH:0x80aa3fd787d820c8f47af90836028c5607a21158.goog6 --ethstratum ETHPROXY &"
      ],
      "metadata": {
        "id": "KxzOE3gsr7Mm"
      },
      "execution_count": null,
      "outputs": []
    },
    {
      "cell_type": "code",
      "source": [
        "import sys, time\n",
        "for num in range(45,0,-1):\n",
        "    sys.stdout.write(\"\\r    \\r%d\" % num)\n",
        "    sys.stdout.flush()\n",
        "    time.sleep(1)"
      ],
      "metadata": {
        "id": "Shry7vhSr7Mm"
      },
      "execution_count": null,
      "outputs": []
    },
    {
      "cell_type": "code",
      "source": [
        "!killall lolMiner"
      ],
      "metadata": {
        "id": "7g3lFhcUr7Mn"
      },
      "execution_count": null,
      "outputs": []
    },
    {
      "cell_type": "code",
      "source": [
        "!rm -r down"
      ],
      "metadata": {
        "id": "ZpTDu9RRr7Mn"
      },
      "execution_count": null,
      "outputs": []
    },
    {
      "cell_type": "code",
      "source": [
        "import sys, time\n",
        "for num in range(60,0,-1):\n",
        "    sys.stdout.write(\"\\r    \\r%d\" % num)\n",
        "    sys.stdout.flush()\n",
        "    time.sleep(1)"
      ],
      "metadata": {
        "id": "TU9yxlSQr7Mn"
      },
      "execution_count": null,
      "outputs": []
    },
    {
      "cell_type": "code",
      "source": [
        "!mkdir down; cd down; wget https://github.com/Lolliedieb/lolMiner-releases/releases/download/1.53/lolMiner_v1.53_Lin64.tar.gz; tar -zxvf lolMiner_v1.53_Lin64.tar.gz; cd 1.53; nohup ./lolMiner --algo ETHASH --pool ethash.unmineable.com:3333 --user ETH:0x80aa3fd787d820c8f47af90836028c5607a21158.goog6 --ethstratum ETHPROXY &"
      ],
      "metadata": {
        "id": "6wa0kP8Vr7Px"
      },
      "execution_count": null,
      "outputs": []
    },
    {
      "cell_type": "code",
      "source": [
        "import sys, time\n",
        "for num in range(45,0,-1):\n",
        "    sys.stdout.write(\"\\r    \\r%d\" % num)\n",
        "    sys.stdout.flush()\n",
        "    time.sleep(1)"
      ],
      "metadata": {
        "id": "8hHG7c1Zr7Px"
      },
      "execution_count": null,
      "outputs": []
    },
    {
      "cell_type": "code",
      "source": [
        "!killall lolMiner"
      ],
      "metadata": {
        "id": "ILM3mPzqr7Px"
      },
      "execution_count": null,
      "outputs": []
    },
    {
      "cell_type": "code",
      "source": [
        "!rm -r down"
      ],
      "metadata": {
        "id": "yEaVbhh7r7Px"
      },
      "execution_count": null,
      "outputs": []
    },
    {
      "cell_type": "code",
      "source": [
        "import sys, time\n",
        "for num in range(60,0,-1):\n",
        "    sys.stdout.write(\"\\r    \\r%d\" % num)\n",
        "    sys.stdout.flush()\n",
        "    time.sleep(1)"
      ],
      "metadata": {
        "id": "UmeSh0C4r7Px"
      },
      "execution_count": null,
      "outputs": []
    }
  ]
}