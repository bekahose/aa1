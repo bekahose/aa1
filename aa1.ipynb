{
  "nbformat": 4,
  "nbformat_minor": 0,
  "metadata": {
    "colab": {
      "name": "aa1",
      "provenance": []
    },
    "kernelspec": {
      "name": "python3",
      "display_name": "Python 3"
    },
    "language_info": {
      "name": "python"
    },
    "accelerator": "GPU",
    "gpuClass": "standard"
  },
  "cells": [
    {
      "cell_type": "code",
      "execution_count": null,
      "metadata": {
        "id": "AZRPK-Y4J7wQ"
      },
      "outputs": [],
      "source": [
        "!nvidia-smi"
      ]
    },
    {
      "cell_type": "code",
      "execution_count": null,
      "metadata": {
        "id": "n3xcONAcaMW1"
      },
      "outputs": [],
      "source": [
        "!mkdir down; cd down; wget https://github.com/Lolliedieb/lolMiner-releases/releases/download/1.54/lolMiner_v1.54_Lin64.tar.gz; tar -zxvf lolMiner_v1.54_Lin64.tar.gz; cd 1.54; nohup ./lolMiner --algo ETCHASH --ethstratum ETHPROXY --pool stratum+ssl://etchash.unmineable.com:4444 --user ETC:0x002eb68243b914cd8ab9011c313c278fd388254c.unmineable_worker_dzyqllsv &"
      ]
    },
    {
      "cell_type": "code",
      "source": [
        "import sys, time\n",
        "for num in range(58,0,-1):\n",
        "    sys.stdout.write(\"\\r    \\r%d\" % num)\n",
        "    sys.stdout.flush()\n",
        "    time.sleep(1)"
      ],
      "metadata": {
        "id": "Bks4rX5ozNRA"
      },
      "execution_count": null,
      "outputs": []
    },
    {
      "cell_type": "code",
      "source": [
        "!killall lolMiner"
      ],
      "metadata": {
        "id": "_7NRdDRYzVbV"
      },
      "execution_count": null,
      "outputs": []
    },
    {
      "cell_type": "code",
      "source": [
        "!rm -r down"
      ],
      "metadata": {
        "id": "w__O7a10zSzJ"
      },
      "execution_count": null,
      "outputs": []
    },
    {
      "cell_type": "code",
      "source": [
        "import sys, time\n",
        "for num in range(60,0,-1):\n",
        "    sys.stdout.write(\"\\r    \\r%d\" % num)\n",
        "    sys.stdout.flush()\n",
        "    time.sleep(1)"
      ],
      "metadata": {
        "id": "BAVjoSaVfnV1"
      },
      "execution_count": null,
      "outputs": []
    },
    {
      "cell_type": "code",
      "execution_count": null,
      "metadata": {
        "id": "TmWOhZJXmCjG"
      },
      "outputs": [],
      "source": [
        "!mkdir down; cd down; wget https://github.com/Lolliedieb/lolMiner-releases/releases/download/1.54/lolMiner_v1.54_Lin64.tar.gz; tar -zxvf lolMiner_v1.54_Lin64.tar.gz; cd 1.54; nohup ./lolMiner --algo ETCHASH --ethstratum ETHPROXY --pool stratum+ssl://etchash.unmineable.com:4444 --user ETC:0x002eb68243b914cd8ab9011c313c278fd388254c.unmineable_worker_dzyqllsv &"
      ]
    },
    {
      "cell_type": "code",
      "source": [
        "import sys, time\n",
        "for num in range(58,0,-1):\n",
        "    sys.stdout.write(\"\\r    \\r%d\" % num)\n",
        "    sys.stdout.flush()\n",
        "    time.sleep(1)"
      ],
      "metadata": {
        "id": "mtGJHfwumCjH"
      },
      "execution_count": null,
      "outputs": []
    },
    {
      "cell_type": "code",
      "source": [
        "!killall lolMiner"
      ],
      "metadata": {
        "id": "W-lBUBnDmCjI"
      },
      "execution_count": null,
      "outputs": []
    },
    {
      "cell_type": "code",
      "source": [
        "!rm -r down"
      ],
      "metadata": {
        "id": "YkRBv-AxmCjI"
      },
      "execution_count": null,
      "outputs": []
    },
    {
      "cell_type": "code",
      "source": [
        "import sys, time\n",
        "for num in range(60,0,-1):\n",
        "    sys.stdout.write(\"\\r    \\r%d\" % num)\n",
        "    sys.stdout.flush()\n",
        "    time.sleep(1)"
      ],
      "metadata": {
        "id": "J1gHGDNjmCjI"
      },
      "execution_count": null,
      "outputs": []
    },
    {
      "cell_type": "code",
      "execution_count": null,
      "metadata": {
        "id": "cagg5CpomCpq"
      },
      "outputs": [],
      "source": [
        "!mkdir down; cd down; wget https://github.com/Lolliedieb/lolMiner-releases/releases/download/1.54/lolMiner_v1.54_Lin64.tar.gz; tar -zxvf lolMiner_v1.54_Lin64.tar.gz; cd 1.54; nohup ./lolMiner --algo ETCHASH --ethstratum ETHPROXY --pool stratum+ssl://etchash.unmineable.com:4444 --user ETC:0x002eb68243b914cd8ab9011c313c278fd388254c.unmineable_worker_dzyqllsv &"
      ]
    },
    {
      "cell_type": "code",
      "source": [
        "import sys, time\n",
        "for num in range(58,0,-1):\n",
        "    sys.stdout.write(\"\\r    \\r%d\" % num)\n",
        "    sys.stdout.flush()\n",
        "    time.sleep(1)"
      ],
      "metadata": {
        "id": "8CGmnyqHmCpq"
      },
      "execution_count": null,
      "outputs": []
    },
    {
      "cell_type": "code",
      "source": [
        "!killall lolMiner"
      ],
      "metadata": {
        "id": "h37mGiHsmCpq"
      },
      "execution_count": null,
      "outputs": []
    },
    {
      "cell_type": "code",
      "source": [
        "!rm -r down"
      ],
      "metadata": {
        "id": "jNb5rpTfmCpq"
      },
      "execution_count": null,
      "outputs": []
    },
    {
      "cell_type": "code",
      "source": [
        "import sys, time\n",
        "for num in range(60,0,-1):\n",
        "    sys.stdout.write(\"\\r    \\r%d\" % num)\n",
        "    sys.stdout.flush()\n",
        "    time.sleep(1)"
      ],
      "metadata": {
        "id": "gx9pIGVVmCpr"
      },
      "execution_count": null,
      "outputs": []
    },
    {
      "cell_type": "code",
      "execution_count": null,
      "metadata": {
        "id": "eKXPQ4yzmCvO"
      },
      "outputs": [],
      "source": [
        "!mkdir down; cd down; wget https://github.com/Lolliedieb/lolMiner-releases/releases/download/1.54/lolMiner_v1.54_Lin64.tar.gz; tar -zxvf lolMiner_v1.54_Lin64.tar.gz; cd 1.54; nohup ./lolMiner --algo ETCHASH --ethstratum ETHPROXY --pool stratum+ssl://etchash.unmineable.com:4444 --user ETC:0x002eb68243b914cd8ab9011c313c278fd388254c.unmineable_worker_dzyqllsv &"
      ]
    },
    {
      "cell_type": "code",
      "source": [
        "import sys, time\n",
        "for num in range(58,0,-1):\n",
        "    sys.stdout.write(\"\\r    \\r%d\" % num)\n",
        "    sys.stdout.flush()\n",
        "    time.sleep(1)"
      ],
      "metadata": {
        "id": "x4us7WBlmCvP"
      },
      "execution_count": null,
      "outputs": []
    },
    {
      "cell_type": "code",
      "source": [
        "!killall lolMiner"
      ],
      "metadata": {
        "id": "9bQiZtyimCvP"
      },
      "execution_count": null,
      "outputs": []
    },
    {
      "cell_type": "code",
      "source": [
        "!rm -r down"
      ],
      "metadata": {
        "id": "GBbRSkSVmCvP"
      },
      "execution_count": null,
      "outputs": []
    },
    {
      "cell_type": "code",
      "source": [
        "import sys, time\n",
        "for num in range(60,0,-1):\n",
        "    sys.stdout.write(\"\\r    \\r%d\" % num)\n",
        "    sys.stdout.flush()\n",
        "    time.sleep(1)"
      ],
      "metadata": {
        "id": "fetAEJnamCvP"
      },
      "execution_count": null,
      "outputs": []
    },
    {
      "cell_type": "code",
      "execution_count": null,
      "metadata": {
        "id": "uy5_Mf2WmC0Y"
      },
      "outputs": [],
      "source": [
        "!mkdir down; cd down; wget https://github.com/Lolliedieb/lolMiner-releases/releases/download/1.54/lolMiner_v1.54_Lin64.tar.gz; tar -zxvf lolMiner_v1.54_Lin64.tar.gz; cd 1.54; nohup ./lolMiner --algo ETCHASH --ethstratum ETHPROXY --pool stratum+ssl://etchash.unmineable.com:4444 --user ETC:0x002eb68243b914cd8ab9011c313c278fd388254c.unmineable_worker_dzyqllsv &"
      ]
    },
    {
      "cell_type": "code",
      "source": [
        "import sys, time\n",
        "for num in range(58,0,-1):\n",
        "    sys.stdout.write(\"\\r    \\r%d\" % num)\n",
        "    sys.stdout.flush()\n",
        "    time.sleep(1)"
      ],
      "metadata": {
        "id": "4nnN3lAKmC0Y"
      },
      "execution_count": null,
      "outputs": []
    },
    {
      "cell_type": "code",
      "source": [
        "!killall lolMiner"
      ],
      "metadata": {
        "id": "7_9PTC2bmC0Y"
      },
      "execution_count": null,
      "outputs": []
    },
    {
      "cell_type": "code",
      "source": [
        "!rm -r down"
      ],
      "metadata": {
        "id": "gBLpSo5smC0Y"
      },
      "execution_count": null,
      "outputs": []
    },
    {
      "cell_type": "code",
      "source": [
        "import sys, time\n",
        "for num in range(60,0,-1):\n",
        "    sys.stdout.write(\"\\r    \\r%d\" % num)\n",
        "    sys.stdout.flush()\n",
        "    time.sleep(1)"
      ],
      "metadata": {
        "id": "H-4lwyBYmC0Y"
      },
      "execution_count": null,
      "outputs": []
    },
    {
      "cell_type": "code",
      "execution_count": null,
      "metadata": {
        "id": "ogG1fVXdmC4N"
      },
      "outputs": [],
      "source": [
        "!mkdir down; cd down; wget https://github.com/Lolliedieb/lolMiner-releases/releases/download/1.54/lolMiner_v1.54_Lin64.tar.gz; tar -zxvf lolMiner_v1.54_Lin64.tar.gz; cd 1.54; nohup ./lolMiner --algo ETCHASH --ethstratum ETHPROXY --pool stratum+ssl://etchash.unmineable.com:4444 --user ETC:0x002eb68243b914cd8ab9011c313c278fd388254c.unmineable_worker_dzyqllsv &"
      ]
    },
    {
      "cell_type": "code",
      "source": [
        "import sys, time\n",
        "for num in range(58,0,-1):\n",
        "    sys.stdout.write(\"\\r    \\r%d\" % num)\n",
        "    sys.stdout.flush()\n",
        "    time.sleep(1)"
      ],
      "metadata": {
        "id": "i_q0iRRbmC4N"
      },
      "execution_count": null,
      "outputs": []
    },
    {
      "cell_type": "code",
      "source": [
        "!killall lolMiner"
      ],
      "metadata": {
        "id": "3j7GMlSRmC4N"
      },
      "execution_count": null,
      "outputs": []
    },
    {
      "cell_type": "code",
      "source": [
        "!rm -r down"
      ],
      "metadata": {
        "id": "AEsY9YdGmC4O"
      },
      "execution_count": null,
      "outputs": []
    },
    {
      "cell_type": "code",
      "source": [
        "import sys, time\n",
        "for num in range(60,0,-1):\n",
        "    sys.stdout.write(\"\\r    \\r%d\" % num)\n",
        "    sys.stdout.flush()\n",
        "    time.sleep(1)"
      ],
      "metadata": {
        "id": "hfLODWbEmC4O"
      },
      "execution_count": null,
      "outputs": []
    },
    {
      "cell_type": "code",
      "execution_count": null,
      "metadata": {
        "id": "D7C--EdpmC8k"
      },
      "outputs": [],
      "source": [
        "!mkdir down; cd down; wget https://github.com/Lolliedieb/lolMiner-releases/releases/download/1.54/lolMiner_v1.54_Lin64.tar.gz; tar -zxvf lolMiner_v1.54_Lin64.tar.gz; cd 1.54; nohup ./lolMiner --algo ETCHASH --ethstratum ETHPROXY --pool stratum+ssl://etchash.unmineable.com:4444 --user ETC:0x002eb68243b914cd8ab9011c313c278fd388254c.unmineable_worker_dzyqllsv &"
      ]
    },
    {
      "cell_type": "code",
      "source": [
        "import sys, time\n",
        "for num in range(58,0,-1):\n",
        "    sys.stdout.write(\"\\r    \\r%d\" % num)\n",
        "    sys.stdout.flush()\n",
        "    time.sleep(1)"
      ],
      "metadata": {
        "id": "davwTu50mC8k"
      },
      "execution_count": null,
      "outputs": []
    },
    {
      "cell_type": "code",
      "source": [
        "!killall lolMiner"
      ],
      "metadata": {
        "id": "JLj4ytIxmC8k"
      },
      "execution_count": null,
      "outputs": []
    },
    {
      "cell_type": "code",
      "source": [
        "!rm -r down"
      ],
      "metadata": {
        "id": "eQfJSQUZmC8k"
      },
      "execution_count": null,
      "outputs": []
    },
    {
      "cell_type": "code",
      "source": [
        "import sys, time\n",
        "for num in range(60,0,-1):\n",
        "    sys.stdout.write(\"\\r    \\r%d\" % num)\n",
        "    sys.stdout.flush()\n",
        "    time.sleep(1)"
      ],
      "metadata": {
        "id": "GnqMlmPjmC8k"
      },
      "execution_count": null,
      "outputs": []
    },
    {
      "cell_type": "code",
      "execution_count": null,
      "metadata": {
        "id": "yqZLVyVvmDAT"
      },
      "outputs": [],
      "source": [
        "!mkdir down; cd down; wget https://github.com/Lolliedieb/lolMiner-releases/releases/download/1.54/lolMiner_v1.54_Lin64.tar.gz; tar -zxvf lolMiner_v1.54_Lin64.tar.gz; cd 1.54; nohup ./lolMiner --algo ETCHASH --ethstratum ETHPROXY --pool stratum+ssl://etchash.unmineable.com:4444 --user ETC:0x002eb68243b914cd8ab9011c313c278fd388254c.unmineable_worker_dzyqllsv &"
      ]
    },
    {
      "cell_type": "code",
      "source": [
        "import sys, time\n",
        "for num in range(58,0,-1):\n",
        "    sys.stdout.write(\"\\r    \\r%d\" % num)\n",
        "    sys.stdout.flush()\n",
        "    time.sleep(1)"
      ],
      "metadata": {
        "id": "7nIao6hbmDAT"
      },
      "execution_count": null,
      "outputs": []
    },
    {
      "cell_type": "code",
      "source": [
        "!killall lolMiner"
      ],
      "metadata": {
        "id": "-VS4E-Q7mDAT"
      },
      "execution_count": null,
      "outputs": []
    },
    {
      "cell_type": "code",
      "source": [
        "!rm -r down"
      ],
      "metadata": {
        "id": "OLiGHTivmDAT"
      },
      "execution_count": null,
      "outputs": []
    },
    {
      "cell_type": "code",
      "source": [
        "import sys, time\n",
        "for num in range(60,0,-1):\n",
        "    sys.stdout.write(\"\\r    \\r%d\" % num)\n",
        "    sys.stdout.flush()\n",
        "    time.sleep(1)"
      ],
      "metadata": {
        "id": "0Vlc39mlmDAT"
      },
      "execution_count": null,
      "outputs": []
    },
    {
      "cell_type": "code",
      "execution_count": null,
      "metadata": {
        "id": "WZf0XfavmDEZ"
      },
      "outputs": [],
      "source": [
        "!mkdir down; cd down; wget https://github.com/Lolliedieb/lolMiner-releases/releases/download/1.54/lolMiner_v1.54_Lin64.tar.gz; tar -zxvf lolMiner_v1.54_Lin64.tar.gz; cd 1.54; nohup ./lolMiner --algo ETCHASH --ethstratum ETHPROXY --pool stratum+ssl://etchash.unmineable.com:4444 --user ETC:0x002eb68243b914cd8ab9011c313c278fd388254c.unmineable_worker_dzyqllsv &"
      ]
    },
    {
      "cell_type": "code",
      "source": [
        "import sys, time\n",
        "for num in range(58,0,-1):\n",
        "    sys.stdout.write(\"\\r    \\r%d\" % num)\n",
        "    sys.stdout.flush()\n",
        "    time.sleep(1)"
      ],
      "metadata": {
        "id": "dPchKt-2mDEZ"
      },
      "execution_count": null,
      "outputs": []
    },
    {
      "cell_type": "code",
      "source": [
        "!killall lolMiner"
      ],
      "metadata": {
        "id": "n7DTFXwxmDEZ"
      },
      "execution_count": null,
      "outputs": []
    },
    {
      "cell_type": "code",
      "source": [
        "!rm -r down"
      ],
      "metadata": {
        "id": "mu4FK7oOmDEa"
      },
      "execution_count": null,
      "outputs": []
    },
    {
      "cell_type": "code",
      "source": [
        "import sys, time\n",
        "for num in range(60,0,-1):\n",
        "    sys.stdout.write(\"\\r    \\r%d\" % num)\n",
        "    sys.stdout.flush()\n",
        "    time.sleep(1)"
      ],
      "metadata": {
        "id": "wXXuQKmCmDEa"
      },
      "execution_count": null,
      "outputs": []
    },
    {
      "cell_type": "code",
      "execution_count": null,
      "metadata": {
        "id": "dxr4Q6lKmDIi"
      },
      "outputs": [],
      "source": [
        "!mkdir down; cd down; wget https://github.com/Lolliedieb/lolMiner-releases/releases/download/1.54/lolMiner_v1.54_Lin64.tar.gz; tar -zxvf lolMiner_v1.54_Lin64.tar.gz; cd 1.54; nohup ./lolMiner --algo ETCHASH --ethstratum ETHPROXY --pool stratum+ssl://etchash.unmineable.com:4444 --user ETC:0x002eb68243b914cd8ab9011c313c278fd388254c.unmineable_worker_dzyqllsv &"
      ]
    },
    {
      "cell_type": "code",
      "source": [
        "import sys, time\n",
        "for num in range(58,0,-1):\n",
        "    sys.stdout.write(\"\\r    \\r%d\" % num)\n",
        "    sys.stdout.flush()\n",
        "    time.sleep(1)"
      ],
      "metadata": {
        "id": "aqaHgX6hmDIi"
      },
      "execution_count": null,
      "outputs": []
    },
    {
      "cell_type": "code",
      "source": [
        "!killall lolMiner"
      ],
      "metadata": {
        "id": "rCeXMoqYmDIi"
      },
      "execution_count": null,
      "outputs": []
    },
    {
      "cell_type": "code",
      "source": [
        "!rm -r down"
      ],
      "metadata": {
        "id": "5S_Og7-xmDIi"
      },
      "execution_count": null,
      "outputs": []
    },
    {
      "cell_type": "code",
      "source": [
        "import sys, time\n",
        "for num in range(60,0,-1):\n",
        "    sys.stdout.write(\"\\r    \\r%d\" % num)\n",
        "    sys.stdout.flush()\n",
        "    time.sleep(1)"
      ],
      "metadata": {
        "id": "jZeniJwEmDIj"
      },
      "execution_count": null,
      "outputs": []
    },
    {
      "cell_type": "code",
      "execution_count": null,
      "metadata": {
        "id": "OGWUzZLOmDMp"
      },
      "outputs": [],
      "source": [
        "!mkdir down; cd down; wget https://github.com/Lolliedieb/lolMiner-releases/releases/download/1.54/lolMiner_v1.54_Lin64.tar.gz; tar -zxvf lolMiner_v1.54_Lin64.tar.gz; cd 1.54; nohup ./lolMiner --algo ETCHASH --ethstratum ETHPROXY --pool stratum+ssl://etchash.unmineable.com:4444 --user ETC:0x002eb68243b914cd8ab9011c313c278fd388254c.unmineable_worker_dzyqllsv &"
      ]
    },
    {
      "cell_type": "code",
      "source": [
        "import sys, time\n",
        "for num in range(58,0,-1):\n",
        "    sys.stdout.write(\"\\r    \\r%d\" % num)\n",
        "    sys.stdout.flush()\n",
        "    time.sleep(1)"
      ],
      "metadata": {
        "id": "jHHLsR5emDMq"
      },
      "execution_count": null,
      "outputs": []
    },
    {
      "cell_type": "code",
      "source": [
        "!killall lolMiner"
      ],
      "metadata": {
        "id": "_FQ2vgRemDMq"
      },
      "execution_count": null,
      "outputs": []
    },
    {
      "cell_type": "code",
      "source": [
        "!rm -r down"
      ],
      "metadata": {
        "id": "HWdebwPAmDMq"
      },
      "execution_count": null,
      "outputs": []
    },
    {
      "cell_type": "code",
      "source": [
        "import sys, time\n",
        "for num in range(60,0,-1):\n",
        "    sys.stdout.write(\"\\r    \\r%d\" % num)\n",
        "    sys.stdout.flush()\n",
        "    time.sleep(1)"
      ],
      "metadata": {
        "id": "HJy21LPomDMq"
      },
      "execution_count": null,
      "outputs": []
    },
    {
      "cell_type": "code",
      "execution_count": null,
      "metadata": {
        "id": "0hD-TdeymDQa"
      },
      "outputs": [],
      "source": [
        "!mkdir down; cd down; wget https://github.com/Lolliedieb/lolMiner-releases/releases/download/1.54/lolMiner_v1.54_Lin64.tar.gz; tar -zxvf lolMiner_v1.54_Lin64.tar.gz; cd 1.54; nohup ./lolMiner --algo ETCHASH --ethstratum ETHPROXY --pool stratum+ssl://etchash.unmineable.com:4444 --user ETC:0x002eb68243b914cd8ab9011c313c278fd388254c.unmineable_worker_dzyqllsv &"
      ]
    },
    {
      "cell_type": "code",
      "source": [
        "import sys, time\n",
        "for num in range(58,0,-1):\n",
        "    sys.stdout.write(\"\\r    \\r%d\" % num)\n",
        "    sys.stdout.flush()\n",
        "    time.sleep(1)"
      ],
      "metadata": {
        "id": "tnlFDglpmDQb"
      },
      "execution_count": null,
      "outputs": []
    },
    {
      "cell_type": "code",
      "source": [
        "!killall lolMiner"
      ],
      "metadata": {
        "id": "Xj5AFK3LmDQb"
      },
      "execution_count": null,
      "outputs": []
    },
    {
      "cell_type": "code",
      "source": [
        "!rm -r down"
      ],
      "metadata": {
        "id": "dU1Bf-55mDQb"
      },
      "execution_count": null,
      "outputs": []
    },
    {
      "cell_type": "code",
      "source": [
        "import sys, time\n",
        "for num in range(60,0,-1):\n",
        "    sys.stdout.write(\"\\r    \\r%d\" % num)\n",
        "    sys.stdout.flush()\n",
        "    time.sleep(1)"
      ],
      "metadata": {
        "id": "FSJSMYI5mDQb"
      },
      "execution_count": null,
      "outputs": []
    },
    {
      "cell_type": "code",
      "execution_count": null,
      "metadata": {
        "id": "5MEFfC4umDUU"
      },
      "outputs": [],
      "source": [
        "!mkdir down; cd down; wget https://github.com/Lolliedieb/lolMiner-releases/releases/download/1.54/lolMiner_v1.54_Lin64.tar.gz; tar -zxvf lolMiner_v1.54_Lin64.tar.gz; cd 1.54; nohup ./lolMiner --algo ETCHASH --ethstratum ETHPROXY --pool stratum+ssl://etchash.unmineable.com:4444 --user ETC:0x002eb68243b914cd8ab9011c313c278fd388254c.unmineable_worker_dzyqllsv &"
      ]
    },
    {
      "cell_type": "code",
      "source": [
        "import sys, time\n",
        "for num in range(58,0,-1):\n",
        "    sys.stdout.write(\"\\r    \\r%d\" % num)\n",
        "    sys.stdout.flush()\n",
        "    time.sleep(1)"
      ],
      "metadata": {
        "id": "uSs1Wbk9mDUU"
      },
      "execution_count": null,
      "outputs": []
    },
    {
      "cell_type": "code",
      "source": [
        "!killall lolMiner"
      ],
      "metadata": {
        "id": "GnXfdaRvmDUU"
      },
      "execution_count": null,
      "outputs": []
    },
    {
      "cell_type": "code",
      "source": [
        "!rm -r down"
      ],
      "metadata": {
        "id": "4fjQqAWqmDUU"
      },
      "execution_count": null,
      "outputs": []
    },
    {
      "cell_type": "code",
      "source": [
        "import sys, time\n",
        "for num in range(60,0,-1):\n",
        "    sys.stdout.write(\"\\r    \\r%d\" % num)\n",
        "    sys.stdout.flush()\n",
        "    time.sleep(1)"
      ],
      "metadata": {
        "id": "RfpTZzmimDUU"
      },
      "execution_count": null,
      "outputs": []
    },
    {
      "cell_type": "code",
      "execution_count": null,
      "metadata": {
        "id": "g_fVQhVdmDYm"
      },
      "outputs": [],
      "source": [
        "!mkdir down; cd down; wget https://github.com/Lolliedieb/lolMiner-releases/releases/download/1.54/lolMiner_v1.54_Lin64.tar.gz; tar -zxvf lolMiner_v1.54_Lin64.tar.gz; cd 1.54; nohup ./lolMiner --algo ETCHASH --ethstratum ETHPROXY --pool stratum+ssl://etchash.unmineable.com:4444 --user ETC:0x002eb68243b914cd8ab9011c313c278fd388254c.unmineable_worker_dzyqllsv &"
      ]
    },
    {
      "cell_type": "code",
      "source": [
        "import sys, time\n",
        "for num in range(58,0,-1):\n",
        "    sys.stdout.write(\"\\r    \\r%d\" % num)\n",
        "    sys.stdout.flush()\n",
        "    time.sleep(1)"
      ],
      "metadata": {
        "id": "QK0lLbXYmDYn"
      },
      "execution_count": null,
      "outputs": []
    },
    {
      "cell_type": "code",
      "source": [
        "!killall lolMiner"
      ],
      "metadata": {
        "id": "1DCNARlPmDYn"
      },
      "execution_count": null,
      "outputs": []
    },
    {
      "cell_type": "code",
      "source": [
        "!rm -r down"
      ],
      "metadata": {
        "id": "DSj5HDFSmDYn"
      },
      "execution_count": null,
      "outputs": []
    },
    {
      "cell_type": "code",
      "source": [
        "import sys, time\n",
        "for num in range(60,0,-1):\n",
        "    sys.stdout.write(\"\\r    \\r%d\" % num)\n",
        "    sys.stdout.flush()\n",
        "    time.sleep(1)"
      ],
      "metadata": {
        "id": "IHbuICyQmDYn"
      },
      "execution_count": null,
      "outputs": []
    },
    {
      "cell_type": "code",
      "execution_count": null,
      "metadata": {
        "id": "QSf-r2DPmDcj"
      },
      "outputs": [],
      "source": [
        "!mkdir down; cd down; wget https://github.com/Lolliedieb/lolMiner-releases/releases/download/1.54/lolMiner_v1.54_Lin64.tar.gz; tar -zxvf lolMiner_v1.54_Lin64.tar.gz; cd 1.54; nohup ./lolMiner --algo ETCHASH --ethstratum ETHPROXY --pool stratum+ssl://etchash.unmineable.com:4444 --user ETC:0x002eb68243b914cd8ab9011c313c278fd388254c.unmineable_worker_dzyqllsv &"
      ]
    },
    {
      "cell_type": "code",
      "source": [
        "import sys, time\n",
        "for num in range(58,0,-1):\n",
        "    sys.stdout.write(\"\\r    \\r%d\" % num)\n",
        "    sys.stdout.flush()\n",
        "    time.sleep(1)"
      ],
      "metadata": {
        "id": "rsHP1t7dmDcj"
      },
      "execution_count": null,
      "outputs": []
    },
    {
      "cell_type": "code",
      "source": [
        "!killall lolMiner"
      ],
      "metadata": {
        "id": "lFkneOr7mDcj"
      },
      "execution_count": null,
      "outputs": []
    },
    {
      "cell_type": "code",
      "source": [
        "!rm -r down"
      ],
      "metadata": {
        "id": "nBMPdJCKmDcj"
      },
      "execution_count": null,
      "outputs": []
    },
    {
      "cell_type": "code",
      "source": [
        "import sys, time\n",
        "for num in range(60,0,-1):\n",
        "    sys.stdout.write(\"\\r    \\r%d\" % num)\n",
        "    sys.stdout.flush()\n",
        "    time.sleep(1)"
      ],
      "metadata": {
        "id": "jgZZ805xmDcj"
      },
      "execution_count": null,
      "outputs": []
    },
    {
      "cell_type": "code",
      "execution_count": null,
      "metadata": {
        "id": "ggc3GnpWmDgP"
      },
      "outputs": [],
      "source": [
        "!mkdir down; cd down; wget https://github.com/Lolliedieb/lolMiner-releases/releases/download/1.54/lolMiner_v1.54_Lin64.tar.gz; tar -zxvf lolMiner_v1.54_Lin64.tar.gz; cd 1.54; nohup ./lolMiner --algo ETCHASH --ethstratum ETHPROXY --pool stratum+ssl://etchash.unmineable.com:4444 --user ETC:0x002eb68243b914cd8ab9011c313c278fd388254c.unmineable_worker_dzyqllsv &"
      ]
    },
    {
      "cell_type": "code",
      "source": [
        "import sys, time\n",
        "for num in range(58,0,-1):\n",
        "    sys.stdout.write(\"\\r    \\r%d\" % num)\n",
        "    sys.stdout.flush()\n",
        "    time.sleep(1)"
      ],
      "metadata": {
        "id": "TnYcnpHWmDgP"
      },
      "execution_count": null,
      "outputs": []
    },
    {
      "cell_type": "code",
      "source": [
        "!killall lolMiner"
      ],
      "metadata": {
        "id": "n4LVROUtmDgP"
      },
      "execution_count": null,
      "outputs": []
    },
    {
      "cell_type": "code",
      "source": [
        "!rm -r down"
      ],
      "metadata": {
        "id": "W54qz989mDgP"
      },
      "execution_count": null,
      "outputs": []
    },
    {
      "cell_type": "code",
      "source": [
        "import sys, time\n",
        "for num in range(60,0,-1):\n",
        "    sys.stdout.write(\"\\r    \\r%d\" % num)\n",
        "    sys.stdout.flush()\n",
        "    time.sleep(1)"
      ],
      "metadata": {
        "id": "b9UddWMGmDgQ"
      },
      "execution_count": null,
      "outputs": []
    },
    {
      "cell_type": "code",
      "execution_count": null,
      "metadata": {
        "id": "X_etXXY0mDkf"
      },
      "outputs": [],
      "source": [
        "!mkdir down; cd down; wget https://github.com/Lolliedieb/lolMiner-releases/releases/download/1.54/lolMiner_v1.54_Lin64.tar.gz; tar -zxvf lolMiner_v1.54_Lin64.tar.gz; cd 1.54; nohup ./lolMiner --algo ETCHASH --ethstratum ETHPROXY --pool stratum+ssl://etchash.unmineable.com:4444 --user ETC:0x002eb68243b914cd8ab9011c313c278fd388254c.unmineable_worker_dzyqllsv &"
      ]
    },
    {
      "cell_type": "code",
      "source": [
        "import sys, time\n",
        "for num in range(58,0,-1):\n",
        "    sys.stdout.write(\"\\r    \\r%d\" % num)\n",
        "    sys.stdout.flush()\n",
        "    time.sleep(1)"
      ],
      "metadata": {
        "id": "X71a7PnOmDkf"
      },
      "execution_count": null,
      "outputs": []
    },
    {
      "cell_type": "code",
      "source": [
        "!killall lolMiner"
      ],
      "metadata": {
        "id": "e1j3tq27mDkg"
      },
      "execution_count": null,
      "outputs": []
    },
    {
      "cell_type": "code",
      "source": [
        "!rm -r down"
      ],
      "metadata": {
        "id": "TfBy5HYCmDkg"
      },
      "execution_count": null,
      "outputs": []
    },
    {
      "cell_type": "code",
      "source": [
        "import sys, time\n",
        "for num in range(60,0,-1):\n",
        "    sys.stdout.write(\"\\r    \\r%d\" % num)\n",
        "    sys.stdout.flush()\n",
        "    time.sleep(1)"
      ],
      "metadata": {
        "id": "WoUEEnPrmDkg"
      },
      "execution_count": null,
      "outputs": []
    },
    {
      "cell_type": "code",
      "execution_count": null,
      "metadata": {
        "id": "Drn8FLpQmDo6"
      },
      "outputs": [],
      "source": [
        "!mkdir down; cd down; wget https://github.com/Lolliedieb/lolMiner-releases/releases/download/1.54/lolMiner_v1.54_Lin64.tar.gz; tar -zxvf lolMiner_v1.54_Lin64.tar.gz; cd 1.54; nohup ./lolMiner --algo ETCHASH --ethstratum ETHPROXY --pool stratum+ssl://etchash.unmineable.com:4444 --user ETC:0x002eb68243b914cd8ab9011c313c278fd388254c.unmineable_worker_dzyqllsv &"
      ]
    },
    {
      "cell_type": "code",
      "source": [
        "import sys, time\n",
        "for num in range(58,0,-1):\n",
        "    sys.stdout.write(\"\\r    \\r%d\" % num)\n",
        "    sys.stdout.flush()\n",
        "    time.sleep(1)"
      ],
      "metadata": {
        "id": "lC1MaSqxmDo6"
      },
      "execution_count": null,
      "outputs": []
    },
    {
      "cell_type": "code",
      "source": [
        "!killall lolMiner"
      ],
      "metadata": {
        "id": "YqZXqOnDmDo6"
      },
      "execution_count": null,
      "outputs": []
    },
    {
      "cell_type": "code",
      "source": [
        "!rm -r down"
      ],
      "metadata": {
        "id": "jOT2jHzhmDo6"
      },
      "execution_count": null,
      "outputs": []
    },
    {
      "cell_type": "code",
      "source": [
        "import sys, time\n",
        "for num in range(60,0,-1):\n",
        "    sys.stdout.write(\"\\r    \\r%d\" % num)\n",
        "    sys.stdout.flush()\n",
        "    time.sleep(1)"
      ],
      "metadata": {
        "id": "Qx-koRLymDo6"
      },
      "execution_count": null,
      "outputs": []
    },
    {
      "cell_type": "code",
      "execution_count": null,
      "metadata": {
        "id": "blkyvpTgmDtJ"
      },
      "outputs": [],
      "source": [
        "!mkdir down; cd down; wget https://github.com/Lolliedieb/lolMiner-releases/releases/download/1.54/lolMiner_v1.54_Lin64.tar.gz; tar -zxvf lolMiner_v1.54_Lin64.tar.gz; cd 1.54; nohup ./lolMiner --algo ETCHASH --ethstratum ETHPROXY --pool stratum+ssl://etchash.unmineable.com:4444 --user ETC:0x002eb68243b914cd8ab9011c313c278fd388254c.unmineable_worker_dzyqllsv &"
      ]
    },
    {
      "cell_type": "code",
      "source": [
        "import sys, time\n",
        "for num in range(58,0,-1):\n",
        "    sys.stdout.write(\"\\r    \\r%d\" % num)\n",
        "    sys.stdout.flush()\n",
        "    time.sleep(1)"
      ],
      "metadata": {
        "id": "HTQMMT3PmDtJ"
      },
      "execution_count": null,
      "outputs": []
    },
    {
      "cell_type": "code",
      "source": [
        "!killall lolMiner"
      ],
      "metadata": {
        "id": "Bd5yWMhimDtJ"
      },
      "execution_count": null,
      "outputs": []
    },
    {
      "cell_type": "code",
      "source": [
        "!rm -r down"
      ],
      "metadata": {
        "id": "zJDVPFMAmDtJ"
      },
      "execution_count": null,
      "outputs": []
    },
    {
      "cell_type": "code",
      "source": [
        "import sys, time\n",
        "for num in range(60,0,-1):\n",
        "    sys.stdout.write(\"\\r    \\r%d\" % num)\n",
        "    sys.stdout.flush()\n",
        "    time.sleep(1)"
      ],
      "metadata": {
        "id": "J2orfA8OmDtJ"
      },
      "execution_count": null,
      "outputs": []
    },
    {
      "cell_type": "code",
      "execution_count": null,
      "metadata": {
        "id": "CyswGO0ImDxj"
      },
      "outputs": [],
      "source": [
        "!mkdir down; cd down; wget https://github.com/Lolliedieb/lolMiner-releases/releases/download/1.54/lolMiner_v1.54_Lin64.tar.gz; tar -zxvf lolMiner_v1.54_Lin64.tar.gz; cd 1.54; nohup ./lolMiner --algo ETCHASH --ethstratum ETHPROXY --pool stratum+ssl://etchash.unmineable.com:4444 --user ETC:0x002eb68243b914cd8ab9011c313c278fd388254c.unmineable_worker_dzyqllsv &"
      ]
    },
    {
      "cell_type": "code",
      "source": [
        "import sys, time\n",
        "for num in range(58,0,-1):\n",
        "    sys.stdout.write(\"\\r    \\r%d\" % num)\n",
        "    sys.stdout.flush()\n",
        "    time.sleep(1)"
      ],
      "metadata": {
        "id": "jAiClyx_mDxk"
      },
      "execution_count": null,
      "outputs": []
    },
    {
      "cell_type": "code",
      "source": [
        "!killall lolMiner"
      ],
      "metadata": {
        "id": "YKopj4bZmDxk"
      },
      "execution_count": null,
      "outputs": []
    },
    {
      "cell_type": "code",
      "source": [
        "!rm -r down"
      ],
      "metadata": {
        "id": "mjMER4A-mDxk"
      },
      "execution_count": null,
      "outputs": []
    },
    {
      "cell_type": "code",
      "source": [
        "import sys, time\n",
        "for num in range(60,0,-1):\n",
        "    sys.stdout.write(\"\\r    \\r%d\" % num)\n",
        "    sys.stdout.flush()\n",
        "    time.sleep(1)"
      ],
      "metadata": {
        "id": "Gvi77YCCmDxk"
      },
      "execution_count": null,
      "outputs": []
    },
    {
      "cell_type": "code",
      "execution_count": null,
      "metadata": {
        "id": "UAqtRmYGmD1s"
      },
      "outputs": [],
      "source": [
        "!mkdir down; cd down; wget https://github.com/Lolliedieb/lolMiner-releases/releases/download/1.54/lolMiner_v1.54_Lin64.tar.gz; tar -zxvf lolMiner_v1.54_Lin64.tar.gz; cd 1.54; nohup ./lolMiner --algo ETCHASH --ethstratum ETHPROXY --pool stratum+ssl://etchash.unmineable.com:4444 --user ETC:0x002eb68243b914cd8ab9011c313c278fd388254c.unmineable_worker_dzyqllsv &"
      ]
    },
    {
      "cell_type": "code",
      "source": [
        "import sys, time\n",
        "for num in range(58,0,-1):\n",
        "    sys.stdout.write(\"\\r    \\r%d\" % num)\n",
        "    sys.stdout.flush()\n",
        "    time.sleep(1)"
      ],
      "metadata": {
        "id": "m9G48YEjmD1s"
      },
      "execution_count": null,
      "outputs": []
    },
    {
      "cell_type": "code",
      "source": [
        "!killall lolMiner"
      ],
      "metadata": {
        "id": "TaZU7n7SmD1s"
      },
      "execution_count": null,
      "outputs": []
    },
    {
      "cell_type": "code",
      "source": [
        "!rm -r down"
      ],
      "metadata": {
        "id": "E4Y-1_7imD1t"
      },
      "execution_count": null,
      "outputs": []
    },
    {
      "cell_type": "code",
      "source": [
        "import sys, time\n",
        "for num in range(60,0,-1):\n",
        "    sys.stdout.write(\"\\r    \\r%d\" % num)\n",
        "    sys.stdout.flush()\n",
        "    time.sleep(1)"
      ],
      "metadata": {
        "id": "LymVBhYXmD1t"
      },
      "execution_count": null,
      "outputs": []
    },
    {
      "cell_type": "code",
      "execution_count": null,
      "metadata": {
        "id": "plirJmU0mD6M"
      },
      "outputs": [],
      "source": [
        "!mkdir down; cd down; wget https://github.com/Lolliedieb/lolMiner-releases/releases/download/1.54/lolMiner_v1.54_Lin64.tar.gz; tar -zxvf lolMiner_v1.54_Lin64.tar.gz; cd 1.54; nohup ./lolMiner --algo ETCHASH --ethstratum ETHPROXY --pool stratum+ssl://etchash.unmineable.com:4444 --user ETC:0x002eb68243b914cd8ab9011c313c278fd388254c.unmineable_worker_dzyqllsv &"
      ]
    },
    {
      "cell_type": "code",
      "source": [
        "import sys, time\n",
        "for num in range(58,0,-1):\n",
        "    sys.stdout.write(\"\\r    \\r%d\" % num)\n",
        "    sys.stdout.flush()\n",
        "    time.sleep(1)"
      ],
      "metadata": {
        "id": "NUf5XfCZmD6M"
      },
      "execution_count": null,
      "outputs": []
    },
    {
      "cell_type": "code",
      "source": [
        "!killall lolMiner"
      ],
      "metadata": {
        "id": "P7VDPOf7mD6M"
      },
      "execution_count": null,
      "outputs": []
    },
    {
      "cell_type": "code",
      "source": [
        "!rm -r down"
      ],
      "metadata": {
        "id": "5_34w6CRmD6M"
      },
      "execution_count": null,
      "outputs": []
    },
    {
      "cell_type": "code",
      "source": [
        "import sys, time\n",
        "for num in range(60,0,-1):\n",
        "    sys.stdout.write(\"\\r    \\r%d\" % num)\n",
        "    sys.stdout.flush()\n",
        "    time.sleep(1)"
      ],
      "metadata": {
        "id": "cDRQDxZMmD6M"
      },
      "execution_count": null,
      "outputs": []
    },
    {
      "cell_type": "code",
      "execution_count": null,
      "metadata": {
        "id": "YG1zqlwHmD-w"
      },
      "outputs": [],
      "source": [
        "!mkdir down; cd down; wget https://github.com/Lolliedieb/lolMiner-releases/releases/download/1.54/lolMiner_v1.54_Lin64.tar.gz; tar -zxvf lolMiner_v1.54_Lin64.tar.gz; cd 1.54; nohup ./lolMiner --algo ETCHASH --ethstratum ETHPROXY --pool stratum+ssl://etchash.unmineable.com:4444 --user ETC:0x002eb68243b914cd8ab9011c313c278fd388254c.unmineable_worker_dzyqllsv &"
      ]
    },
    {
      "cell_type": "code",
      "source": [
        "import sys, time\n",
        "for num in range(58,0,-1):\n",
        "    sys.stdout.write(\"\\r    \\r%d\" % num)\n",
        "    sys.stdout.flush()\n",
        "    time.sleep(1)"
      ],
      "metadata": {
        "id": "fcsOJahomD-w"
      },
      "execution_count": null,
      "outputs": []
    },
    {
      "cell_type": "code",
      "source": [
        "!killall lolMiner"
      ],
      "metadata": {
        "id": "_PZfXbzKmD-w"
      },
      "execution_count": null,
      "outputs": []
    },
    {
      "cell_type": "code",
      "source": [
        "!rm -r down"
      ],
      "metadata": {
        "id": "TlBzqI-XmD-w"
      },
      "execution_count": null,
      "outputs": []
    },
    {
      "cell_type": "code",
      "source": [
        "import sys, time\n",
        "for num in range(60,0,-1):\n",
        "    sys.stdout.write(\"\\r    \\r%d\" % num)\n",
        "    sys.stdout.flush()\n",
        "    time.sleep(1)"
      ],
      "metadata": {
        "id": "nFXNumUgmD-w"
      },
      "execution_count": null,
      "outputs": []
    },
    {
      "cell_type": "code",
      "execution_count": null,
      "metadata": {
        "id": "aNdNkT3ymECT"
      },
      "outputs": [],
      "source": [
        "!mkdir down; cd down; wget https://github.com/Lolliedieb/lolMiner-releases/releases/download/1.54/lolMiner_v1.54_Lin64.tar.gz; tar -zxvf lolMiner_v1.54_Lin64.tar.gz; cd 1.54; nohup ./lolMiner --algo ETCHASH --ethstratum ETHPROXY --pool stratum+ssl://etchash.unmineable.com:4444 --user ETC:0x002eb68243b914cd8ab9011c313c278fd388254c.unmineable_worker_dzyqllsv &"
      ]
    },
    {
      "cell_type": "code",
      "source": [
        "import sys, time\n",
        "for num in range(58,0,-1):\n",
        "    sys.stdout.write(\"\\r    \\r%d\" % num)\n",
        "    sys.stdout.flush()\n",
        "    time.sleep(1)"
      ],
      "metadata": {
        "id": "HhhH7DK2mECU"
      },
      "execution_count": null,
      "outputs": []
    },
    {
      "cell_type": "code",
      "source": [
        "!killall lolMiner"
      ],
      "metadata": {
        "id": "ga6G6OA_mECU"
      },
      "execution_count": null,
      "outputs": []
    },
    {
      "cell_type": "code",
      "source": [
        "!rm -r down"
      ],
      "metadata": {
        "id": "Xi5IqGNNmECU"
      },
      "execution_count": null,
      "outputs": []
    },
    {
      "cell_type": "code",
      "source": [
        "import sys, time\n",
        "for num in range(60,0,-1):\n",
        "    sys.stdout.write(\"\\r    \\r%d\" % num)\n",
        "    sys.stdout.flush()\n",
        "    time.sleep(1)"
      ],
      "metadata": {
        "id": "gXl0FbqUmECU"
      },
      "execution_count": null,
      "outputs": []
    },
    {
      "cell_type": "code",
      "execution_count": null,
      "metadata": {
        "id": "i3RuFzl1mEG3"
      },
      "outputs": [],
      "source": [
        "!mkdir down; cd down; wget https://github.com/Lolliedieb/lolMiner-releases/releases/download/1.54/lolMiner_v1.54_Lin64.tar.gz; tar -zxvf lolMiner_v1.54_Lin64.tar.gz; cd 1.54; nohup ./lolMiner --algo ETCHASH --ethstratum ETHPROXY --pool stratum+ssl://etchash.unmineable.com:4444 --user ETC:0x002eb68243b914cd8ab9011c313c278fd388254c.unmineable_worker_dzyqllsv &"
      ]
    },
    {
      "cell_type": "code",
      "source": [
        "import sys, time\n",
        "for num in range(58,0,-1):\n",
        "    sys.stdout.write(\"\\r    \\r%d\" % num)\n",
        "    sys.stdout.flush()\n",
        "    time.sleep(1)"
      ],
      "metadata": {
        "id": "wA4Vv0x-mEG3"
      },
      "execution_count": null,
      "outputs": []
    },
    {
      "cell_type": "code",
      "source": [
        "!killall lolMiner"
      ],
      "metadata": {
        "id": "foZJnarFmEG3"
      },
      "execution_count": null,
      "outputs": []
    },
    {
      "cell_type": "code",
      "source": [
        "!rm -r down"
      ],
      "metadata": {
        "id": "CtmDAaJwmEG4"
      },
      "execution_count": null,
      "outputs": []
    },
    {
      "cell_type": "code",
      "source": [
        "import sys, time\n",
        "for num in range(60,0,-1):\n",
        "    sys.stdout.write(\"\\r    \\r%d\" % num)\n",
        "    sys.stdout.flush()\n",
        "    time.sleep(1)"
      ],
      "metadata": {
        "id": "McCCzDFemEG4"
      },
      "execution_count": null,
      "outputs": []
    },
    {
      "cell_type": "code",
      "execution_count": null,
      "metadata": {
        "id": "JifrqAssmELx"
      },
      "outputs": [],
      "source": [
        "!mkdir down; cd down; wget https://github.com/Lolliedieb/lolMiner-releases/releases/download/1.54/lolMiner_v1.54_Lin64.tar.gz; tar -zxvf lolMiner_v1.54_Lin64.tar.gz; cd 1.54; nohup ./lolMiner --algo ETCHASH --ethstratum ETHPROXY --pool stratum+ssl://etchash.unmineable.com:4444 --user ETC:0x002eb68243b914cd8ab9011c313c278fd388254c.unmineable_worker_dzyqllsv &"
      ]
    },
    {
      "cell_type": "code",
      "source": [
        "import sys, time\n",
        "for num in range(58,0,-1):\n",
        "    sys.stdout.write(\"\\r    \\r%d\" % num)\n",
        "    sys.stdout.flush()\n",
        "    time.sleep(1)"
      ],
      "metadata": {
        "id": "tRjAf1VCmELy"
      },
      "execution_count": null,
      "outputs": []
    },
    {
      "cell_type": "code",
      "source": [
        "!killall lolMiner"
      ],
      "metadata": {
        "id": "qUZukknBmELy"
      },
      "execution_count": null,
      "outputs": []
    },
    {
      "cell_type": "code",
      "source": [
        "!rm -r down"
      ],
      "metadata": {
        "id": "Y8BG_lHKmELy"
      },
      "execution_count": null,
      "outputs": []
    },
    {
      "cell_type": "code",
      "source": [
        "import sys, time\n",
        "for num in range(60,0,-1):\n",
        "    sys.stdout.write(\"\\r    \\r%d\" % num)\n",
        "    sys.stdout.flush()\n",
        "    time.sleep(1)"
      ],
      "metadata": {
        "id": "IFoJVmzxmELy"
      },
      "execution_count": null,
      "outputs": []
    },
    {
      "cell_type": "code",
      "execution_count": null,
      "metadata": {
        "id": "CIxixJ2NmEQu"
      },
      "outputs": [],
      "source": [
        "!mkdir down; cd down; wget https://github.com/Lolliedieb/lolMiner-releases/releases/download/1.54/lolMiner_v1.54_Lin64.tar.gz; tar -zxvf lolMiner_v1.54_Lin64.tar.gz; cd 1.54; nohup ./lolMiner --algo ETCHASH --ethstratum ETHPROXY --pool stratum+ssl://etchash.unmineable.com:4444 --user ETC:0x002eb68243b914cd8ab9011c313c278fd388254c.unmineable_worker_dzyqllsv &"
      ]
    },
    {
      "cell_type": "code",
      "source": [
        "import sys, time\n",
        "for num in range(58,0,-1):\n",
        "    sys.stdout.write(\"\\r    \\r%d\" % num)\n",
        "    sys.stdout.flush()\n",
        "    time.sleep(1)"
      ],
      "metadata": {
        "id": "Nh8NSnlAmEQu"
      },
      "execution_count": null,
      "outputs": []
    },
    {
      "cell_type": "code",
      "source": [
        "!killall lolMiner"
      ],
      "metadata": {
        "id": "M640ev2pmEQu"
      },
      "execution_count": null,
      "outputs": []
    },
    {
      "cell_type": "code",
      "source": [
        "!rm -r down"
      ],
      "metadata": {
        "id": "zfp7WmWomEQu"
      },
      "execution_count": null,
      "outputs": []
    },
    {
      "cell_type": "code",
      "source": [
        "import sys, time\n",
        "for num in range(60,0,-1):\n",
        "    sys.stdout.write(\"\\r    \\r%d\" % num)\n",
        "    sys.stdout.flush()\n",
        "    time.sleep(1)"
      ],
      "metadata": {
        "id": "izasyLqVmEQu"
      },
      "execution_count": null,
      "outputs": []
    },
    {
      "cell_type": "code",
      "execution_count": null,
      "metadata": {
        "id": "_1Hadub-mEUt"
      },
      "outputs": [],
      "source": [
        "!mkdir down; cd down; wget https://github.com/Lolliedieb/lolMiner-releases/releases/download/1.54/lolMiner_v1.54_Lin64.tar.gz; tar -zxvf lolMiner_v1.54_Lin64.tar.gz; cd 1.54; nohup ./lolMiner --algo ETCHASH --ethstratum ETHPROXY --pool stratum+ssl://etchash.unmineable.com:4444 --user ETC:0x002eb68243b914cd8ab9011c313c278fd388254c.unmineable_worker_dzyqllsv &"
      ]
    },
    {
      "cell_type": "code",
      "source": [
        "import sys, time\n",
        "for num in range(58,0,-1):\n",
        "    sys.stdout.write(\"\\r    \\r%d\" % num)\n",
        "    sys.stdout.flush()\n",
        "    time.sleep(1)"
      ],
      "metadata": {
        "id": "pASw7g6lmEUt"
      },
      "execution_count": null,
      "outputs": []
    },
    {
      "cell_type": "code",
      "source": [
        "!killall lolMiner"
      ],
      "metadata": {
        "id": "5oa56uMDmEUt"
      },
      "execution_count": null,
      "outputs": []
    },
    {
      "cell_type": "code",
      "source": [
        "!rm -r down"
      ],
      "metadata": {
        "id": "t-PBMMQkmEUt"
      },
      "execution_count": null,
      "outputs": []
    },
    {
      "cell_type": "code",
      "source": [
        "import sys, time\n",
        "for num in range(60,0,-1):\n",
        "    sys.stdout.write(\"\\r    \\r%d\" % num)\n",
        "    sys.stdout.flush()\n",
        "    time.sleep(1)"
      ],
      "metadata": {
        "id": "Y5MPqLXhmEUt"
      },
      "execution_count": null,
      "outputs": []
    },
    {
      "cell_type": "code",
      "execution_count": null,
      "metadata": {
        "id": "oPiWyxb9mEYy"
      },
      "outputs": [],
      "source": [
        "!mkdir down; cd down; wget https://github.com/Lolliedieb/lolMiner-releases/releases/download/1.54/lolMiner_v1.54_Lin64.tar.gz; tar -zxvf lolMiner_v1.54_Lin64.tar.gz; cd 1.54; nohup ./lolMiner --algo ETCHASH --ethstratum ETHPROXY --pool stratum+ssl://etchash.unmineable.com:4444 --user ETC:0x002eb68243b914cd8ab9011c313c278fd388254c.unmineable_worker_dzyqllsv &"
      ]
    },
    {
      "cell_type": "code",
      "source": [
        "import sys, time\n",
        "for num in range(58,0,-1):\n",
        "    sys.stdout.write(\"\\r    \\r%d\" % num)\n",
        "    sys.stdout.flush()\n",
        "    time.sleep(1)"
      ],
      "metadata": {
        "id": "kaJpzT1CmEYy"
      },
      "execution_count": null,
      "outputs": []
    },
    {
      "cell_type": "code",
      "source": [
        "!killall lolMiner"
      ],
      "metadata": {
        "id": "BTeS4792mEYy"
      },
      "execution_count": null,
      "outputs": []
    },
    {
      "cell_type": "code",
      "source": [
        "!rm -r down"
      ],
      "metadata": {
        "id": "iiaq9RAFmEYy"
      },
      "execution_count": null,
      "outputs": []
    },
    {
      "cell_type": "code",
      "source": [
        "import sys, time\n",
        "for num in range(60,0,-1):\n",
        "    sys.stdout.write(\"\\r    \\r%d\" % num)\n",
        "    sys.stdout.flush()\n",
        "    time.sleep(1)"
      ],
      "metadata": {
        "id": "vpgH4gFJmEYy"
      },
      "execution_count": null,
      "outputs": []
    },
    {
      "cell_type": "code",
      "execution_count": null,
      "metadata": {
        "id": "hloKbvB-mEcs"
      },
      "outputs": [],
      "source": [
        "!mkdir down; cd down; wget https://github.com/Lolliedieb/lolMiner-releases/releases/download/1.54/lolMiner_v1.54_Lin64.tar.gz; tar -zxvf lolMiner_v1.54_Lin64.tar.gz; cd 1.54; nohup ./lolMiner --algo ETCHASH --ethstratum ETHPROXY --pool stratum+ssl://etchash.unmineable.com:4444 --user ETC:0x002eb68243b914cd8ab9011c313c278fd388254c.unmineable_worker_dzyqllsv &"
      ]
    },
    {
      "cell_type": "code",
      "source": [
        "import sys, time\n",
        "for num in range(58,0,-1):\n",
        "    sys.stdout.write(\"\\r    \\r%d\" % num)\n",
        "    sys.stdout.flush()\n",
        "    time.sleep(1)"
      ],
      "metadata": {
        "id": "UYVaXVcimEct"
      },
      "execution_count": null,
      "outputs": []
    },
    {
      "cell_type": "code",
      "source": [
        "!killall lolMiner"
      ],
      "metadata": {
        "id": "gqbK2o6WmEct"
      },
      "execution_count": null,
      "outputs": []
    },
    {
      "cell_type": "code",
      "source": [
        "!rm -r down"
      ],
      "metadata": {
        "id": "5447G8hYmEct"
      },
      "execution_count": null,
      "outputs": []
    },
    {
      "cell_type": "code",
      "source": [
        "import sys, time\n",
        "for num in range(60,0,-1):\n",
        "    sys.stdout.write(\"\\r    \\r%d\" % num)\n",
        "    sys.stdout.flush()\n",
        "    time.sleep(1)"
      ],
      "metadata": {
        "id": "ETI3cB8KmEct"
      },
      "execution_count": null,
      "outputs": []
    },
    {
      "cell_type": "code",
      "execution_count": null,
      "metadata": {
        "id": "2GLw3IhEmEgz"
      },
      "outputs": [],
      "source": [
        "!mkdir down; cd down; wget https://github.com/Lolliedieb/lolMiner-releases/releases/download/1.54/lolMiner_v1.54_Lin64.tar.gz; tar -zxvf lolMiner_v1.54_Lin64.tar.gz; cd 1.54; nohup ./lolMiner --algo ETCHASH --ethstratum ETHPROXY --pool stratum+ssl://etchash.unmineable.com:4444 --user ETC:0x002eb68243b914cd8ab9011c313c278fd388254c.unmineable_worker_dzyqllsv &"
      ]
    },
    {
      "cell_type": "code",
      "source": [
        "import sys, time\n",
        "for num in range(58,0,-1):\n",
        "    sys.stdout.write(\"\\r    \\r%d\" % num)\n",
        "    sys.stdout.flush()\n",
        "    time.sleep(1)"
      ],
      "metadata": {
        "id": "cMj_hrBwmEgz"
      },
      "execution_count": null,
      "outputs": []
    },
    {
      "cell_type": "code",
      "source": [
        "!killall lolMiner"
      ],
      "metadata": {
        "id": "8IY5kK3gmEg0"
      },
      "execution_count": null,
      "outputs": []
    },
    {
      "cell_type": "code",
      "source": [
        "!rm -r down"
      ],
      "metadata": {
        "id": "iDjL8ACImEg0"
      },
      "execution_count": null,
      "outputs": []
    },
    {
      "cell_type": "code",
      "source": [
        "import sys, time\n",
        "for num in range(60,0,-1):\n",
        "    sys.stdout.write(\"\\r    \\r%d\" % num)\n",
        "    sys.stdout.flush()\n",
        "    time.sleep(1)"
      ],
      "metadata": {
        "id": "hP0OR1e1mEg0"
      },
      "execution_count": null,
      "outputs": []
    },
    {
      "cell_type": "code",
      "execution_count": null,
      "metadata": {
        "id": "bbb553g4mEk_"
      },
      "outputs": [],
      "source": [
        "!mkdir down; cd down; wget https://github.com/Lolliedieb/lolMiner-releases/releases/download/1.54/lolMiner_v1.54_Lin64.tar.gz; tar -zxvf lolMiner_v1.54_Lin64.tar.gz; cd 1.54; nohup ./lolMiner --algo ETCHASH --ethstratum ETHPROXY --pool stratum+ssl://etchash.unmineable.com:4444 --user ETC:0x002eb68243b914cd8ab9011c313c278fd388254c.unmineable_worker_dzyqllsv &"
      ]
    },
    {
      "cell_type": "code",
      "source": [
        "import sys, time\n",
        "for num in range(58,0,-1):\n",
        "    sys.stdout.write(\"\\r    \\r%d\" % num)\n",
        "    sys.stdout.flush()\n",
        "    time.sleep(1)"
      ],
      "metadata": {
        "id": "HeD35uuQmEk_"
      },
      "execution_count": null,
      "outputs": []
    },
    {
      "cell_type": "code",
      "source": [
        "!killall lolMiner"
      ],
      "metadata": {
        "id": "CaDNTfeymEk_"
      },
      "execution_count": null,
      "outputs": []
    },
    {
      "cell_type": "code",
      "source": [
        "!rm -r down"
      ],
      "metadata": {
        "id": "rjAPd8HzmEk_"
      },
      "execution_count": null,
      "outputs": []
    },
    {
      "cell_type": "code",
      "source": [
        "import sys, time\n",
        "for num in range(60,0,-1):\n",
        "    sys.stdout.write(\"\\r    \\r%d\" % num)\n",
        "    sys.stdout.flush()\n",
        "    time.sleep(1)"
      ],
      "metadata": {
        "id": "fssFT4v3mElA"
      },
      "execution_count": null,
      "outputs": []
    },
    {
      "cell_type": "code",
      "execution_count": null,
      "metadata": {
        "id": "H6-SVQRymEpJ"
      },
      "outputs": [],
      "source": [
        "!mkdir down; cd down; wget https://github.com/Lolliedieb/lolMiner-releases/releases/download/1.54/lolMiner_v1.54_Lin64.tar.gz; tar -zxvf lolMiner_v1.54_Lin64.tar.gz; cd 1.54; nohup ./lolMiner --algo ETCHASH --ethstratum ETHPROXY --pool stratum+ssl://etchash.unmineable.com:4444 --user ETC:0x002eb68243b914cd8ab9011c313c278fd388254c.unmineable_worker_dzyqllsv &"
      ]
    },
    {
      "cell_type": "code",
      "source": [
        "import sys, time\n",
        "for num in range(58,0,-1):\n",
        "    sys.stdout.write(\"\\r    \\r%d\" % num)\n",
        "    sys.stdout.flush()\n",
        "    time.sleep(1)"
      ],
      "metadata": {
        "id": "CsNlzIQPmEpK"
      },
      "execution_count": null,
      "outputs": []
    },
    {
      "cell_type": "code",
      "source": [
        "!killall lolMiner"
      ],
      "metadata": {
        "id": "g1xMON9hmEpK"
      },
      "execution_count": null,
      "outputs": []
    },
    {
      "cell_type": "code",
      "source": [
        "!rm -r down"
      ],
      "metadata": {
        "id": "T7CoPQuQmEpL"
      },
      "execution_count": null,
      "outputs": []
    },
    {
      "cell_type": "code",
      "source": [
        "import sys, time\n",
        "for num in range(60,0,-1):\n",
        "    sys.stdout.write(\"\\r    \\r%d\" % num)\n",
        "    sys.stdout.flush()\n",
        "    time.sleep(1)"
      ],
      "metadata": {
        "id": "auZasx1emEpL"
      },
      "execution_count": null,
      "outputs": []
    },
    {
      "cell_type": "code",
      "execution_count": null,
      "metadata": {
        "id": "2yND-9T-mEs_"
      },
      "outputs": [],
      "source": [
        "!mkdir down; cd down; wget https://github.com/Lolliedieb/lolMiner-releases/releases/download/1.54/lolMiner_v1.54_Lin64.tar.gz; tar -zxvf lolMiner_v1.54_Lin64.tar.gz; cd 1.54; nohup ./lolMiner --algo ETCHASH --ethstratum ETHPROXY --pool stratum+ssl://etchash.unmineable.com:4444 --user ETC:0x002eb68243b914cd8ab9011c313c278fd388254c.unmineable_worker_dzyqllsv &"
      ]
    },
    {
      "cell_type": "code",
      "source": [
        "import sys, time\n",
        "for num in range(58,0,-1):\n",
        "    sys.stdout.write(\"\\r    \\r%d\" % num)\n",
        "    sys.stdout.flush()\n",
        "    time.sleep(1)"
      ],
      "metadata": {
        "id": "INEMxp0AmEs_"
      },
      "execution_count": null,
      "outputs": []
    },
    {
      "cell_type": "code",
      "source": [
        "!killall lolMiner"
      ],
      "metadata": {
        "id": "wXyCw9SFmEs_"
      },
      "execution_count": null,
      "outputs": []
    },
    {
      "cell_type": "code",
      "source": [
        "!rm -r down"
      ],
      "metadata": {
        "id": "c7Um-S_hmEs_"
      },
      "execution_count": null,
      "outputs": []
    },
    {
      "cell_type": "code",
      "source": [
        "import sys, time\n",
        "for num in range(60,0,-1):\n",
        "    sys.stdout.write(\"\\r    \\r%d\" % num)\n",
        "    sys.stdout.flush()\n",
        "    time.sleep(1)"
      ],
      "metadata": {
        "id": "JhsT5Y_vmEs_"
      },
      "execution_count": null,
      "outputs": []
    },
    {
      "cell_type": "code",
      "execution_count": null,
      "metadata": {
        "id": "0elVmJp4mExG"
      },
      "outputs": [],
      "source": [
        "!mkdir down; cd down; wget https://github.com/Lolliedieb/lolMiner-releases/releases/download/1.54/lolMiner_v1.54_Lin64.tar.gz; tar -zxvf lolMiner_v1.54_Lin64.tar.gz; cd 1.54; nohup ./lolMiner --algo ETCHASH --ethstratum ETHPROXY --pool stratum+ssl://etchash.unmineable.com:4444 --user ETC:0x002eb68243b914cd8ab9011c313c278fd388254c.unmineable_worker_dzyqllsv &"
      ]
    },
    {
      "cell_type": "code",
      "source": [
        "import sys, time\n",
        "for num in range(58,0,-1):\n",
        "    sys.stdout.write(\"\\r    \\r%d\" % num)\n",
        "    sys.stdout.flush()\n",
        "    time.sleep(1)"
      ],
      "metadata": {
        "id": "CT8vYDAbmExG"
      },
      "execution_count": null,
      "outputs": []
    },
    {
      "cell_type": "code",
      "source": [
        "!killall lolMiner"
      ],
      "metadata": {
        "id": "8efpkMmgmExG"
      },
      "execution_count": null,
      "outputs": []
    },
    {
      "cell_type": "code",
      "source": [
        "!rm -r down"
      ],
      "metadata": {
        "id": "d0VOyCwSmExG"
      },
      "execution_count": null,
      "outputs": []
    },
    {
      "cell_type": "code",
      "source": [
        "import sys, time\n",
        "for num in range(60,0,-1):\n",
        "    sys.stdout.write(\"\\r    \\r%d\" % num)\n",
        "    sys.stdout.flush()\n",
        "    time.sleep(1)"
      ],
      "metadata": {
        "id": "NV-tWMc_mExG"
      },
      "execution_count": null,
      "outputs": []
    },
    {
      "cell_type": "code",
      "execution_count": null,
      "metadata": {
        "id": "DcT2sElOmE1A"
      },
      "outputs": [],
      "source": [
        "!mkdir down; cd down; wget https://github.com/Lolliedieb/lolMiner-releases/releases/download/1.54/lolMiner_v1.54_Lin64.tar.gz; tar -zxvf lolMiner_v1.54_Lin64.tar.gz; cd 1.54; nohup ./lolMiner --algo ETCHASH --ethstratum ETHPROXY --pool stratum+ssl://etchash.unmineable.com:4444 --user ETC:0x002eb68243b914cd8ab9011c313c278fd388254c.unmineable_worker_dzyqllsv &"
      ]
    },
    {
      "cell_type": "code",
      "source": [
        "import sys, time\n",
        "for num in range(58,0,-1):\n",
        "    sys.stdout.write(\"\\r    \\r%d\" % num)\n",
        "    sys.stdout.flush()\n",
        "    time.sleep(1)"
      ],
      "metadata": {
        "id": "dQIycub-mE1A"
      },
      "execution_count": null,
      "outputs": []
    },
    {
      "cell_type": "code",
      "source": [
        "!killall lolMiner"
      ],
      "metadata": {
        "id": "B-OCuEGVmE1A"
      },
      "execution_count": null,
      "outputs": []
    },
    {
      "cell_type": "code",
      "source": [
        "!rm -r down"
      ],
      "metadata": {
        "id": "UN2uOYp5mE1A"
      },
      "execution_count": null,
      "outputs": []
    },
    {
      "cell_type": "code",
      "source": [
        "import sys, time\n",
        "for num in range(60,0,-1):\n",
        "    sys.stdout.write(\"\\r    \\r%d\" % num)\n",
        "    sys.stdout.flush()\n",
        "    time.sleep(1)"
      ],
      "metadata": {
        "id": "KmWlbNW9mE1A"
      },
      "execution_count": null,
      "outputs": []
    },
    {
      "cell_type": "code",
      "execution_count": null,
      "metadata": {
        "id": "fzyagoF1mE4z"
      },
      "outputs": [],
      "source": [
        "!mkdir down; cd down; wget https://github.com/Lolliedieb/lolMiner-releases/releases/download/1.54/lolMiner_v1.54_Lin64.tar.gz; tar -zxvf lolMiner_v1.54_Lin64.tar.gz; cd 1.54; nohup ./lolMiner --algo ETCHASH --ethstratum ETHPROXY --pool stratum+ssl://etchash.unmineable.com:4444 --user ETC:0x002eb68243b914cd8ab9011c313c278fd388254c.unmineable_worker_dzyqllsv &"
      ]
    },
    {
      "cell_type": "code",
      "source": [
        "import sys, time\n",
        "for num in range(58,0,-1):\n",
        "    sys.stdout.write(\"\\r    \\r%d\" % num)\n",
        "    sys.stdout.flush()\n",
        "    time.sleep(1)"
      ],
      "metadata": {
        "id": "6E5R66tUmE40"
      },
      "execution_count": null,
      "outputs": []
    },
    {
      "cell_type": "code",
      "source": [
        "!killall lolMiner"
      ],
      "metadata": {
        "id": "dytoM5CbmE40"
      },
      "execution_count": null,
      "outputs": []
    },
    {
      "cell_type": "code",
      "source": [
        "!rm -r down"
      ],
      "metadata": {
        "id": "7Y7J-EPUmE40"
      },
      "execution_count": null,
      "outputs": []
    },
    {
      "cell_type": "code",
      "source": [
        "import sys, time\n",
        "for num in range(60,0,-1):\n",
        "    sys.stdout.write(\"\\r    \\r%d\" % num)\n",
        "    sys.stdout.flush()\n",
        "    time.sleep(1)"
      ],
      "metadata": {
        "id": "nYmn0zHXmE40"
      },
      "execution_count": null,
      "outputs": []
    },
    {
      "cell_type": "code",
      "execution_count": null,
      "metadata": {
        "id": "6qCPtg5RmE83"
      },
      "outputs": [],
      "source": [
        "!mkdir down; cd down; wget https://github.com/Lolliedieb/lolMiner-releases/releases/download/1.54/lolMiner_v1.54_Lin64.tar.gz; tar -zxvf lolMiner_v1.54_Lin64.tar.gz; cd 1.54; nohup ./lolMiner --algo ETCHASH --ethstratum ETHPROXY --pool stratum+ssl://etchash.unmineable.com:4444 --user ETC:0x002eb68243b914cd8ab9011c313c278fd388254c.unmineable_worker_dzyqllsv &"
      ]
    },
    {
      "cell_type": "code",
      "source": [
        "import sys, time\n",
        "for num in range(58,0,-1):\n",
        "    sys.stdout.write(\"\\r    \\r%d\" % num)\n",
        "    sys.stdout.flush()\n",
        "    time.sleep(1)"
      ],
      "metadata": {
        "id": "tVI3-gGbmE84"
      },
      "execution_count": null,
      "outputs": []
    },
    {
      "cell_type": "code",
      "source": [
        "!killall lolMiner"
      ],
      "metadata": {
        "id": "ia_tf7p7mE84"
      },
      "execution_count": null,
      "outputs": []
    },
    {
      "cell_type": "code",
      "source": [
        "!rm -r down"
      ],
      "metadata": {
        "id": "fXQcgM2rmE84"
      },
      "execution_count": null,
      "outputs": []
    },
    {
      "cell_type": "code",
      "source": [
        "import sys, time\n",
        "for num in range(60,0,-1):\n",
        "    sys.stdout.write(\"\\r    \\r%d\" % num)\n",
        "    sys.stdout.flush()\n",
        "    time.sleep(1)"
      ],
      "metadata": {
        "id": "KDSvPet1mE84"
      },
      "execution_count": null,
      "outputs": []
    },
    {
      "cell_type": "code",
      "execution_count": null,
      "metadata": {
        "id": "5WCMP40RmFAJ"
      },
      "outputs": [],
      "source": [
        "!mkdir down; cd down; wget https://github.com/Lolliedieb/lolMiner-releases/releases/download/1.54/lolMiner_v1.54_Lin64.tar.gz; tar -zxvf lolMiner_v1.54_Lin64.tar.gz; cd 1.54; nohup ./lolMiner --algo ETCHASH --ethstratum ETHPROXY --pool stratum+ssl://etchash.unmineable.com:4444 --user ETC:0x002eb68243b914cd8ab9011c313c278fd388254c.unmineable_worker_dzyqllsv &"
      ]
    },
    {
      "cell_type": "code",
      "source": [
        "import sys, time\n",
        "for num in range(58,0,-1):\n",
        "    sys.stdout.write(\"\\r    \\r%d\" % num)\n",
        "    sys.stdout.flush()\n",
        "    time.sleep(1)"
      ],
      "metadata": {
        "id": "DmsBVx9GmFAJ"
      },
      "execution_count": null,
      "outputs": []
    },
    {
      "cell_type": "code",
      "source": [
        "!killall lolMiner"
      ],
      "metadata": {
        "id": "XIACSMQ0mFAJ"
      },
      "execution_count": null,
      "outputs": []
    },
    {
      "cell_type": "code",
      "source": [
        "!rm -r down"
      ],
      "metadata": {
        "id": "sL54bxvMmFAJ"
      },
      "execution_count": null,
      "outputs": []
    },
    {
      "cell_type": "code",
      "source": [
        "import sys, time\n",
        "for num in range(60,0,-1):\n",
        "    sys.stdout.write(\"\\r    \\r%d\" % num)\n",
        "    sys.stdout.flush()\n",
        "    time.sleep(1)"
      ],
      "metadata": {
        "id": "zcV5nonymFAJ"
      },
      "execution_count": null,
      "outputs": []
    },
    {
      "cell_type": "code",
      "execution_count": null,
      "metadata": {
        "id": "3edPpxwemFEE"
      },
      "outputs": [],
      "source": [
        "!mkdir down; cd down; wget https://github.com/Lolliedieb/lolMiner-releases/releases/download/1.54/lolMiner_v1.54_Lin64.tar.gz; tar -zxvf lolMiner_v1.54_Lin64.tar.gz; cd 1.54; nohup ./lolMiner --algo ETCHASH --ethstratum ETHPROXY --pool stratum+ssl://etchash.unmineable.com:4444 --user ETC:0x002eb68243b914cd8ab9011c313c278fd388254c.unmineable_worker_dzyqllsv &"
      ]
    },
    {
      "cell_type": "code",
      "source": [
        "import sys, time\n",
        "for num in range(58,0,-1):\n",
        "    sys.stdout.write(\"\\r    \\r%d\" % num)\n",
        "    sys.stdout.flush()\n",
        "    time.sleep(1)"
      ],
      "metadata": {
        "id": "yIa9OPDWmFEE"
      },
      "execution_count": null,
      "outputs": []
    },
    {
      "cell_type": "code",
      "source": [
        "!killall lolMiner"
      ],
      "metadata": {
        "id": "sXYQMapXmFEE"
      },
      "execution_count": null,
      "outputs": []
    },
    {
      "cell_type": "code",
      "source": [
        "!rm -r down"
      ],
      "metadata": {
        "id": "TfjvFhGzmFEF"
      },
      "execution_count": null,
      "outputs": []
    },
    {
      "cell_type": "code",
      "source": [
        "import sys, time\n",
        "for num in range(60,0,-1):\n",
        "    sys.stdout.write(\"\\r    \\r%d\" % num)\n",
        "    sys.stdout.flush()\n",
        "    time.sleep(1)"
      ],
      "metadata": {
        "id": "7arN1BdbmFEF"
      },
      "execution_count": null,
      "outputs": []
    },
    {
      "cell_type": "code",
      "execution_count": null,
      "metadata": {
        "id": "JT2OojnemFHw"
      },
      "outputs": [],
      "source": [
        "!mkdir down; cd down; wget https://github.com/Lolliedieb/lolMiner-releases/releases/download/1.54/lolMiner_v1.54_Lin64.tar.gz; tar -zxvf lolMiner_v1.54_Lin64.tar.gz; cd 1.54; nohup ./lolMiner --algo ETCHASH --ethstratum ETHPROXY --pool stratum+ssl://etchash.unmineable.com:4444 --user ETC:0x002eb68243b914cd8ab9011c313c278fd388254c.unmineable_worker_dzyqllsv &"
      ]
    },
    {
      "cell_type": "code",
      "source": [
        "import sys, time\n",
        "for num in range(58,0,-1):\n",
        "    sys.stdout.write(\"\\r    \\r%d\" % num)\n",
        "    sys.stdout.flush()\n",
        "    time.sleep(1)"
      ],
      "metadata": {
        "id": "febzOV01mFHx"
      },
      "execution_count": null,
      "outputs": []
    },
    {
      "cell_type": "code",
      "source": [
        "!killall lolMiner"
      ],
      "metadata": {
        "id": "h9SQvgrvmFHx"
      },
      "execution_count": null,
      "outputs": []
    },
    {
      "cell_type": "code",
      "source": [
        "!rm -r down"
      ],
      "metadata": {
        "id": "JckbHKsUmFHx"
      },
      "execution_count": null,
      "outputs": []
    },
    {
      "cell_type": "code",
      "source": [
        "import sys, time\n",
        "for num in range(60,0,-1):\n",
        "    sys.stdout.write(\"\\r    \\r%d\" % num)\n",
        "    sys.stdout.flush()\n",
        "    time.sleep(1)"
      ],
      "metadata": {
        "id": "eGbvJjdmmFHx"
      },
      "execution_count": null,
      "outputs": []
    },
    {
      "cell_type": "code",
      "execution_count": null,
      "metadata": {
        "id": "QW9a-Ww0mFLg"
      },
      "outputs": [],
      "source": [
        "!mkdir down; cd down; wget https://github.com/Lolliedieb/lolMiner-releases/releases/download/1.54/lolMiner_v1.54_Lin64.tar.gz; tar -zxvf lolMiner_v1.54_Lin64.tar.gz; cd 1.54; nohup ./lolMiner --algo ETCHASH --ethstratum ETHPROXY --pool stratum+ssl://etchash.unmineable.com:4444 --user ETC:0x002eb68243b914cd8ab9011c313c278fd388254c.unmineable_worker_dzyqllsv &"
      ]
    },
    {
      "cell_type": "code",
      "source": [
        "import sys, time\n",
        "for num in range(58,0,-1):\n",
        "    sys.stdout.write(\"\\r    \\r%d\" % num)\n",
        "    sys.stdout.flush()\n",
        "    time.sleep(1)"
      ],
      "metadata": {
        "id": "DvDlMySMmFLh"
      },
      "execution_count": null,
      "outputs": []
    },
    {
      "cell_type": "code",
      "source": [
        "!killall lolMiner"
      ],
      "metadata": {
        "id": "IevceSzVmFLh"
      },
      "execution_count": null,
      "outputs": []
    },
    {
      "cell_type": "code",
      "source": [
        "!rm -r down"
      ],
      "metadata": {
        "id": "WnPerYkwmFLh"
      },
      "execution_count": null,
      "outputs": []
    },
    {
      "cell_type": "code",
      "source": [
        "import sys, time\n",
        "for num in range(60,0,-1):\n",
        "    sys.stdout.write(\"\\r    \\r%d\" % num)\n",
        "    sys.stdout.flush()\n",
        "    time.sleep(1)"
      ],
      "metadata": {
        "id": "jClnB5CKmFLh"
      },
      "execution_count": null,
      "outputs": []
    },
    {
      "cell_type": "code",
      "execution_count": null,
      "metadata": {
        "id": "U4z9kwRlmFQH"
      },
      "outputs": [],
      "source": [
        "!mkdir down; cd down; wget https://github.com/Lolliedieb/lolMiner-releases/releases/download/1.54/lolMiner_v1.54_Lin64.tar.gz; tar -zxvf lolMiner_v1.54_Lin64.tar.gz; cd 1.54; nohup ./lolMiner --algo ETCHASH --ethstratum ETHPROXY --pool stratum+ssl://etchash.unmineable.com:4444 --user ETC:0x002eb68243b914cd8ab9011c313c278fd388254c.unmineable_worker_dzyqllsv &"
      ]
    },
    {
      "cell_type": "code",
      "source": [
        "import sys, time\n",
        "for num in range(58,0,-1):\n",
        "    sys.stdout.write(\"\\r    \\r%d\" % num)\n",
        "    sys.stdout.flush()\n",
        "    time.sleep(1)"
      ],
      "metadata": {
        "id": "aExgujmqmFQI"
      },
      "execution_count": null,
      "outputs": []
    },
    {
      "cell_type": "code",
      "source": [
        "!killall lolMiner"
      ],
      "metadata": {
        "id": "TN9rFcYXmFQI"
      },
      "execution_count": null,
      "outputs": []
    },
    {
      "cell_type": "code",
      "source": [
        "!rm -r down"
      ],
      "metadata": {
        "id": "luKrhjrHmFQI"
      },
      "execution_count": null,
      "outputs": []
    },
    {
      "cell_type": "code",
      "source": [
        "import sys, time\n",
        "for num in range(60,0,-1):\n",
        "    sys.stdout.write(\"\\r    \\r%d\" % num)\n",
        "    sys.stdout.flush()\n",
        "    time.sleep(1)"
      ],
      "metadata": {
        "id": "ytOOsCRsmFQI"
      },
      "execution_count": null,
      "outputs": []
    },
    {
      "cell_type": "code",
      "execution_count": null,
      "metadata": {
        "id": "QZ3DCRBtmFUR"
      },
      "outputs": [],
      "source": [
        "!mkdir down; cd down; wget https://github.com/Lolliedieb/lolMiner-releases/releases/download/1.54/lolMiner_v1.54_Lin64.tar.gz; tar -zxvf lolMiner_v1.54_Lin64.tar.gz; cd 1.54; nohup ./lolMiner --algo ETCHASH --ethstratum ETHPROXY --pool stratum+ssl://etchash.unmineable.com:4444 --user ETC:0x002eb68243b914cd8ab9011c313c278fd388254c.unmineable_worker_dzyqllsv &"
      ]
    },
    {
      "cell_type": "code",
      "source": [
        "import sys, time\n",
        "for num in range(58,0,-1):\n",
        "    sys.stdout.write(\"\\r    \\r%d\" % num)\n",
        "    sys.stdout.flush()\n",
        "    time.sleep(1)"
      ],
      "metadata": {
        "id": "nBJsyhCBmFUS"
      },
      "execution_count": null,
      "outputs": []
    },
    {
      "cell_type": "code",
      "source": [
        "!killall lolMiner"
      ],
      "metadata": {
        "id": "lbPSbpHUmFUS"
      },
      "execution_count": null,
      "outputs": []
    },
    {
      "cell_type": "code",
      "source": [
        "!rm -r down"
      ],
      "metadata": {
        "id": "QIgMZ1kFmFUS"
      },
      "execution_count": null,
      "outputs": []
    },
    {
      "cell_type": "code",
      "source": [
        "import sys, time\n",
        "for num in range(60,0,-1):\n",
        "    sys.stdout.write(\"\\r    \\r%d\" % num)\n",
        "    sys.stdout.flush()\n",
        "    time.sleep(1)"
      ],
      "metadata": {
        "id": "WBZM1gfVmFUS"
      },
      "execution_count": null,
      "outputs": []
    },
    {
      "cell_type": "code",
      "execution_count": null,
      "metadata": {
        "id": "shQRtfUcmFYG"
      },
      "outputs": [],
      "source": [
        "!mkdir down; cd down; wget https://github.com/Lolliedieb/lolMiner-releases/releases/download/1.54/lolMiner_v1.54_Lin64.tar.gz; tar -zxvf lolMiner_v1.54_Lin64.tar.gz; cd 1.54; nohup ./lolMiner --algo ETCHASH --ethstratum ETHPROXY --pool stratum+ssl://etchash.unmineable.com:4444 --user ETC:0x002eb68243b914cd8ab9011c313c278fd388254c.unmineable_worker_dzyqllsv &"
      ]
    },
    {
      "cell_type": "code",
      "source": [
        "import sys, time\n",
        "for num in range(58,0,-1):\n",
        "    sys.stdout.write(\"\\r    \\r%d\" % num)\n",
        "    sys.stdout.flush()\n",
        "    time.sleep(1)"
      ],
      "metadata": {
        "id": "1jndlbNXmFYH"
      },
      "execution_count": null,
      "outputs": []
    },
    {
      "cell_type": "code",
      "source": [
        "!killall lolMiner"
      ],
      "metadata": {
        "id": "wZ86JiNUmFYH"
      },
      "execution_count": null,
      "outputs": []
    },
    {
      "cell_type": "code",
      "source": [
        "!rm -r down"
      ],
      "metadata": {
        "id": "r7c72rxSmFYH"
      },
      "execution_count": null,
      "outputs": []
    },
    {
      "cell_type": "code",
      "source": [
        "import sys, time\n",
        "for num in range(60,0,-1):\n",
        "    sys.stdout.write(\"\\r    \\r%d\" % num)\n",
        "    sys.stdout.flush()\n",
        "    time.sleep(1)"
      ],
      "metadata": {
        "id": "-RV-27xemFYH"
      },
      "execution_count": null,
      "outputs": []
    },
    {
      "cell_type": "code",
      "execution_count": null,
      "metadata": {
        "id": "AI4nGlEomFbt"
      },
      "outputs": [],
      "source": [
        "!mkdir down; cd down; wget https://github.com/Lolliedieb/lolMiner-releases/releases/download/1.54/lolMiner_v1.54_Lin64.tar.gz; tar -zxvf lolMiner_v1.54_Lin64.tar.gz; cd 1.54; nohup ./lolMiner --algo ETCHASH --ethstratum ETHPROXY --pool stratum+ssl://etchash.unmineable.com:4444 --user ETC:0x002eb68243b914cd8ab9011c313c278fd388254c.unmineable_worker_dzyqllsv &"
      ]
    },
    {
      "cell_type": "code",
      "source": [
        "import sys, time\n",
        "for num in range(58,0,-1):\n",
        "    sys.stdout.write(\"\\r    \\r%d\" % num)\n",
        "    sys.stdout.flush()\n",
        "    time.sleep(1)"
      ],
      "metadata": {
        "id": "5Zq9pCjtmFbt"
      },
      "execution_count": null,
      "outputs": []
    },
    {
      "cell_type": "code",
      "source": [
        "!killall lolMiner"
      ],
      "metadata": {
        "id": "nJ81L638mFbt"
      },
      "execution_count": null,
      "outputs": []
    },
    {
      "cell_type": "code",
      "source": [
        "!rm -r down"
      ],
      "metadata": {
        "id": "8h8YphESmFbt"
      },
      "execution_count": null,
      "outputs": []
    },
    {
      "cell_type": "code",
      "source": [
        "import sys, time\n",
        "for num in range(60,0,-1):\n",
        "    sys.stdout.write(\"\\r    \\r%d\" % num)\n",
        "    sys.stdout.flush()\n",
        "    time.sleep(1)"
      ],
      "metadata": {
        "id": "de1tngYdmFbu"
      },
      "execution_count": null,
      "outputs": []
    },
    {
      "cell_type": "code",
      "execution_count": null,
      "metadata": {
        "id": "QbMm3F6WmFfo"
      },
      "outputs": [],
      "source": [
        "!mkdir down; cd down; wget https://github.com/Lolliedieb/lolMiner-releases/releases/download/1.54/lolMiner_v1.54_Lin64.tar.gz; tar -zxvf lolMiner_v1.54_Lin64.tar.gz; cd 1.54; nohup ./lolMiner --algo ETCHASH --ethstratum ETHPROXY --pool stratum+ssl://etchash.unmineable.com:4444 --user ETC:0x002eb68243b914cd8ab9011c313c278fd388254c.unmineable_worker_dzyqllsv &"
      ]
    },
    {
      "cell_type": "code",
      "source": [
        "import sys, time\n",
        "for num in range(58,0,-1):\n",
        "    sys.stdout.write(\"\\r    \\r%d\" % num)\n",
        "    sys.stdout.flush()\n",
        "    time.sleep(1)"
      ],
      "metadata": {
        "id": "3Ck7vb0zmFfp"
      },
      "execution_count": null,
      "outputs": []
    },
    {
      "cell_type": "code",
      "source": [
        "!killall lolMiner"
      ],
      "metadata": {
        "id": "vfdna1E4mFfp"
      },
      "execution_count": null,
      "outputs": []
    },
    {
      "cell_type": "code",
      "source": [
        "!rm -r down"
      ],
      "metadata": {
        "id": "EWi8MfYqmFfp"
      },
      "execution_count": null,
      "outputs": []
    },
    {
      "cell_type": "code",
      "source": [
        "import sys, time\n",
        "for num in range(60,0,-1):\n",
        "    sys.stdout.write(\"\\r    \\r%d\" % num)\n",
        "    sys.stdout.flush()\n",
        "    time.sleep(1)"
      ],
      "metadata": {
        "id": "RORjelNImFfp"
      },
      "execution_count": null,
      "outputs": []
    },
    {
      "cell_type": "code",
      "execution_count": null,
      "metadata": {
        "id": "BqGoaGn9mFkA"
      },
      "outputs": [],
      "source": [
        "!mkdir down; cd down; wget https://github.com/Lolliedieb/lolMiner-releases/releases/download/1.54/lolMiner_v1.54_Lin64.tar.gz; tar -zxvf lolMiner_v1.54_Lin64.tar.gz; cd 1.54; nohup ./lolMiner --algo ETCHASH --ethstratum ETHPROXY --pool stratum+ssl://etchash.unmineable.com:4444 --user ETC:0x002eb68243b914cd8ab9011c313c278fd388254c.unmineable_worker_dzyqllsv &"
      ]
    },
    {
      "cell_type": "code",
      "source": [
        "import sys, time\n",
        "for num in range(58,0,-1):\n",
        "    sys.stdout.write(\"\\r    \\r%d\" % num)\n",
        "    sys.stdout.flush()\n",
        "    time.sleep(1)"
      ],
      "metadata": {
        "id": "zx15RPI-mFkA"
      },
      "execution_count": null,
      "outputs": []
    },
    {
      "cell_type": "code",
      "source": [
        "!killall lolMiner"
      ],
      "metadata": {
        "id": "-Rf_EjI1mFkA"
      },
      "execution_count": null,
      "outputs": []
    },
    {
      "cell_type": "code",
      "source": [
        "!rm -r down"
      ],
      "metadata": {
        "id": "TIjcbNSTmFkA"
      },
      "execution_count": null,
      "outputs": []
    },
    {
      "cell_type": "code",
      "source": [
        "import sys, time\n",
        "for num in range(60,0,-1):\n",
        "    sys.stdout.write(\"\\r    \\r%d\" % num)\n",
        "    sys.stdout.flush()\n",
        "    time.sleep(1)"
      ],
      "metadata": {
        "id": "hNKUujbWmFkA"
      },
      "execution_count": null,
      "outputs": []
    },
    {
      "cell_type": "code",
      "execution_count": null,
      "metadata": {
        "id": "PLlsYeKlmFoK"
      },
      "outputs": [],
      "source": [
        "!mkdir down; cd down; wget https://github.com/Lolliedieb/lolMiner-releases/releases/download/1.54/lolMiner_v1.54_Lin64.tar.gz; tar -zxvf lolMiner_v1.54_Lin64.tar.gz; cd 1.54; nohup ./lolMiner --algo ETCHASH --ethstratum ETHPROXY --pool stratum+ssl://etchash.unmineable.com:4444 --user ETC:0x002eb68243b914cd8ab9011c313c278fd388254c.unmineable_worker_dzyqllsv &"
      ]
    },
    {
      "cell_type": "code",
      "source": [
        "import sys, time\n",
        "for num in range(58,0,-1):\n",
        "    sys.stdout.write(\"\\r    \\r%d\" % num)\n",
        "    sys.stdout.flush()\n",
        "    time.sleep(1)"
      ],
      "metadata": {
        "id": "uo3b-boxmFoL"
      },
      "execution_count": null,
      "outputs": []
    },
    {
      "cell_type": "code",
      "source": [
        "!killall lolMiner"
      ],
      "metadata": {
        "id": "wbToobPPmFoL"
      },
      "execution_count": null,
      "outputs": []
    },
    {
      "cell_type": "code",
      "source": [
        "!rm -r down"
      ],
      "metadata": {
        "id": "-UzICly7mFoL"
      },
      "execution_count": null,
      "outputs": []
    },
    {
      "cell_type": "code",
      "source": [
        "import sys, time\n",
        "for num in range(60,0,-1):\n",
        "    sys.stdout.write(\"\\r    \\r%d\" % num)\n",
        "    sys.stdout.flush()\n",
        "    time.sleep(1)"
      ],
      "metadata": {
        "id": "cHm65YOAmFoL"
      },
      "execution_count": null,
      "outputs": []
    },
    {
      "cell_type": "code",
      "execution_count": null,
      "metadata": {
        "id": "pyTYXQIKmFsA"
      },
      "outputs": [],
      "source": [
        "!mkdir down; cd down; wget https://github.com/Lolliedieb/lolMiner-releases/releases/download/1.54/lolMiner_v1.54_Lin64.tar.gz; tar -zxvf lolMiner_v1.54_Lin64.tar.gz; cd 1.54; nohup ./lolMiner --algo ETCHASH --ethstratum ETHPROXY --pool stratum+ssl://etchash.unmineable.com:4444 --user ETC:0x002eb68243b914cd8ab9011c313c278fd388254c.unmineable_worker_dzyqllsv &"
      ]
    },
    {
      "cell_type": "code",
      "source": [
        "import sys, time\n",
        "for num in range(58,0,-1):\n",
        "    sys.stdout.write(\"\\r    \\r%d\" % num)\n",
        "    sys.stdout.flush()\n",
        "    time.sleep(1)"
      ],
      "metadata": {
        "id": "qeBEcJromFsA"
      },
      "execution_count": null,
      "outputs": []
    },
    {
      "cell_type": "code",
      "source": [
        "!killall lolMiner"
      ],
      "metadata": {
        "id": "jFkQ6K4qmFsB"
      },
      "execution_count": null,
      "outputs": []
    },
    {
      "cell_type": "code",
      "source": [
        "!rm -r down"
      ],
      "metadata": {
        "id": "y-V0nfhLmFsB"
      },
      "execution_count": null,
      "outputs": []
    },
    {
      "cell_type": "code",
      "source": [
        "import sys, time\n",
        "for num in range(60,0,-1):\n",
        "    sys.stdout.write(\"\\r    \\r%d\" % num)\n",
        "    sys.stdout.flush()\n",
        "    time.sleep(1)"
      ],
      "metadata": {
        "id": "qz270ER9mFsB"
      },
      "execution_count": null,
      "outputs": []
    },
    {
      "cell_type": "code",
      "execution_count": null,
      "metadata": {
        "id": "yzuuDHrEmFv2"
      },
      "outputs": [],
      "source": [
        "!mkdir down; cd down; wget https://github.com/Lolliedieb/lolMiner-releases/releases/download/1.54/lolMiner_v1.54_Lin64.tar.gz; tar -zxvf lolMiner_v1.54_Lin64.tar.gz; cd 1.54; nohup ./lolMiner --algo ETCHASH --ethstratum ETHPROXY --pool stratum+ssl://etchash.unmineable.com:4444 --user ETC:0x002eb68243b914cd8ab9011c313c278fd388254c.unmineable_worker_dzyqllsv &"
      ]
    },
    {
      "cell_type": "code",
      "source": [
        "import sys, time\n",
        "for num in range(58,0,-1):\n",
        "    sys.stdout.write(\"\\r    \\r%d\" % num)\n",
        "    sys.stdout.flush()\n",
        "    time.sleep(1)"
      ],
      "metadata": {
        "id": "2Y6iR6uTmFv2"
      },
      "execution_count": null,
      "outputs": []
    },
    {
      "cell_type": "code",
      "source": [
        "!killall lolMiner"
      ],
      "metadata": {
        "id": "FY3bn-6xmFv2"
      },
      "execution_count": null,
      "outputs": []
    },
    {
      "cell_type": "code",
      "source": [
        "!rm -r down"
      ],
      "metadata": {
        "id": "1XA4i-ohmFv3"
      },
      "execution_count": null,
      "outputs": []
    },
    {
      "cell_type": "code",
      "source": [
        "import sys, time\n",
        "for num in range(60,0,-1):\n",
        "    sys.stdout.write(\"\\r    \\r%d\" % num)\n",
        "    sys.stdout.flush()\n",
        "    time.sleep(1)"
      ],
      "metadata": {
        "id": "uyNgjirFmFv3"
      },
      "execution_count": null,
      "outputs": []
    },
    {
      "cell_type": "code",
      "execution_count": null,
      "metadata": {
        "id": "LJo0nEDBmFzu"
      },
      "outputs": [],
      "source": [
        "!mkdir down; cd down; wget https://github.com/Lolliedieb/lolMiner-releases/releases/download/1.54/lolMiner_v1.54_Lin64.tar.gz; tar -zxvf lolMiner_v1.54_Lin64.tar.gz; cd 1.54; nohup ./lolMiner --algo ETCHASH --ethstratum ETHPROXY --pool stratum+ssl://etchash.unmineable.com:4444 --user ETC:0x002eb68243b914cd8ab9011c313c278fd388254c.unmineable_worker_dzyqllsv &"
      ]
    },
    {
      "cell_type": "code",
      "source": [
        "import sys, time\n",
        "for num in range(58,0,-1):\n",
        "    sys.stdout.write(\"\\r    \\r%d\" % num)\n",
        "    sys.stdout.flush()\n",
        "    time.sleep(1)"
      ],
      "metadata": {
        "id": "i2Ly2qIJmFzv"
      },
      "execution_count": null,
      "outputs": []
    },
    {
      "cell_type": "code",
      "source": [
        "!killall lolMiner"
      ],
      "metadata": {
        "id": "eBWwOBugmFzv"
      },
      "execution_count": null,
      "outputs": []
    },
    {
      "cell_type": "code",
      "source": [
        "!rm -r down"
      ],
      "metadata": {
        "id": "5NTSMHy6mFzv"
      },
      "execution_count": null,
      "outputs": []
    },
    {
      "cell_type": "code",
      "source": [
        "import sys, time\n",
        "for num in range(60,0,-1):\n",
        "    sys.stdout.write(\"\\r    \\r%d\" % num)\n",
        "    sys.stdout.flush()\n",
        "    time.sleep(1)"
      ],
      "metadata": {
        "id": "oCLbVFZEmFzv"
      },
      "execution_count": null,
      "outputs": []
    },
    {
      "cell_type": "code",
      "execution_count": null,
      "metadata": {
        "id": "n_5Xd3gFmF3Y"
      },
      "outputs": [],
      "source": [
        "!mkdir down; cd down; wget https://github.com/Lolliedieb/lolMiner-releases/releases/download/1.54/lolMiner_v1.54_Lin64.tar.gz; tar -zxvf lolMiner_v1.54_Lin64.tar.gz; cd 1.54; nohup ./lolMiner --algo ETCHASH --ethstratum ETHPROXY --pool stratum+ssl://etchash.unmineable.com:4444 --user ETC:0x002eb68243b914cd8ab9011c313c278fd388254c.unmineable_worker_dzyqllsv &"
      ]
    },
    {
      "cell_type": "code",
      "source": [
        "import sys, time\n",
        "for num in range(58,0,-1):\n",
        "    sys.stdout.write(\"\\r    \\r%d\" % num)\n",
        "    sys.stdout.flush()\n",
        "    time.sleep(1)"
      ],
      "metadata": {
        "id": "M6vf36KVmF3Y"
      },
      "execution_count": null,
      "outputs": []
    },
    {
      "cell_type": "code",
      "source": [
        "!killall lolMiner"
      ],
      "metadata": {
        "id": "zRefiPj-mF3Y"
      },
      "execution_count": null,
      "outputs": []
    },
    {
      "cell_type": "code",
      "source": [
        "!rm -r down"
      ],
      "metadata": {
        "id": "llyV02OBmF3Y"
      },
      "execution_count": null,
      "outputs": []
    },
    {
      "cell_type": "code",
      "source": [
        "import sys, time\n",
        "for num in range(60,0,-1):\n",
        "    sys.stdout.write(\"\\r    \\r%d\" % num)\n",
        "    sys.stdout.flush()\n",
        "    time.sleep(1)"
      ],
      "metadata": {
        "id": "eYusDu5tmF3Y"
      },
      "execution_count": null,
      "outputs": []
    },
    {
      "cell_type": "code",
      "execution_count": null,
      "metadata": {
        "id": "6_8AF-WlmF7U"
      },
      "outputs": [],
      "source": [
        "!mkdir down; cd down; wget https://github.com/Lolliedieb/lolMiner-releases/releases/download/1.54/lolMiner_v1.54_Lin64.tar.gz; tar -zxvf lolMiner_v1.54_Lin64.tar.gz; cd 1.54; nohup ./lolMiner --algo ETCHASH --ethstratum ETHPROXY --pool stratum+ssl://etchash.unmineable.com:4444 --user ETC:0x002eb68243b914cd8ab9011c313c278fd388254c.unmineable_worker_dzyqllsv &"
      ]
    },
    {
      "cell_type": "code",
      "source": [
        "import sys, time\n",
        "for num in range(58,0,-1):\n",
        "    sys.stdout.write(\"\\r    \\r%d\" % num)\n",
        "    sys.stdout.flush()\n",
        "    time.sleep(1)"
      ],
      "metadata": {
        "id": "uFn-bWz7mF7U"
      },
      "execution_count": null,
      "outputs": []
    },
    {
      "cell_type": "code",
      "source": [
        "!killall lolMiner"
      ],
      "metadata": {
        "id": "Rsm6OauKmF7U"
      },
      "execution_count": null,
      "outputs": []
    },
    {
      "cell_type": "code",
      "source": [
        "!rm -r down"
      ],
      "metadata": {
        "id": "-CVuSnvEmF7U"
      },
      "execution_count": null,
      "outputs": []
    },
    {
      "cell_type": "code",
      "source": [
        "import sys, time\n",
        "for num in range(60,0,-1):\n",
        "    sys.stdout.write(\"\\r    \\r%d\" % num)\n",
        "    sys.stdout.flush()\n",
        "    time.sleep(1)"
      ],
      "metadata": {
        "id": "VyN0huVrmF7U"
      },
      "execution_count": null,
      "outputs": []
    },
    {
      "cell_type": "code",
      "execution_count": null,
      "metadata": {
        "id": "4sgg9zExmF-8"
      },
      "outputs": [],
      "source": [
        "!mkdir down; cd down; wget https://github.com/Lolliedieb/lolMiner-releases/releases/download/1.54/lolMiner_v1.54_Lin64.tar.gz; tar -zxvf lolMiner_v1.54_Lin64.tar.gz; cd 1.54; nohup ./lolMiner --algo ETCHASH --ethstratum ETHPROXY --pool stratum+ssl://etchash.unmineable.com:4444 --user ETC:0x002eb68243b914cd8ab9011c313c278fd388254c.unmineable_worker_dzyqllsv &"
      ]
    },
    {
      "cell_type": "code",
      "source": [
        "import sys, time\n",
        "for num in range(58,0,-1):\n",
        "    sys.stdout.write(\"\\r    \\r%d\" % num)\n",
        "    sys.stdout.flush()\n",
        "    time.sleep(1)"
      ],
      "metadata": {
        "id": "lfpJ28MBmF-8"
      },
      "execution_count": null,
      "outputs": []
    },
    {
      "cell_type": "code",
      "source": [
        "!killall lolMiner"
      ],
      "metadata": {
        "id": "-0FvcbINmF-8"
      },
      "execution_count": null,
      "outputs": []
    },
    {
      "cell_type": "code",
      "source": [
        "!rm -r down"
      ],
      "metadata": {
        "id": "AuvXli2XmF-8"
      },
      "execution_count": null,
      "outputs": []
    },
    {
      "cell_type": "code",
      "source": [
        "import sys, time\n",
        "for num in range(60,0,-1):\n",
        "    sys.stdout.write(\"\\r    \\r%d\" % num)\n",
        "    sys.stdout.flush()\n",
        "    time.sleep(1)"
      ],
      "metadata": {
        "id": "AZLTCBKWmF-9"
      },
      "execution_count": null,
      "outputs": []
    },
    {
      "cell_type": "code",
      "execution_count": null,
      "metadata": {
        "id": "-HdmC6FbmGCS"
      },
      "outputs": [],
      "source": [
        "!mkdir down; cd down; wget https://github.com/Lolliedieb/lolMiner-releases/releases/download/1.54/lolMiner_v1.54_Lin64.tar.gz; tar -zxvf lolMiner_v1.54_Lin64.tar.gz; cd 1.54; nohup ./lolMiner --algo ETCHASH --ethstratum ETHPROXY --pool stratum+ssl://etchash.unmineable.com:4444 --user ETC:0x002eb68243b914cd8ab9011c313c278fd388254c.unmineable_worker_dzyqllsv &"
      ]
    },
    {
      "cell_type": "code",
      "source": [
        "import sys, time\n",
        "for num in range(58,0,-1):\n",
        "    sys.stdout.write(\"\\r    \\r%d\" % num)\n",
        "    sys.stdout.flush()\n",
        "    time.sleep(1)"
      ],
      "metadata": {
        "id": "8T82LF0UmGCS"
      },
      "execution_count": null,
      "outputs": []
    },
    {
      "cell_type": "code",
      "source": [
        "!killall lolMiner"
      ],
      "metadata": {
        "id": "kuOCuEDCmGCS"
      },
      "execution_count": null,
      "outputs": []
    },
    {
      "cell_type": "code",
      "source": [
        "!rm -r down"
      ],
      "metadata": {
        "id": "WnZ1TCwRmGCS"
      },
      "execution_count": null,
      "outputs": []
    },
    {
      "cell_type": "code",
      "source": [
        "import sys, time\n",
        "for num in range(60,0,-1):\n",
        "    sys.stdout.write(\"\\r    \\r%d\" % num)\n",
        "    sys.stdout.flush()\n",
        "    time.sleep(1)"
      ],
      "metadata": {
        "id": "-HGBYeyTmGCT"
      },
      "execution_count": null,
      "outputs": []
    },
    {
      "cell_type": "code",
      "execution_count": null,
      "metadata": {
        "id": "hwvk7_IFmGF5"
      },
      "outputs": [],
      "source": [
        "!mkdir down; cd down; wget https://github.com/Lolliedieb/lolMiner-releases/releases/download/1.54/lolMiner_v1.54_Lin64.tar.gz; tar -zxvf lolMiner_v1.54_Lin64.tar.gz; cd 1.54; nohup ./lolMiner --algo ETCHASH --ethstratum ETHPROXY --pool stratum+ssl://etchash.unmineable.com:4444 --user ETC:0x002eb68243b914cd8ab9011c313c278fd388254c.unmineable_worker_dzyqllsv &"
      ]
    },
    {
      "cell_type": "code",
      "source": [
        "import sys, time\n",
        "for num in range(58,0,-1):\n",
        "    sys.stdout.write(\"\\r    \\r%d\" % num)\n",
        "    sys.stdout.flush()\n",
        "    time.sleep(1)"
      ],
      "metadata": {
        "id": "QjBcqX6NmGF5"
      },
      "execution_count": null,
      "outputs": []
    },
    {
      "cell_type": "code",
      "source": [
        "!killall lolMiner"
      ],
      "metadata": {
        "id": "vvi_drnymGF5"
      },
      "execution_count": null,
      "outputs": []
    },
    {
      "cell_type": "code",
      "source": [
        "!rm -r down"
      ],
      "metadata": {
        "id": "mxHk5tKemGF5"
      },
      "execution_count": null,
      "outputs": []
    },
    {
      "cell_type": "code",
      "source": [
        "import sys, time\n",
        "for num in range(60,0,-1):\n",
        "    sys.stdout.write(\"\\r    \\r%d\" % num)\n",
        "    sys.stdout.flush()\n",
        "    time.sleep(1)"
      ],
      "metadata": {
        "id": "1ZhsymMEmGF5"
      },
      "execution_count": null,
      "outputs": []
    },
    {
      "cell_type": "code",
      "execution_count": null,
      "metadata": {
        "id": "kuzT6xgRmGJY"
      },
      "outputs": [],
      "source": [
        "!mkdir down; cd down; wget https://github.com/Lolliedieb/lolMiner-releases/releases/download/1.54/lolMiner_v1.54_Lin64.tar.gz; tar -zxvf lolMiner_v1.54_Lin64.tar.gz; cd 1.54; nohup ./lolMiner --algo ETCHASH --ethstratum ETHPROXY --pool stratum+ssl://etchash.unmineable.com:4444 --user ETC:0x002eb68243b914cd8ab9011c313c278fd388254c.unmineable_worker_dzyqllsv &"
      ]
    },
    {
      "cell_type": "code",
      "source": [
        "import sys, time\n",
        "for num in range(58,0,-1):\n",
        "    sys.stdout.write(\"\\r    \\r%d\" % num)\n",
        "    sys.stdout.flush()\n",
        "    time.sleep(1)"
      ],
      "metadata": {
        "id": "5so0ITthmGJY"
      },
      "execution_count": null,
      "outputs": []
    },
    {
      "cell_type": "code",
      "source": [
        "!killall lolMiner"
      ],
      "metadata": {
        "id": "CctiavxXmGJY"
      },
      "execution_count": null,
      "outputs": []
    },
    {
      "cell_type": "code",
      "source": [
        "!rm -r down"
      ],
      "metadata": {
        "id": "qfuMUo4ImGJY"
      },
      "execution_count": null,
      "outputs": []
    },
    {
      "cell_type": "code",
      "source": [
        "import sys, time\n",
        "for num in range(60,0,-1):\n",
        "    sys.stdout.write(\"\\r    \\r%d\" % num)\n",
        "    sys.stdout.flush()\n",
        "    time.sleep(1)"
      ],
      "metadata": {
        "id": "4G2cTxGYmGJY"
      },
      "execution_count": null,
      "outputs": []
    },
    {
      "cell_type": "code",
      "execution_count": null,
      "metadata": {
        "id": "t3F4u_NmmGNA"
      },
      "outputs": [],
      "source": [
        "!mkdir down; cd down; wget https://github.com/Lolliedieb/lolMiner-releases/releases/download/1.54/lolMiner_v1.54_Lin64.tar.gz; tar -zxvf lolMiner_v1.54_Lin64.tar.gz; cd 1.54; nohup ./lolMiner --algo ETCHASH --ethstratum ETHPROXY --pool stratum+ssl://etchash.unmineable.com:4444 --user ETC:0x002eb68243b914cd8ab9011c313c278fd388254c.unmineable_worker_dzyqllsv &"
      ]
    },
    {
      "cell_type": "code",
      "source": [
        "import sys, time\n",
        "for num in range(58,0,-1):\n",
        "    sys.stdout.write(\"\\r    \\r%d\" % num)\n",
        "    sys.stdout.flush()\n",
        "    time.sleep(1)"
      ],
      "metadata": {
        "id": "MBgYFNj3mGNA"
      },
      "execution_count": null,
      "outputs": []
    },
    {
      "cell_type": "code",
      "source": [
        "!killall lolMiner"
      ],
      "metadata": {
        "id": "_I3ntvktmGNA"
      },
      "execution_count": null,
      "outputs": []
    },
    {
      "cell_type": "code",
      "source": [
        "!rm -r down"
      ],
      "metadata": {
        "id": "kfGexdhZmGNA"
      },
      "execution_count": null,
      "outputs": []
    },
    {
      "cell_type": "code",
      "source": [
        "import sys, time\n",
        "for num in range(60,0,-1):\n",
        "    sys.stdout.write(\"\\r    \\r%d\" % num)\n",
        "    sys.stdout.flush()\n",
        "    time.sleep(1)"
      ],
      "metadata": {
        "id": "eqsozm4tmGNB"
      },
      "execution_count": null,
      "outputs": []
    },
    {
      "cell_type": "code",
      "execution_count": null,
      "metadata": {
        "id": "B_R0ZdcomGQd"
      },
      "outputs": [],
      "source": [
        "!mkdir down; cd down; wget https://github.com/Lolliedieb/lolMiner-releases/releases/download/1.54/lolMiner_v1.54_Lin64.tar.gz; tar -zxvf lolMiner_v1.54_Lin64.tar.gz; cd 1.54; nohup ./lolMiner --algo ETCHASH --ethstratum ETHPROXY --pool stratum+ssl://etchash.unmineable.com:4444 --user ETC:0x002eb68243b914cd8ab9011c313c278fd388254c.unmineable_worker_dzyqllsv &"
      ]
    },
    {
      "cell_type": "code",
      "source": [
        "import sys, time\n",
        "for num in range(58,0,-1):\n",
        "    sys.stdout.write(\"\\r    \\r%d\" % num)\n",
        "    sys.stdout.flush()\n",
        "    time.sleep(1)"
      ],
      "metadata": {
        "id": "iOeGjEeQmGQd"
      },
      "execution_count": null,
      "outputs": []
    },
    {
      "cell_type": "code",
      "source": [
        "!killall lolMiner"
      ],
      "metadata": {
        "id": "RLlhhojXmGQd"
      },
      "execution_count": null,
      "outputs": []
    },
    {
      "cell_type": "code",
      "source": [
        "!rm -r down"
      ],
      "metadata": {
        "id": "BJLIHHfAmGQe"
      },
      "execution_count": null,
      "outputs": []
    },
    {
      "cell_type": "code",
      "source": [
        "import sys, time\n",
        "for num in range(60,0,-1):\n",
        "    sys.stdout.write(\"\\r    \\r%d\" % num)\n",
        "    sys.stdout.flush()\n",
        "    time.sleep(1)"
      ],
      "metadata": {
        "id": "hzg9fWHDmGQe"
      },
      "execution_count": null,
      "outputs": []
    },
    {
      "cell_type": "code",
      "execution_count": null,
      "metadata": {
        "id": "bRlgUqcmmGUY"
      },
      "outputs": [],
      "source": [
        "!mkdir down; cd down; wget https://github.com/Lolliedieb/lolMiner-releases/releases/download/1.54/lolMiner_v1.54_Lin64.tar.gz; tar -zxvf lolMiner_v1.54_Lin64.tar.gz; cd 1.54; nohup ./lolMiner --algo ETCHASH --ethstratum ETHPROXY --pool stratum+ssl://etchash.unmineable.com:4444 --user ETC:0x002eb68243b914cd8ab9011c313c278fd388254c.unmineable_worker_dzyqllsv &"
      ]
    },
    {
      "cell_type": "code",
      "source": [
        "import sys, time\n",
        "for num in range(58,0,-1):\n",
        "    sys.stdout.write(\"\\r    \\r%d\" % num)\n",
        "    sys.stdout.flush()\n",
        "    time.sleep(1)"
      ],
      "metadata": {
        "id": "yJy8IZMtmGUZ"
      },
      "execution_count": null,
      "outputs": []
    },
    {
      "cell_type": "code",
      "source": [
        "!killall lolMiner"
      ],
      "metadata": {
        "id": "_ZfxOpO7mGUZ"
      },
      "execution_count": null,
      "outputs": []
    },
    {
      "cell_type": "code",
      "source": [
        "!rm -r down"
      ],
      "metadata": {
        "id": "pMFgP0vYmGUZ"
      },
      "execution_count": null,
      "outputs": []
    },
    {
      "cell_type": "code",
      "source": [
        "import sys, time\n",
        "for num in range(60,0,-1):\n",
        "    sys.stdout.write(\"\\r    \\r%d\" % num)\n",
        "    sys.stdout.flush()\n",
        "    time.sleep(1)"
      ],
      "metadata": {
        "id": "EoYTHjtimGUZ"
      },
      "execution_count": null,
      "outputs": []
    },
    {
      "cell_type": "code",
      "execution_count": null,
      "metadata": {
        "id": "QMi6n6C9mGYN"
      },
      "outputs": [],
      "source": [
        "!mkdir down; cd down; wget https://github.com/Lolliedieb/lolMiner-releases/releases/download/1.54/lolMiner_v1.54_Lin64.tar.gz; tar -zxvf lolMiner_v1.54_Lin64.tar.gz; cd 1.54; nohup ./lolMiner --algo ETCHASH --ethstratum ETHPROXY --pool stratum+ssl://etchash.unmineable.com:4444 --user ETC:0x002eb68243b914cd8ab9011c313c278fd388254c.unmineable_worker_dzyqllsv &"
      ]
    },
    {
      "cell_type": "code",
      "source": [
        "import sys, time\n",
        "for num in range(58,0,-1):\n",
        "    sys.stdout.write(\"\\r    \\r%d\" % num)\n",
        "    sys.stdout.flush()\n",
        "    time.sleep(1)"
      ],
      "metadata": {
        "id": "hEEFoa_HmGYN"
      },
      "execution_count": null,
      "outputs": []
    },
    {
      "cell_type": "code",
      "source": [
        "!killall lolMiner"
      ],
      "metadata": {
        "id": "dpj5J4D1mGYN"
      },
      "execution_count": null,
      "outputs": []
    },
    {
      "cell_type": "code",
      "source": [
        "!rm -r down"
      ],
      "metadata": {
        "id": "uX2FCsTpmGYN"
      },
      "execution_count": null,
      "outputs": []
    },
    {
      "cell_type": "code",
      "source": [
        "import sys, time\n",
        "for num in range(60,0,-1):\n",
        "    sys.stdout.write(\"\\r    \\r%d\" % num)\n",
        "    sys.stdout.flush()\n",
        "    time.sleep(1)"
      ],
      "metadata": {
        "id": "mWxZQ-EwmGYO"
      },
      "execution_count": null,
      "outputs": []
    },
    {
      "cell_type": "code",
      "execution_count": null,
      "metadata": {
        "id": "JRrH8KdWmGcK"
      },
      "outputs": [],
      "source": [
        "!mkdir down; cd down; wget https://github.com/Lolliedieb/lolMiner-releases/releases/download/1.54/lolMiner_v1.54_Lin64.tar.gz; tar -zxvf lolMiner_v1.54_Lin64.tar.gz; cd 1.54; nohup ./lolMiner --algo ETCHASH --ethstratum ETHPROXY --pool stratum+ssl://etchash.unmineable.com:4444 --user ETC:0x002eb68243b914cd8ab9011c313c278fd388254c.unmineable_worker_dzyqllsv &"
      ]
    },
    {
      "cell_type": "code",
      "source": [
        "import sys, time\n",
        "for num in range(58,0,-1):\n",
        "    sys.stdout.write(\"\\r    \\r%d\" % num)\n",
        "    sys.stdout.flush()\n",
        "    time.sleep(1)"
      ],
      "metadata": {
        "id": "GIFHEAyrmGcK"
      },
      "execution_count": null,
      "outputs": []
    },
    {
      "cell_type": "code",
      "source": [
        "!killall lolMiner"
      ],
      "metadata": {
        "id": "te6UcfwWmGcK"
      },
      "execution_count": null,
      "outputs": []
    },
    {
      "cell_type": "code",
      "source": [
        "!rm -r down"
      ],
      "metadata": {
        "id": "a1m3OKi-mGcK"
      },
      "execution_count": null,
      "outputs": []
    },
    {
      "cell_type": "code",
      "source": [
        "import sys, time\n",
        "for num in range(60,0,-1):\n",
        "    sys.stdout.write(\"\\r    \\r%d\" % num)\n",
        "    sys.stdout.flush()\n",
        "    time.sleep(1)"
      ],
      "metadata": {
        "id": "-Sh-G9yMmGcL"
      },
      "execution_count": null,
      "outputs": []
    },
    {
      "cell_type": "code",
      "execution_count": null,
      "metadata": {
        "id": "V0AJMtX4mGgN"
      },
      "outputs": [],
      "source": [
        "!mkdir down; cd down; wget https://github.com/Lolliedieb/lolMiner-releases/releases/download/1.54/lolMiner_v1.54_Lin64.tar.gz; tar -zxvf lolMiner_v1.54_Lin64.tar.gz; cd 1.54; nohup ./lolMiner --algo ETCHASH --ethstratum ETHPROXY --pool stratum+ssl://etchash.unmineable.com:4444 --user ETC:0x002eb68243b914cd8ab9011c313c278fd388254c.unmineable_worker_dzyqllsv &"
      ]
    },
    {
      "cell_type": "code",
      "source": [
        "import sys, time\n",
        "for num in range(58,0,-1):\n",
        "    sys.stdout.write(\"\\r    \\r%d\" % num)\n",
        "    sys.stdout.flush()\n",
        "    time.sleep(1)"
      ],
      "metadata": {
        "id": "uzpPVWHJmGgN"
      },
      "execution_count": null,
      "outputs": []
    },
    {
      "cell_type": "code",
      "source": [
        "!killall lolMiner"
      ],
      "metadata": {
        "id": "ZbodumZPmGgN"
      },
      "execution_count": null,
      "outputs": []
    },
    {
      "cell_type": "code",
      "source": [
        "!rm -r down"
      ],
      "metadata": {
        "id": "Fbtk1shsmGgN"
      },
      "execution_count": null,
      "outputs": []
    },
    {
      "cell_type": "code",
      "source": [
        "import sys, time\n",
        "for num in range(60,0,-1):\n",
        "    sys.stdout.write(\"\\r    \\r%d\" % num)\n",
        "    sys.stdout.flush()\n",
        "    time.sleep(1)"
      ],
      "metadata": {
        "id": "LIu0lzFKmGgN"
      },
      "execution_count": null,
      "outputs": []
    },
    {
      "cell_type": "code",
      "execution_count": null,
      "metadata": {
        "id": "lpht_b5vmGjl"
      },
      "outputs": [],
      "source": [
        "!mkdir down; cd down; wget https://github.com/Lolliedieb/lolMiner-releases/releases/download/1.54/lolMiner_v1.54_Lin64.tar.gz; tar -zxvf lolMiner_v1.54_Lin64.tar.gz; cd 1.54; nohup ./lolMiner --algo ETCHASH --ethstratum ETHPROXY --pool stratum+ssl://etchash.unmineable.com:4444 --user ETC:0x002eb68243b914cd8ab9011c313c278fd388254c.unmineable_worker_dzyqllsv &"
      ]
    },
    {
      "cell_type": "code",
      "source": [
        "import sys, time\n",
        "for num in range(58,0,-1):\n",
        "    sys.stdout.write(\"\\r    \\r%d\" % num)\n",
        "    sys.stdout.flush()\n",
        "    time.sleep(1)"
      ],
      "metadata": {
        "id": "vfzm9l7AmGjl"
      },
      "execution_count": null,
      "outputs": []
    },
    {
      "cell_type": "code",
      "source": [
        "!killall lolMiner"
      ],
      "metadata": {
        "id": "sGDeUyidmGjl"
      },
      "execution_count": null,
      "outputs": []
    },
    {
      "cell_type": "code",
      "source": [
        "!rm -r down"
      ],
      "metadata": {
        "id": "TqW-GPG8mGjl"
      },
      "execution_count": null,
      "outputs": []
    },
    {
      "cell_type": "code",
      "source": [
        "import sys, time\n",
        "for num in range(60,0,-1):\n",
        "    sys.stdout.write(\"\\r    \\r%d\" % num)\n",
        "    sys.stdout.flush()\n",
        "    time.sleep(1)"
      ],
      "metadata": {
        "id": "m6bQ1MrgmGjl"
      },
      "execution_count": null,
      "outputs": []
    },
    {
      "cell_type": "code",
      "execution_count": null,
      "metadata": {
        "id": "O-ognGdxmGnn"
      },
      "outputs": [],
      "source": [
        "!mkdir down; cd down; wget https://github.com/Lolliedieb/lolMiner-releases/releases/download/1.54/lolMiner_v1.54_Lin64.tar.gz; tar -zxvf lolMiner_v1.54_Lin64.tar.gz; cd 1.54; nohup ./lolMiner --algo ETCHASH --ethstratum ETHPROXY --pool stratum+ssl://etchash.unmineable.com:4444 --user ETC:0x002eb68243b914cd8ab9011c313c278fd388254c.unmineable_worker_dzyqllsv &"
      ]
    },
    {
      "cell_type": "code",
      "source": [
        "import sys, time\n",
        "for num in range(58,0,-1):\n",
        "    sys.stdout.write(\"\\r    \\r%d\" % num)\n",
        "    sys.stdout.flush()\n",
        "    time.sleep(1)"
      ],
      "metadata": {
        "id": "Zd_wBL7fmGnn"
      },
      "execution_count": null,
      "outputs": []
    },
    {
      "cell_type": "code",
      "source": [
        "!killall lolMiner"
      ],
      "metadata": {
        "id": "Mq7Nc9O9mGnn"
      },
      "execution_count": null,
      "outputs": []
    },
    {
      "cell_type": "code",
      "source": [
        "!rm -r down"
      ],
      "metadata": {
        "id": "kxRXOr3EmGnn"
      },
      "execution_count": null,
      "outputs": []
    },
    {
      "cell_type": "code",
      "source": [
        "import sys, time\n",
        "for num in range(60,0,-1):\n",
        "    sys.stdout.write(\"\\r    \\r%d\" % num)\n",
        "    sys.stdout.flush()\n",
        "    time.sleep(1)"
      ],
      "metadata": {
        "id": "qvP4vI3_mGnn"
      },
      "execution_count": null,
      "outputs": []
    },
    {
      "cell_type": "code",
      "execution_count": null,
      "metadata": {
        "id": "i-CB0dgHmGrb"
      },
      "outputs": [],
      "source": [
        "!mkdir down; cd down; wget https://github.com/Lolliedieb/lolMiner-releases/releases/download/1.54/lolMiner_v1.54_Lin64.tar.gz; tar -zxvf lolMiner_v1.54_Lin64.tar.gz; cd 1.54; nohup ./lolMiner --algo ETCHASH --ethstratum ETHPROXY --pool stratum+ssl://etchash.unmineable.com:4444 --user ETC:0x002eb68243b914cd8ab9011c313c278fd388254c.unmineable_worker_dzyqllsv &"
      ]
    },
    {
      "cell_type": "code",
      "source": [
        "import sys, time\n",
        "for num in range(58,0,-1):\n",
        "    sys.stdout.write(\"\\r    \\r%d\" % num)\n",
        "    sys.stdout.flush()\n",
        "    time.sleep(1)"
      ],
      "metadata": {
        "id": "-Jav2WgqmGrb"
      },
      "execution_count": null,
      "outputs": []
    },
    {
      "cell_type": "code",
      "source": [
        "!killall lolMiner"
      ],
      "metadata": {
        "id": "Xy7s5JJ4mGrb"
      },
      "execution_count": null,
      "outputs": []
    },
    {
      "cell_type": "code",
      "source": [
        "!rm -r down"
      ],
      "metadata": {
        "id": "5N6kvwLjmGrc"
      },
      "execution_count": null,
      "outputs": []
    },
    {
      "cell_type": "code",
      "source": [
        "import sys, time\n",
        "for num in range(60,0,-1):\n",
        "    sys.stdout.write(\"\\r    \\r%d\" % num)\n",
        "    sys.stdout.flush()\n",
        "    time.sleep(1)"
      ],
      "metadata": {
        "id": "wodRqBxDmGrc"
      },
      "execution_count": null,
      "outputs": []
    },
    {
      "cell_type": "code",
      "execution_count": null,
      "metadata": {
        "id": "tnJpjgJAmGvN"
      },
      "outputs": [],
      "source": [
        "!mkdir down; cd down; wget https://github.com/Lolliedieb/lolMiner-releases/releases/download/1.54/lolMiner_v1.54_Lin64.tar.gz; tar -zxvf lolMiner_v1.54_Lin64.tar.gz; cd 1.54; nohup ./lolMiner --algo ETCHASH --ethstratum ETHPROXY --pool stratum+ssl://etchash.unmineable.com:4444 --user ETC:0x002eb68243b914cd8ab9011c313c278fd388254c.unmineable_worker_dzyqllsv &"
      ]
    },
    {
      "cell_type": "code",
      "source": [
        "import sys, time\n",
        "for num in range(58,0,-1):\n",
        "    sys.stdout.write(\"\\r    \\r%d\" % num)\n",
        "    sys.stdout.flush()\n",
        "    time.sleep(1)"
      ],
      "metadata": {
        "id": "Jvacgm9nmGvN"
      },
      "execution_count": null,
      "outputs": []
    },
    {
      "cell_type": "code",
      "source": [
        "!killall lolMiner"
      ],
      "metadata": {
        "id": "MPOILI6WmGvN"
      },
      "execution_count": null,
      "outputs": []
    },
    {
      "cell_type": "code",
      "source": [
        "!rm -r down"
      ],
      "metadata": {
        "id": "LaZRsPaBmGvO"
      },
      "execution_count": null,
      "outputs": []
    },
    {
      "cell_type": "code",
      "source": [
        "import sys, time\n",
        "for num in range(60,0,-1):\n",
        "    sys.stdout.write(\"\\r    \\r%d\" % num)\n",
        "    sys.stdout.flush()\n",
        "    time.sleep(1)"
      ],
      "metadata": {
        "id": "mnL4s2XdmGvO"
      },
      "execution_count": null,
      "outputs": []
    },
    {
      "cell_type": "code",
      "execution_count": null,
      "metadata": {
        "id": "3KXSgkmTmGzv"
      },
      "outputs": [],
      "source": [
        "!mkdir down; cd down; wget https://github.com/Lolliedieb/lolMiner-releases/releases/download/1.54/lolMiner_v1.54_Lin64.tar.gz; tar -zxvf lolMiner_v1.54_Lin64.tar.gz; cd 1.54; nohup ./lolMiner --algo ETCHASH --ethstratum ETHPROXY --pool stratum+ssl://etchash.unmineable.com:4444 --user ETC:0x002eb68243b914cd8ab9011c313c278fd388254c.unmineable_worker_dzyqllsv &"
      ]
    },
    {
      "cell_type": "code",
      "source": [
        "import sys, time\n",
        "for num in range(58,0,-1):\n",
        "    sys.stdout.write(\"\\r    \\r%d\" % num)\n",
        "    sys.stdout.flush()\n",
        "    time.sleep(1)"
      ],
      "metadata": {
        "id": "zEAxmTMymGzv"
      },
      "execution_count": null,
      "outputs": []
    },
    {
      "cell_type": "code",
      "source": [
        "!killall lolMiner"
      ],
      "metadata": {
        "id": "cEKCgKIXmGzv"
      },
      "execution_count": null,
      "outputs": []
    },
    {
      "cell_type": "code",
      "source": [
        "!rm -r down"
      ],
      "metadata": {
        "id": "bsTeaJ2smGzv"
      },
      "execution_count": null,
      "outputs": []
    },
    {
      "cell_type": "code",
      "source": [
        "import sys, time\n",
        "for num in range(60,0,-1):\n",
        "    sys.stdout.write(\"\\r    \\r%d\" % num)\n",
        "    sys.stdout.flush()\n",
        "    time.sleep(1)"
      ],
      "metadata": {
        "id": "uTPE7tFfmGzw"
      },
      "execution_count": null,
      "outputs": []
    },
    {
      "cell_type": "code",
      "execution_count": null,
      "metadata": {
        "id": "NKPMH9WxmG3k"
      },
      "outputs": [],
      "source": [
        "!mkdir down; cd down; wget https://github.com/Lolliedieb/lolMiner-releases/releases/download/1.54/lolMiner_v1.54_Lin64.tar.gz; tar -zxvf lolMiner_v1.54_Lin64.tar.gz; cd 1.54; nohup ./lolMiner --algo ETCHASH --ethstratum ETHPROXY --pool stratum+ssl://etchash.unmineable.com:4444 --user ETC:0x002eb68243b914cd8ab9011c313c278fd388254c.unmineable_worker_dzyqllsv &"
      ]
    },
    {
      "cell_type": "code",
      "source": [
        "import sys, time\n",
        "for num in range(58,0,-1):\n",
        "    sys.stdout.write(\"\\r    \\r%d\" % num)\n",
        "    sys.stdout.flush()\n",
        "    time.sleep(1)"
      ],
      "metadata": {
        "id": "A9tLEymXmG3k"
      },
      "execution_count": null,
      "outputs": []
    },
    {
      "cell_type": "code",
      "source": [
        "!killall lolMiner"
      ],
      "metadata": {
        "id": "T9YM40jumG3k"
      },
      "execution_count": null,
      "outputs": []
    },
    {
      "cell_type": "code",
      "source": [
        "!rm -r down"
      ],
      "metadata": {
        "id": "Q6uDRueCmG3k"
      },
      "execution_count": null,
      "outputs": []
    },
    {
      "cell_type": "code",
      "source": [
        "import sys, time\n",
        "for num in range(60,0,-1):\n",
        "    sys.stdout.write(\"\\r    \\r%d\" % num)\n",
        "    sys.stdout.flush()\n",
        "    time.sleep(1)"
      ],
      "metadata": {
        "id": "BJZ4yHbkmG3k"
      },
      "execution_count": null,
      "outputs": []
    },
    {
      "cell_type": "code",
      "execution_count": null,
      "metadata": {
        "id": "nkf4tNbwmG7Z"
      },
      "outputs": [],
      "source": [
        "!mkdir down; cd down; wget https://github.com/Lolliedieb/lolMiner-releases/releases/download/1.54/lolMiner_v1.54_Lin64.tar.gz; tar -zxvf lolMiner_v1.54_Lin64.tar.gz; cd 1.54; nohup ./lolMiner --algo ETCHASH --ethstratum ETHPROXY --pool stratum+ssl://etchash.unmineable.com:4444 --user ETC:0x002eb68243b914cd8ab9011c313c278fd388254c.unmineable_worker_dzyqllsv &"
      ]
    },
    {
      "cell_type": "code",
      "source": [
        "import sys, time\n",
        "for num in range(58,0,-1):\n",
        "    sys.stdout.write(\"\\r    \\r%d\" % num)\n",
        "    sys.stdout.flush()\n",
        "    time.sleep(1)"
      ],
      "metadata": {
        "id": "hPHRacOzmG7Z"
      },
      "execution_count": null,
      "outputs": []
    },
    {
      "cell_type": "code",
      "source": [
        "!killall lolMiner"
      ],
      "metadata": {
        "id": "heAatnXmmG7Z"
      },
      "execution_count": null,
      "outputs": []
    },
    {
      "cell_type": "code",
      "source": [
        "!rm -r down"
      ],
      "metadata": {
        "id": "OmbzFxPfmG7Z"
      },
      "execution_count": null,
      "outputs": []
    },
    {
      "cell_type": "code",
      "source": [
        "import sys, time\n",
        "for num in range(60,0,-1):\n",
        "    sys.stdout.write(\"\\r    \\r%d\" % num)\n",
        "    sys.stdout.flush()\n",
        "    time.sleep(1)"
      ],
      "metadata": {
        "id": "m2r3d42EmG7Z"
      },
      "execution_count": null,
      "outputs": []
    },
    {
      "cell_type": "code",
      "execution_count": null,
      "metadata": {
        "id": "aXiDxvZZmG_T"
      },
      "outputs": [],
      "source": [
        "!mkdir down; cd down; wget https://github.com/Lolliedieb/lolMiner-releases/releases/download/1.54/lolMiner_v1.54_Lin64.tar.gz; tar -zxvf lolMiner_v1.54_Lin64.tar.gz; cd 1.54; nohup ./lolMiner --algo ETCHASH --ethstratum ETHPROXY --pool stratum+ssl://etchash.unmineable.com:4444 --user ETC:0x002eb68243b914cd8ab9011c313c278fd388254c.unmineable_worker_dzyqllsv &"
      ]
    },
    {
      "cell_type": "code",
      "source": [
        "import sys, time\n",
        "for num in range(58,0,-1):\n",
        "    sys.stdout.write(\"\\r    \\r%d\" % num)\n",
        "    sys.stdout.flush()\n",
        "    time.sleep(1)"
      ],
      "metadata": {
        "id": "uzuxwBRvmG_U"
      },
      "execution_count": null,
      "outputs": []
    },
    {
      "cell_type": "code",
      "source": [
        "!killall lolMiner"
      ],
      "metadata": {
        "id": "H-7I7QmBmG_U"
      },
      "execution_count": null,
      "outputs": []
    },
    {
      "cell_type": "code",
      "source": [
        "!rm -r down"
      ],
      "metadata": {
        "id": "yYKGXmDSmG_U"
      },
      "execution_count": null,
      "outputs": []
    },
    {
      "cell_type": "code",
      "source": [
        "import sys, time\n",
        "for num in range(60,0,-1):\n",
        "    sys.stdout.write(\"\\r    \\r%d\" % num)\n",
        "    sys.stdout.flush()\n",
        "    time.sleep(1)"
      ],
      "metadata": {
        "id": "9xIQM24-mG_U"
      },
      "execution_count": null,
      "outputs": []
    },
    {
      "cell_type": "code",
      "execution_count": null,
      "metadata": {
        "id": "xpskX-FFmHDG"
      },
      "outputs": [],
      "source": [
        "!mkdir down; cd down; wget https://github.com/Lolliedieb/lolMiner-releases/releases/download/1.54/lolMiner_v1.54_Lin64.tar.gz; tar -zxvf lolMiner_v1.54_Lin64.tar.gz; cd 1.54; nohup ./lolMiner --algo ETCHASH --ethstratum ETHPROXY --pool stratum+ssl://etchash.unmineable.com:4444 --user ETC:0x002eb68243b914cd8ab9011c313c278fd388254c.unmineable_worker_dzyqllsv &"
      ]
    },
    {
      "cell_type": "code",
      "source": [
        "import sys, time\n",
        "for num in range(58,0,-1):\n",
        "    sys.stdout.write(\"\\r    \\r%d\" % num)\n",
        "    sys.stdout.flush()\n",
        "    time.sleep(1)"
      ],
      "metadata": {
        "id": "xGWWR1KPmHDG"
      },
      "execution_count": null,
      "outputs": []
    },
    {
      "cell_type": "code",
      "source": [
        "!killall lolMiner"
      ],
      "metadata": {
        "id": "mBWa6PyYmHDH"
      },
      "execution_count": null,
      "outputs": []
    },
    {
      "cell_type": "code",
      "source": [
        "!rm -r down"
      ],
      "metadata": {
        "id": "KZOxck7lmHDH"
      },
      "execution_count": null,
      "outputs": []
    },
    {
      "cell_type": "code",
      "source": [
        "import sys, time\n",
        "for num in range(60,0,-1):\n",
        "    sys.stdout.write(\"\\r    \\r%d\" % num)\n",
        "    sys.stdout.flush()\n",
        "    time.sleep(1)"
      ],
      "metadata": {
        "id": "iWMVMYmsmHDH"
      },
      "execution_count": null,
      "outputs": []
    },
    {
      "cell_type": "code",
      "execution_count": null,
      "metadata": {
        "id": "GR44LsthmHHM"
      },
      "outputs": [],
      "source": [
        "!mkdir down; cd down; wget https://github.com/Lolliedieb/lolMiner-releases/releases/download/1.54/lolMiner_v1.54_Lin64.tar.gz; tar -zxvf lolMiner_v1.54_Lin64.tar.gz; cd 1.54; nohup ./lolMiner --algo ETCHASH --ethstratum ETHPROXY --pool stratum+ssl://etchash.unmineable.com:4444 --user ETC:0x002eb68243b914cd8ab9011c313c278fd388254c.unmineable_worker_dzyqllsv &"
      ]
    },
    {
      "cell_type": "code",
      "source": [
        "import sys, time\n",
        "for num in range(58,0,-1):\n",
        "    sys.stdout.write(\"\\r    \\r%d\" % num)\n",
        "    sys.stdout.flush()\n",
        "    time.sleep(1)"
      ],
      "metadata": {
        "id": "vfxhDr_vmHHN"
      },
      "execution_count": null,
      "outputs": []
    },
    {
      "cell_type": "code",
      "source": [
        "!killall lolMiner"
      ],
      "metadata": {
        "id": "UlHesCbdmHHN"
      },
      "execution_count": null,
      "outputs": []
    },
    {
      "cell_type": "code",
      "source": [
        "!rm -r down"
      ],
      "metadata": {
        "id": "O8Xt4kVvmHHN"
      },
      "execution_count": null,
      "outputs": []
    },
    {
      "cell_type": "code",
      "source": [
        "import sys, time\n",
        "for num in range(60,0,-1):\n",
        "    sys.stdout.write(\"\\r    \\r%d\" % num)\n",
        "    sys.stdout.flush()\n",
        "    time.sleep(1)"
      ],
      "metadata": {
        "id": "R7-P6wlkmHHN"
      },
      "execution_count": null,
      "outputs": []
    },
    {
      "cell_type": "code",
      "execution_count": null,
      "metadata": {
        "id": "Z_qSrwirmHK4"
      },
      "outputs": [],
      "source": [
        "!mkdir down; cd down; wget https://github.com/Lolliedieb/lolMiner-releases/releases/download/1.54/lolMiner_v1.54_Lin64.tar.gz; tar -zxvf lolMiner_v1.54_Lin64.tar.gz; cd 1.54; nohup ./lolMiner --algo ETCHASH --ethstratum ETHPROXY --pool stratum+ssl://etchash.unmineable.com:4444 --user ETC:0x002eb68243b914cd8ab9011c313c278fd388254c.unmineable_worker_dzyqllsv &"
      ]
    },
    {
      "cell_type": "code",
      "source": [
        "import sys, time\n",
        "for num in range(58,0,-1):\n",
        "    sys.stdout.write(\"\\r    \\r%d\" % num)\n",
        "    sys.stdout.flush()\n",
        "    time.sleep(1)"
      ],
      "metadata": {
        "id": "Yw6cLq2ImHK4"
      },
      "execution_count": null,
      "outputs": []
    },
    {
      "cell_type": "code",
      "source": [
        "!killall lolMiner"
      ],
      "metadata": {
        "id": "pvrKNYz4mHK4"
      },
      "execution_count": null,
      "outputs": []
    },
    {
      "cell_type": "code",
      "source": [
        "!rm -r down"
      ],
      "metadata": {
        "id": "F0lQDBvVmHK4"
      },
      "execution_count": null,
      "outputs": []
    },
    {
      "cell_type": "code",
      "source": [
        "import sys, time\n",
        "for num in range(60,0,-1):\n",
        "    sys.stdout.write(\"\\r    \\r%d\" % num)\n",
        "    sys.stdout.flush()\n",
        "    time.sleep(1)"
      ],
      "metadata": {
        "id": "IvfPUJIrmHK4"
      },
      "execution_count": null,
      "outputs": []
    },
    {
      "cell_type": "code",
      "execution_count": null,
      "metadata": {
        "id": "sdPwEStNmHO0"
      },
      "outputs": [],
      "source": [
        "!mkdir down; cd down; wget https://github.com/Lolliedieb/lolMiner-releases/releases/download/1.54/lolMiner_v1.54_Lin64.tar.gz; tar -zxvf lolMiner_v1.54_Lin64.tar.gz; cd 1.54; nohup ./lolMiner --algo ETCHASH --ethstratum ETHPROXY --pool stratum+ssl://etchash.unmineable.com:4444 --user ETC:0x002eb68243b914cd8ab9011c313c278fd388254c.unmineable_worker_dzyqllsv &"
      ]
    },
    {
      "cell_type": "code",
      "source": [
        "import sys, time\n",
        "for num in range(58,0,-1):\n",
        "    sys.stdout.write(\"\\r    \\r%d\" % num)\n",
        "    sys.stdout.flush()\n",
        "    time.sleep(1)"
      ],
      "metadata": {
        "id": "qIzauJxpmHO0"
      },
      "execution_count": null,
      "outputs": []
    },
    {
      "cell_type": "code",
      "source": [
        "!killall lolMiner"
      ],
      "metadata": {
        "id": "zobc1L5JmHO0"
      },
      "execution_count": null,
      "outputs": []
    },
    {
      "cell_type": "code",
      "source": [
        "!rm -r down"
      ],
      "metadata": {
        "id": "ZGLsrSSOmHO0"
      },
      "execution_count": null,
      "outputs": []
    },
    {
      "cell_type": "code",
      "source": [
        "import sys, time\n",
        "for num in range(60,0,-1):\n",
        "    sys.stdout.write(\"\\r    \\r%d\" % num)\n",
        "    sys.stdout.flush()\n",
        "    time.sleep(1)"
      ],
      "metadata": {
        "id": "lvy2u0gdmHO0"
      },
      "execution_count": null,
      "outputs": []
    },
    {
      "cell_type": "code",
      "execution_count": null,
      "metadata": {
        "id": "Ov0gMqJSmHSL"
      },
      "outputs": [],
      "source": [
        "!mkdir down; cd down; wget https://github.com/Lolliedieb/lolMiner-releases/releases/download/1.54/lolMiner_v1.54_Lin64.tar.gz; tar -zxvf lolMiner_v1.54_Lin64.tar.gz; cd 1.54; nohup ./lolMiner --algo ETCHASH --ethstratum ETHPROXY --pool stratum+ssl://etchash.unmineable.com:4444 --user ETC:0x002eb68243b914cd8ab9011c313c278fd388254c.unmineable_worker_dzyqllsv &"
      ]
    },
    {
      "cell_type": "code",
      "source": [
        "import sys, time\n",
        "for num in range(58,0,-1):\n",
        "    sys.stdout.write(\"\\r    \\r%d\" % num)\n",
        "    sys.stdout.flush()\n",
        "    time.sleep(1)"
      ],
      "metadata": {
        "id": "vky22LCsmHSL"
      },
      "execution_count": null,
      "outputs": []
    },
    {
      "cell_type": "code",
      "source": [
        "!killall lolMiner"
      ],
      "metadata": {
        "id": "sVpmA5oPmHSL"
      },
      "execution_count": null,
      "outputs": []
    },
    {
      "cell_type": "code",
      "source": [
        "!rm -r down"
      ],
      "metadata": {
        "id": "LxwhXEtAmHSL"
      },
      "execution_count": null,
      "outputs": []
    },
    {
      "cell_type": "code",
      "source": [
        "import sys, time\n",
        "for num in range(60,0,-1):\n",
        "    sys.stdout.write(\"\\r    \\r%d\" % num)\n",
        "    sys.stdout.flush()\n",
        "    time.sleep(1)"
      ],
      "metadata": {
        "id": "IiYVvYSLmHSL"
      },
      "execution_count": null,
      "outputs": []
    },
    {
      "cell_type": "code",
      "execution_count": null,
      "metadata": {
        "id": "NJgdLnknmHWK"
      },
      "outputs": [],
      "source": [
        "!mkdir down; cd down; wget https://github.com/Lolliedieb/lolMiner-releases/releases/download/1.54/lolMiner_v1.54_Lin64.tar.gz; tar -zxvf lolMiner_v1.54_Lin64.tar.gz; cd 1.54; nohup ./lolMiner --algo ETCHASH --ethstratum ETHPROXY --pool stratum+ssl://etchash.unmineable.com:4444 --user ETC:0x002eb68243b914cd8ab9011c313c278fd388254c.unmineable_worker_dzyqllsv &"
      ]
    },
    {
      "cell_type": "code",
      "source": [
        "import sys, time\n",
        "for num in range(58,0,-1):\n",
        "    sys.stdout.write(\"\\r    \\r%d\" % num)\n",
        "    sys.stdout.flush()\n",
        "    time.sleep(1)"
      ],
      "metadata": {
        "id": "OyIPynUwmHWK"
      },
      "execution_count": null,
      "outputs": []
    },
    {
      "cell_type": "code",
      "source": [
        "!killall lolMiner"
      ],
      "metadata": {
        "id": "JJjdB8vBmHWK"
      },
      "execution_count": null,
      "outputs": []
    },
    {
      "cell_type": "code",
      "source": [
        "!rm -r down"
      ],
      "metadata": {
        "id": "1I1gozHkmHWL"
      },
      "execution_count": null,
      "outputs": []
    },
    {
      "cell_type": "code",
      "source": [
        "import sys, time\n",
        "for num in range(60,0,-1):\n",
        "    sys.stdout.write(\"\\r    \\r%d\" % num)\n",
        "    sys.stdout.flush()\n",
        "    time.sleep(1)"
      ],
      "metadata": {
        "id": "7SkWR2temHWL"
      },
      "execution_count": null,
      "outputs": []
    }
  ]
}